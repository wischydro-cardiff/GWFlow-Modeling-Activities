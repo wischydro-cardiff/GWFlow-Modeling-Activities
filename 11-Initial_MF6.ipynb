{
 "cells": [
  {
   "cell_type": "markdown",
   "id": "49836592-006b-4bdd-9698-72c1f28738ec",
   "metadata": {
    "editable": true,
    "slideshow": {
     "slide_type": ""
    },
    "tags": []
   },
   "source": [
    "# MODFLOW6 modeling with FloPy (Steady State)"
   ]
  },
  {
   "cell_type": "markdown",
   "id": "0cf1711c-7aef-4637-bdc9-8968b79fa84c",
   "metadata": {},
   "source": [
    "In this notebook, we will introduce the new modularization concepts of MODFLOW6 and demonstrate how the FloPy interface can be used to create, run, and visualize results from a basic model. In the process, we'll see how interaction between FloPy and MODFLOW6 differs from interactions with pre-MODFLOW6 models."
   ]
  },
  {
   "cell_type": "markdown",
   "id": "8b60d3e9-9a6e-4bce-968d-a786616ac605",
   "metadata": {},
   "source": [
    "## Learning Objectives"
   ]
  },
  {
   "cell_type": "markdown",
   "id": "9dc27b78-cf03-442b-9220-5db2ccac563d",
   "metadata": {
    "editable": true,
    "slideshow": {
     "slide_type": ""
    },
    "tags": []
   },
   "source": [
    "After you have read and run this notebook, you should be able to:\n",
    "* Describe the modular structure used in MODFLOW6, and the necessary inputs to create a well-defined steady-state model.\n",
    "* Apply FloPy utilities to visualize, debug, and verify MODFLOW6 model inputs.\n",
    "* Create a complete set of input files needed for a MODFLOW6 model to run successfully.\n",
    "* Use data extraction and post-processing routines to visualize model results and apply \"hydrosense\""
   ]
  },
  {
   "cell_type": "markdown",
   "id": "1e12cf81-281d-4df3-905a-aef1f2f45cbd",
   "metadata": {},
   "source": [
    "## Initial Setup"
   ]
  },
  {
   "cell_type": "markdown",
   "id": "135979fc-f87b-4598-81a9-7c9a5fa1afd7",
   "metadata": {},
   "source": [
    "For this notebook, we will import flopy and also define shortcuts to the `flopy.discretization` module as `fpd`.\n",
    "\n",
    "To simplify plotting later in the notebook, we also define a function `combined_gridplot` which produces both a cross-section and map view of the model area, similar to what is viewable in Groundwater Vistas. The function returns handles to the figure object, subplot axes objects, and graphics objects so that you can further modify the plots with later commands. As you go through the class, you may consider using `combined_gridplot` as a template to build more sophisticated visualizations of your model grid."
   ]
  },
  {
   "cell_type": "code",
   "execution_count": 1,
   "id": "15087d35-d95f-4112-8fc5-1a8b99d8fa01",
   "metadata": {},
   "outputs": [],
   "source": [
    "import flopy\n",
    "import flopy.utils as fpu\n",
    "import flopy.discretization as fpd\n",
    "\n",
    "#TODO: I'd prefer not to do this. Why doesn't explicit work?\n",
    "from flopy.utils.triangle import Triangle\n",
    "from flopy.utils.voronoi import VoronoiGrid\n",
    "from flopy.utils.gridgen import Gridgen\n",
    "\n",
    "import numpy as np\n",
    "import matplotlib.pyplot as plt\n",
    "import os\n",
    "\n",
    "def combined_gridplot(modelgrid_in,cross_type=\"row\", cross_num=0,vert_exag=1):\n",
    "    fig, axs = plt.subplots(nrows=2,ncols=1,figsize=(5,5),height_ratios=[0.2,1])\n",
    "\n",
    "    try:\n",
    "        axs[0].set_aspect(vert_exag)\n",
    "        pcr = flopy.plot.PlotCrossSection(modelgrid=modelgrid_in, ax=axs[0], line={cross_type: cross_num}, geographic_coords=True)\n",
    "        pcr.plot_grid(lw=0.5)\n",
    "        if cross_type==\"row\":\n",
    "            axs[0].set_xlabel('x')\n",
    "        elif cross_type==\"column\":\n",
    "            axs[0].set_xlabel('y')\n",
    "        axs[0].set_ylabel('z')\n",
    "        axs[0].set_title(f'Cross-section through {cross_type} {cross_num}, Vertical Exag = {vert_exag}')\n",
    "    except:\n",
    "        print('Cross-section could not be generated. Check inputs')\n",
    "        pcr = None\n",
    "    \n",
    "    axs[1].set_aspect(1)\n",
    "    pmv = flopy.plot.PlotMapView(modelgrid=modelgrid_in, ax=axs[1])\n",
    "    pmv.plot_grid(lw=0.5)\n",
    "    axs[1].set_xlabel('x')\n",
    "    axs[1].set_ylabel('y')\n",
    "    axs[1].set_title(modelgrid_in)\n",
    "    return fig, axs, [pcr, pmv]\n"
   ]
  },
  {
   "cell_type": "markdown",
   "id": "e66eab6a-adaa-4ea3-9758-8a0f841a1d13",
   "metadata": {},
   "source": [
    "# Building the model inputs with FloPy "
   ]
  },
  {
   "cell_type": "markdown",
   "id": "a778d1e3-460b-44fa-977e-d21cd22c1a9c",
   "metadata": {},
   "source": [
    "## Step 1: Create the simulation object and associated Solver and Timing module inputs"
   ]
  },
  {
   "cell_type": "markdown",
   "id": "2f5ddbfe-1410-45e7-bf08-05d48a8a8b45",
   "metadata": {},
   "source": [
    "A first key difference between MODFLOW 6 and other versions of MODFLOW is that it is designed around the paradigm of connecting multiple models together. At the highest level, a `simulation` object defines the set of models that will be run by MODFLOW6. This simulation object can contain multiple models, coupled via \"exchanges\" between individual models. The simulation - including all models contained within it - is solved by a defined solver (currently the Iterative Model Solution (IMS) module is the only one supported). In addition, all models use a consistent time discretization which is specified by the Time Discretization (TDIS) module.\n",
    "\n",
    "Beneath the simulation object, one or a series of models is created and coupled to other models via model exchanges. The model can be for simulating Groundwater Flow (GWF), or - more recently - other processes such as solute transport via the Groundwater Transport (GWT) model, or transport of energy via the Groundwater Energy (GWE) model. Each model contains its own packages for simulating different stresses.\n",
    "\n",
    "The generalized heirarchy for MODFLOW 6 is thus:\n",
    "* **Simulation** (Top level object), which contains\n",
    "    * Solver module used\n",
    "    * Timing module used\n",
    "    * An **exchange object** for defining exchange (of water in this case) between multiple models\n",
    "    * One or more **models**, with associated package inputs for example:\n",
    "    * 1. A GWF model, containing:\n",
    "        * A discretization package for the model\n",
    "        * Stress packages for the model\n",
    "    * 2. A second GWF model, containing:\n",
    "        * A discretization package for the model\n",
    "        * Stress packages for the model\n",
    "\n",
    "(Note that below, our first MODFLOW 6 model will consist of only a single model, therefore no model exchanges need to be defined.)\n",
    "\n",
    "Because MODFLOW6 is so different from pre-MODFLOW6 implementations, the methods for interacting with MODFLOW are contained in a different set of subpackages within FloPy. To interact with pre-MODFLOW6 models, we used `flopy.modflow` and associated subpackages. With MODFLOW6 models, we use `flopy.mf6`."
   ]
  },
  {
   "cell_type": "code",
   "execution_count": 2,
   "id": "5c586b36-9f88-4fa3-8fdf-3b7d9003d6bd",
   "metadata": {},
   "outputs": [],
   "source": [
    "#We will put the model files in a subdirectory under our \"models\" directory.\n",
    "#The model_nm variable sets the filenames for all package inputs\n",
    "model_dir = os.path.join('.','models','mf6init')\n",
    "model_nm = \"mf6init\"\n",
    "\n",
    "#STEP 1: CREATE THE SIMULATION OBJECT AS WELL AS THE SOLVER (IMS) OBJECT\n",
    "#AND TIME DISCRETIZATION (TDIS) OBJECT\n",
    "sim = flopy.mf6.MFSimulation(sim_name=model_nm, sim_ws=model_dir)\n",
    "tdis = flopy.mf6.ModflowTdis(sim,time_units=\"days\")"
   ]
  },
  {
   "cell_type": "markdown",
   "id": "9e3a4ca4-708a-4730-bc45-fa829db56402",
   "metadata": {},
   "source": [
    "## Step 2: Defining the Groundwater Flow (GWF) model and discretization"
   ]
  },
  {
   "cell_type": "markdown",
   "id": "d436a37d-9b05-45bf-a0d5-815cf507ee54",
   "metadata": {},
   "source": [
    "It is possible to create discretization information directly after creating a Groundwater Flow (GWF) model directly. For MODFLOW6, there are three options for GWF model grids, including \"standard\" rectangular grids (DIS), discretization by vertices (DISV), and fully unstructured grids (DISU). These grids can be created directly by inputs to `flopy.mf6.ModflowGwfdis`, `flopy.mf6.ModflowGwfdisv` and `flopy.mf6.ModflowGwfdisu`, respectively, but again doing so is **strongly discouraged!**. \n",
    "\n",
    "Instead, FloPy's discretization module provides a consistent way to create and store information about Structured, Vertex-based , and Unstructured grids. **It is always a good idea** to use `flopy.discretization` first to create a separate modelgrid object. \n"
   ]
  },
  {
   "cell_type": "code",
   "execution_count": 3,
   "id": "b94b5438-ff9b-4246-bab7-27a98760870e",
   "metadata": {},
   "outputs": [
    {
     "name": "stdout",
     "output_type": "stream",
     "text": [
      "Grid Valid   :  True\n",
      "Grid Complete:  True\n"
     ]
    },
    {
     "data": {
      "image/png": "[encoded data removed]",
      "text/plain": [
       "<Figure size 500x500 with 2 Axes>"
      ]
     },
     "metadata": {},
     "output_type": "display_data"
    }
   ],
   "source": [
    "#STEP 2A: CREATE THE MODELGRID OBJECT\n",
    "\n",
    "#User definition of the grid boundaries and setup, from earlier.\n",
    "xb = np.concatenate((np.arange(2000,3200,200), \n",
    "                    np.arange(3200,3450,50), \n",
    "                    np.arange(3450,3650,20), \n",
    "                    np.arange(3650,3800,50),\n",
    "                    np.arange(3800,5000+.1,100)),0)\n",
    "yb = np.concatenate((np.arange(1500,3000,100),\n",
    "                     np.arange(3000,3300,50),\n",
    "                     np.arange(3300,3500,20),\n",
    "                     np.arange(3500,3700,50),\n",
    "                     np.arange(3700,4500+.1,200)),0)[::-1]\n",
    "xm = (xb[0:(len(xb)-1)] + xb[1:(len(xb))])/2\n",
    "ym = (yb[0:(len(yb)-1)] + yb[1:(len(yb))])/2\n",
    "xmg, ymg = np.meshgrid(xm,ym)\n",
    "\n",
    "#Define units for the numbers above\n",
    "units = 'm'\n",
    "\n",
    "#Define some sloping planes based on functions evaluated at cell center coordinates\n",
    "top = 50 - 0.0005*(xmg - 2000) + 0.001*(ymg - 1500)\n",
    "botmlay0 = 20 + 0.0005*(xmg - 2000) + 0.001*(ymg - 1500)\n",
    "botmlay1 = 19 - 0.0005*(xmg - 2000) - 0.001*(ymg - 1500)\n",
    "botmlay2 = 0 + 0.001*(xmg - 2000) + 0.001*(ymg - 1500)\n",
    "\n",
    "#Calculate the inputs, in MODFLOW / FloPy-speak\n",
    "#find lower-left x coordinate, and calculate step size, left to right\n",
    "xoff = xb[0]\n",
    "delr = np.diff(xb)\n",
    "ncol = delr.shape[0]\n",
    "#find lower-left coordinate, and calculate step size from top to bottom\n",
    "yoff = yb[-1]\n",
    "delc = -np.diff(yb)\n",
    "nrow = delc.shape[0]\n",
    "\n",
    "botm = np.stack((botmlay0,botmlay1, botmlay2),0)\n",
    "nlay = botm.shape[0]\n",
    "ibound = np.ones((nlay, nrow, ncol))\n",
    "\n",
    "modelgrid = fpd.StructuredGrid(\n",
    "    delc=delc,\n",
    "    delr=delr,\n",
    "    top=top,\n",
    "    botm=botm,\n",
    "    idomain=ibound,\n",
    "    xoff=xoff,\n",
    "    yoff=yoff,\n",
    "    lenuni=units,\n",
    "    angrot=0,\n",
    ")\n",
    "\n",
    "print('Grid Valid   : ',modelgrid.is_valid)\n",
    "print('Grid Complete: ',modelgrid.is_complete)\n",
    "\n",
    "#Plot using our built-in function\n",
    "fig, axs, plots = combined_gridplot(modelgrid,cross_type=\"row\",cross_num=5,vert_exag=20)"
   ]
  },
  {
   "cell_type": "code",
   "execution_count": 4,
   "id": "dfd1ca27-75f1-479b-bed9-35194e907309",
   "metadata": {},
   "outputs": [],
   "source": [
    "#STEP 2B: CREATE THE GWF OBJECT, AND ADD A DIS PACKAGE BY APPLYING PROPERTIES\n",
    "#FROM THE MODELGRID OBJECT\n",
    "\n",
    "gwf = flopy.mf6.ModflowGwf(sim, modelname=model_nm)\n",
    "\n",
    "dis = flopy.mf6.ModflowGwfdis(\n",
    "    gwf,\n",
    "    length_units=modelgrid.units,\n",
    "    xorigin=modelgrid.xoffset,\n",
    "    yorigin=modelgrid.yoffset,\n",
    "    angrot=modelgrid.angrot,\n",
    "    nlay=modelgrid.nlay,\n",
    "    nrow=modelgrid.nrow,\n",
    "    ncol=modelgrid.ncol,\n",
    "    top=modelgrid.top,\n",
    "    botm=modelgrid.botm,\n",
    "    delc=modelgrid.delc,\n",
    "    delr=modelgrid.delr,\n",
    ")"
   ]
  },
  {
   "cell_type": "markdown",
   "id": "8074bc86-91ca-4a85-8ee4-c0f6155eafac",
   "metadata": {
    "scrolled": true
   },
   "source": [
    "## Step 3: Defining hydraulic properties for the aquifer"
   ]
  },
  {
   "cell_type": "markdown",
   "id": "557fdc4a-5a17-40b8-9636-805a3d1fb4f3",
   "metadata": {
    "scrolled": true
   },
   "source": [
    "Only one **\"Flow Package\"** is available in MODFLOW6, which is the Node Property Flow (NPF) package.\n",
    "\n",
    "Properties that are supplied within flow packages include:\n",
    "* Hydraulic conductivity $K [L/T]$, and associated anisotropy information\n",
    "\n",
    "As a key difference from earlier MODFLOW versions, the storage properties of the aquifer are specified in a different **Storage Package** (STO). The STO package contains:\n",
    "* Specific Yield ($S_y$) information for the model\n",
    "* Specific storage ($S_s$) information for the model\n",
    "* A flag indicating whether each stress period should be treated as steady-state or transient.\n",
    "\n",
    "Again, at early stages of developing a model, it is good practice to **use FloPy's built-in plotting and error-checking routines for each package** to ensure that inputs are reasonable."
   ]
  },
  {
   "cell_type": "code",
   "execution_count": 5,
   "id": "484419ca-b7e2-45ee-a486-be856503f7af",
   "metadata": {
    "scrolled": true
   },
   "outputs": [],
   "source": [
    "npf = flopy.mf6.ModflowGwfnpf(\n",
    "    gwf,\n",
    "    k=[100,1,5],\n",
    "    k22=[100,1,5],\n",
    "    k33=[50,0.1,0.5],\n",
    "    )\n",
    "\n",
    "# Since the model is steady-state, no storage package needs to be supplied. However, it would look like this:)\n",
    "#sto = flopy.mf6.ModflowGwfsto(\n",
    "#    gwf,ss=1e-5, sy=0.1,steady_state={0:True})\n",
    "\n",
    "#Use the below to verify that \"interpreted\" / default inputs are OK\n",
    "#npf.plot()\n",
    "#npf.check()"
   ]
  },
  {
   "cell_type": "markdown",
   "id": "57ca684f-c994-4f0a-a36b-eb231c1d9d16",
   "metadata": {
    "scrolled": true
   },
   "source": [
    "## Step 4: Defining stress package inputs"
   ]
  },
  {
   "cell_type": "markdown",
   "id": "bf41c619-12eb-4dd9-8a80-af8b89e7adeb",
   "metadata": {
    "scrolled": true
   },
   "source": [
    "Stress packages are used to define any \"hydraulic stress\" on the aquifer that influences how groundwater moves. If it might act as a source of water to an aquifer, pull water out of an aquifer, or move water from one place to another within an aquifer, it's a stress. \n",
    "\n",
    "The least-complex stress packages to use are:\n",
    "* CHD (Constant Head) Package\n",
    "* FHB (Flow and Head Boundary) Package\n",
    "* GHB (General Head Boundary) Package\n",
    "* RCH (Recharge) Package\n",
    "* WEL (Well) Package\n",
    "* DRN (Drain) Package\n",
    "* RIV (River) Package\n",
    "\n",
    "**Each stress package has its own format and type of inputs**, and figuring out what each of the inputs mean (and how the model wants them supplied) is one of the steeper learning curves for MODFLOW. For example, since recharge tends to occur everywhere over an aquifer, the RCH package uses inputs that are the shape of the map-view model grid - an array with size `nrow` by `ncol`. In contrast, wells are usually closer to \"points\" in space, and so the WEL package wants to know about the specific grid cell where a well is located and the pumping rate, i.e. 3 values per well. Inputs will also get more complex for transient models, as they are specified per \"stress period\" in the model. \n",
    "\n",
    "Like with the flow package, FloPy will often choose reasonable default values if you don't specify all inputs to a stress package.\n",
    "**Using Shift-tab within each FloPy definition is a good way to learn about the inputs for each stress package, and what defaults will be applied**.\n",
    "\n",
    "In this code example, we demonstrate an over-simplified case where the grid-based location (row / column) of a well is specified, and other stresses are nicely oriented on the model grid (e.g., the river is exactly one column of the model). A better approach is to **develop a database of model stresses that are grid-independent**, and to then pull them onto the model grid. However, this requires further background in GIS and other utilities and so we'll reserve that for a future notebook."
   ]
  },
  {
   "cell_type": "code",
   "execution_count": 6,
   "id": "4057f60f-5950-4059-973c-31b81c2761de",
   "metadata": {
    "scrolled": true
   },
   "outputs": [],
   "source": [
    "riv_spd = {0: [[0, i, (modelgrid.ncol-1), 49.5, modelgrid.delc[i]*5, 49] for i in range(modelgrid.nrow)]}\n",
    "#Note - the below will create a non-physical solution unless a regular grid is used, \n",
    "#since the conductance should depend on length x width\n",
    "#riv_spd = {0: [[0, i, (modelgrid.ncol-1), 49.5, 40, 49] for i in range(modelgrid.nrow)]}\n",
    "\n",
    "riv = flopy.mf6.ModflowGwfriv(\n",
    "    gwf,stress_period_data=riv_spd\n",
    ")\n",
    "\n",
    "rch = flopy.mf6.ModflowGwfrcha(\n",
    "    gwf,\n",
    "    recharge=0.001)\n",
    "\n",
    "wel = flopy.mf6.ModflowGwfwel(gwf,stress_period_data={0: [2, 15, 15, -50]})"
   ]
  },
  {
   "cell_type": "markdown",
   "id": "a2ec3f93-871d-452a-8619-945d1c894ae6",
   "metadata": {
    "scrolled": true
   },
   "source": [
    "## Step 5: Define Numerical (Solver Package) Inputs"
   ]
  },
  {
   "cell_type": "markdown",
   "id": "c221dde0-30c2-42e0-add5-402e234060f2",
   "metadata": {
    "scrolled": true
   },
   "source": [
    "Finally, a solver package must be specified which determines how MODFLOW will approach the matrix-vector system of equations that are generated, and output control is used to specify how and where model outputs will be generated.\n",
    "\n",
    "The user can choose **one solver package**. Currently the only solver package supported in MODFLOW6 is the Iterative Model Solution (IMS) package.\n",
    "\n",
    "In addition, the user must specify an initial condition via the IC package. In the case of steady-state models, the key purpose of the initial condition is to specify the initial guess that's used during iteration."
   ]
  },
  {
   "cell_type": "code",
   "execution_count": 7,
   "id": "b7c50457-cc39-4b7f-8dbc-4aea628afedb",
   "metadata": {
    "scrolled": true
   },
   "outputs": [],
   "source": [
    "ims = flopy.mf6.ModflowIms(sim, complexity=\"COMPLEX\")\n",
    "ic = flopy.mf6.ModflowGwfic(gwf, strt=320.0)"
   ]
  },
  {
   "cell_type": "markdown",
   "id": "d8e943c7-2678-4096-8ffd-ce234003baa4",
   "metadata": {
    "scrolled": true
   },
   "source": [
    "# Step 6: Setup output specifications\n",
    "\n",
    "Finally, we set the name to be used for the output of the head and budget files. Especially when debugging models, having the budget files provides a useful way to check the accuracy of the numerical iteration."
   ]
  },
  {
   "cell_type": "code",
   "execution_count": 8,
   "id": "ee9c64bf-99e1-4dd0-820d-ab063e7ad8e0",
   "metadata": {
    "scrolled": true
   },
   "outputs": [],
   "source": [
    "hname = f\"{model_nm}.hds\"\n",
    "cname = f\"{model_nm}.cbc\"\n",
    "oc = flopy.mf6.ModflowGwfoc(\n",
    "    gwf,\n",
    "    budget_filerecord=cname,\n",
    "    head_filerecord=hname,\n",
    "    saverecord=[(\"HEAD\", \"ALL\"), (\"BUDGET\", \"ALL\")],\n",
    ")\n",
    "\n",
    "#This sets it up so that all packages save their flows as part of the budget file.\n",
    "gwf.name_file.save_flows = True"
   ]
  },
  {
   "cell_type": "markdown",
   "id": "dac2e285-615c-46f5-98c5-b8a446a186ce",
   "metadata": {
    "scrolled": true
   },
   "source": [
    "## Step 7: Write the input files and run MODFLOW"
   ]
  },
  {
   "cell_type": "markdown",
   "id": "a3502557-8c26-4bb9-8eb4-52c74bab7a81",
   "metadata": {
    "scrolled": true
   },
   "source": [
    "This is the place where all of your hard work has paid off. If you have carefully specified your inputs and used the available debugging / plotting tools, your model should run successfully with two lines of code!\n",
    "\n",
    "If `success = True`, you are \"done\".\n",
    "\n",
    "If (when) your model doesn't run successfully, remember the following approaches:\n",
    "* Carefully investigate each of the package inputs using the package objects' `.plot()` and `.check()` routines\n",
    "* Review the `.list` file that is output when MODFLOW runs."
   ]
  },
  {
   "cell_type": "code",
   "execution_count": 9,
   "id": "8b0219f5-b02e-46a1-b373-3c0e06fd984b",
   "metadata": {
    "scrolled": true
   },
   "outputs": [
    {
     "name": "stdout",
     "output_type": "stream",
     "text": [
      "writing simulation...\n",
      "  writing simulation name file...\n",
      "  writing simulation tdis package...\n",
      "  writing solution package ims_-1...\n",
      "  writing model mf6init...\n",
      "    writing model name file...\n",
      "    writing package dis...\n",
      "    writing package npf...\n",
      "    writing package riv_0...\n",
      "INFORMATION: maxbound in ('gwf6', 'riv', 'dimensions') changed to 39 based on size of stress_period_data\n",
      "    writing package rcha_0...\n",
      "    writing package wel_0...\n",
      "INFORMATION: maxbound in ('gwf6', 'wel', 'dimensions') changed to 1 based on size of stress_period_data\n",
      "    writing package ic...\n",
      "    writing package oc...\n",
      "FloPy is using the following executable to run the model: ../../../../../../../opt/anaconda3/envs/geosci724/bin/mf6\n",
      "                                   MODFLOW 6\n",
      "                U.S. GEOLOGICAL SURVEY MODULAR HYDROLOGIC MODEL\n",
      "                            VERSION 6.6.0 12/20/2024\n",
      "\n",
      "        MODFLOW 6 compiled Dec 23 2024 16:29:44 with GCC version 12.4.0\n",
      "\n",
      "This software has been approved for release by the U.S. Geological \n",
      "Survey (USGS). Although the software has been subjected to rigorous \n",
      "review, the USGS reserves the right to update the software as needed \n",
      "pursuant to further analysis and review. No warranty, expressed or \n",
      "implied, is made by the USGS or the U.S. Government as to the \n",
      "functionality of the software and related material nor shall the \n",
      "fact of release constitute any such warranty. Furthermore, the \n",
      "software is released on condition that neither the USGS nor the U.S. \n",
      "Government shall be held liable for any damages resulting from its \n",
      "authorized or unauthorized use. Also refer to the USGS Water \n",
      "Resources Software User Rights Notice for complete use, copyright, \n",
      "and distribution information.\n",
      "\n",
      "\n",
      " MODFLOW runs in SEQUENTIAL mode\n",
      "\n",
      " Run start date and time (yyyy/mm/dd hh:mm:ss): 2024/12/28  8:58:02\n",
      "\n",
      " Writing simulation list file: mfsim.lst\n",
      " Using Simulation name file: mfsim.nam\n",
      "\n",
      "    Solving:  Stress period:     1    Time step:     1\n",
      "\n",
      " Run end date and time (yyyy/mm/dd hh:mm:ss): 2024/12/28  8:58:02\n",
      " Elapsed run time:  0.042 Seconds\n",
      "\n",
      " Normal termination of simulation.\n"
     ]
    },
    {
     "data": {
      "text/plain": [
       "(True, [])"
      ]
     },
     "execution_count": 9,
     "metadata": {},
     "output_type": "execute_result"
    }
   ],
   "source": [
    "sim.write_simulation()\n",
    "sim.run_simulation()"
   ]
  },
  {
   "cell_type": "markdown",
   "id": "a406ce7c-dbb8-49d3-8873-19c0cb791c64",
   "metadata": {
    "scrolled": true
   },
   "source": [
    "## Step 7-$\\infty$: Processing your results to and changing your model to make it \"less wrong\""
   ]
  },
  {
   "cell_type": "markdown",
   "id": "d6bcbdbf-620a-4da1-a49d-c55649f62864",
   "metadata": {
    "scrolled": true
   },
   "source": [
    "Even if your model does run, **be skeptical - there is no replacement for hydrosense**. You should have a reasonable expectation of what your results will look like, and whether the output passes the \"sniff test\".\n",
    "\n",
    "Remember the old mantra: **all models are wrong** (at least in some way). The job of the good modeler is to know how to test a model well and understand what parts of the model are trustworthy vs. where simplifications or unjustified assumptions have a significant impact on results.\n",
    "\n",
    "There are many, many ways to stress-test and improve your model. A non-exhaustive list:\n",
    "* Ensure that your model mass balance is reasonable. Mass should not be created or destroyed.\n",
    "* Make sure that your model isn't dependent on artificial computational definitions *Example: You get a totally different result when implementing a different solver, or changing solution tolerances, or changing your stress periods*\n",
    "* Make sure you haven't set (known) values incorrectly. *Example: $S_y = 2$*\n",
    "* Consider how strongly your model results are impacted by set (uncertain) values. *Example: What if you're wrong about riverbed conductance values?*\n",
    "* Consider whether unmodeled processes may be important to your results. *Example: How much aquifer compaction might affect these results? What about variable density of water?*"
   ]
  },
  {
   "cell_type": "code",
   "execution_count": 10,
   "id": "ec988680-d1ad-4b33-884f-be6adde83ccd",
   "metadata": {
    "scrolled": true
   },
   "outputs": [],
   "source": [
    "hobj = gwf.output.head()\n",
    "hds = hobj.get_data()\n",
    "cobj = gwf.output.budget()\n",
    "#TODO: This doesn't work, come back to it\n",
    "#spd = cobj.get_data(text=\"DATA-SPDIS\")[0]"
   ]
  },
  {
   "cell_type": "code",
   "execution_count": 11,
   "id": "6e84c898-3029-4bed-b619-ee036a23d5e9",
   "metadata": {},
   "outputs": [
    {
     "data": {
      "text/plain": [
       "<matplotlib.collections.LineCollection at 0x10da67940>"
      ]
     },
     "execution_count": 11,
     "metadata": {},
     "output_type": "execute_result"
    },
    {
     "data": {
      "image/png": "[encoded data removed]",
      "text/plain": [
       "<Figure size 600x600 with 1 Axes>"
      ]
     },
     "metadata": {},
     "output_type": "display_data"
    }
   ],
   "source": [
    "fig = plt.figure(figsize=(6, 6))\n",
    "ax1 = fig.add_subplot(1, 1, 1, aspect=\"equal\")\n",
    "\n",
    "mm = flopy.plot.PlotMapView(model=gwf, layer=2, extent=gwf.modelgrid.extent,ax=ax1)\n",
    "cbv = mm.contour_array(hds)\n",
    "#q = mm.plot_vector(spd[\"qx\"], spd[\"qy\"])\n",
    "mm.plot_bc(\"RIV\", color=\"blue\")\n",
    "mm.plot_bc(\"WEL\", plotAll=True)\n",
    "mm.plot_grid(lw=0.5, color=\"black\")\n"
   ]
  },
  {
   "cell_type": "code",
   "execution_count": 12,
   "id": "5a801bd0-b4f6-4507-b684-bfeaca11d602",
   "metadata": {},
   "outputs": [
    {
     "data": {
      "text/plain": [
       "<matplotlib.tri._tricontour.TriContourSet at 0x10dcd2100>"
      ]
     },
     "execution_count": 12,
     "metadata": {},
     "output_type": "execute_result"
    },
    {
     "data": {
      "image/png": "[encoded data removed]",
      "text/plain": [
       "<Figure size 1000x1000 with 1 Axes>"
      ]
     },
     "metadata": {},
     "output_type": "display_data"
    }
   ],
   "source": [
    "fig = plt.figure(figsize=(10, 10))\n",
    "ax2 = fig.add_subplot(1, 1, 1, aspect=10)\n",
    "modelcr = flopy.plot.PlotCrossSection(model=gwf,line={\"row\":15},ax=ax2)\n",
    "modelcr.plot_ibound()\n",
    "modelcr.plot_grid()\n",
    "modelcr.plot_bc(name=\"RIV\")\n",
    "modelcr.plot_bc(name=\"WEL\")\n",
    "modelcr.contour_array(hds)\n"
   ]
  },
  {
   "cell_type": "code",
   "execution_count": null,
   "id": "916c5e73-373b-4943-841b-8adae50746ff",
   "metadata": {},
   "outputs": [],
   "source": []
  },
  {
   "cell_type": "code",
   "execution_count": null,
   "id": "75aaefa4-575e-446e-97a8-5c48bcf43344",
   "metadata": {},
   "outputs": [],
   "source": []
  }
 ],
 "metadata": {
  "kernelspec": {
   "display_name": "Python 3 (ipykernel)",
   "language": "python",
   "name": "python3"
  },
  "language_info": {
   "codemirror_mode": {
    "name": "ipython",
    "version": 3
   },
   "file_extension": ".py",
   "mimetype": "text/x-python",
   "name": "python",
   "nbconvert_exporter": "python",
   "pygments_lexer": "ipython3",
   "version": "3.9.20"
  }
 },
 "nbformat": 4,
 "nbformat_minor": 5
}
