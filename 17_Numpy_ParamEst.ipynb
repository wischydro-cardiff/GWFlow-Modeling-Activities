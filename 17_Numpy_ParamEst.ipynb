{
 "cells": [
  {
   "cell_type": "markdown",
   "metadata": {},
   "source": [
    "# Initial Setup"
   ]
  },
  {
   "cell_type": "code",
   "execution_count": null,
   "metadata": {
    "tags": []
   },
   "outputs": [],
   "source": [
    "import os\n",
    "import matplotlib.pyplot as plt\n",
    "import numpy as np\n",
    "#This method will import everything associated with SciPy, but to use it, you must work within submodules\n",
    "import scipy as scipy\n",
    "#This method will allow you more direct access to the linear algebra routines of SciPy\n",
    "from scipy import linalg as LA\n"
   ]
  },
  {
   "cell_type": "markdown",
   "metadata": {},
   "source": [
    "# Creating a set of example observations and the associated physics matrix G"
   ]
  },
  {
   "cell_type": "code",
   "execution_count": null,
   "metadata": {
    "tags": []
   },
   "outputs": [],
   "source": [
    "m_yloc_obs, m_xvel_obs, m_xloc_obs = 9, 2, 2\n",
    "m_obs = m_yloc_obs + m_xvel_obs + m_xloc_obs\n",
    "\n",
    "n_par = 5\n",
    "\n",
    "#First set of obs\n",
    "d_yloc = np.array([55., 60., 70., 75., 85., 85., 95., 95., 75.])\n",
    "t_yloc = np.array([1., 1.5, 2., 2.5, 3., 3.5, 4., 4.5, 5.])\n",
    "#Second set of obs\n",
    "d_xloc = np.array([200., 725.])\n",
    "t_xloc = np.array([5., 6.])\n",
    "#Third set of obs\n",
    "d_xvel = np.array([400., 500.])\n",
    "\n",
    "d = np.concatenate((d_yloc,d_xloc,d_xvel))\n",
    "print('d: ',d)\n",
    "\n",
    "#Ordering of the parameters: x_init, v_x_init, y_init, v_y_init, g_a\n",
    "G_yloc = np.zeros((m_yloc_obs,n_par))\n",
    "G_yloc[:,2] = 1\n",
    "G_yloc[:,3] = t_yloc\n",
    "G_yloc[:,4] = -0.5*t_yloc**2\n",
    "\n",
    "G_xloc = np.zeros((m_xloc_obs,n_par))\n",
    "G_xloc[:,0] = 1\n",
    "G_xloc[:,1] = t_xloc\n",
    "\n",
    "G_xvel = np.zeros((m_xvel_obs,n_par))\n",
    "G_xvel[:,1] = 1\n",
    "\n",
    "G = np.concatenate((G_yloc, G_xloc, G_xvel))\n",
    "print('G: ', G)"
   ]
  },
  {
   "cell_type": "markdown",
   "metadata": {},
   "source": [
    "# Solving for the best estimates of the parameters"
   ]
  },
  {
   "cell_type": "code",
   "execution_count": null,
   "metadata": {},
   "outputs": [],
   "source": [
    "m_est = LA.solve(G.transpose()@G,G.transpose()@d)\n",
    "print('m_est:', m_est)"
   ]
  },
  {
   "cell_type": "markdown",
   "metadata": {},
   "source": [
    "# Plotting a simulation with associated original data"
   ]
  },
  {
   "cell_type": "code",
   "execution_count": null,
   "metadata": {},
   "outputs": [],
   "source": [
    "xinit, xvinit, yinit, yvinit, g_a = m_est\n",
    "t_sim = np.linspace(0,9,100)\n",
    "x_sim = xinit + xvinit*t_sim\n",
    "y_sim = yinit + yvinit*t_sim - 0.5*t_sim**2*g_a\n",
    "\n",
    "fig, axs = plt.subplots(nrows=1,ncols=3,figsize=(15,5))\n",
    "fig.set_layout_engine('tight')\n",
    "#Trajectory\n",
    "axs[0].plot(x_sim,y_sim)\n",
    "axs[0].set_title('Trajectory')\n",
    "axs[0].set_xlabel('x location (m)')\n",
    "axs[0].set_ylabel('y location (m)')\n",
    "\n",
    "#X location observations\n",
    "axs[1].plot(t_xloc,d_xloc,'or')\n",
    "axs[1].plot(t_sim,x_sim)\n",
    "axs[1].set_title('x vs. time')\n",
    "axs[1].set_xlabel('t (s)')\n",
    "axs[1].set_ylabel('x location (m)')\n",
    "\n",
    "#Y location observations\n",
    "axs[2].plot(t_yloc,d_yloc,'or')\n",
    "axs[2].plot(t_sim,y_sim)\n",
    "axs[2].set_title('y vs. time')\n",
    "axs[2].set_xlabel('t (s)')\n",
    "axs[2].set_ylabel('y location (m)')\n"
   ]
  },
  {
   "cell_type": "markdown",
   "metadata": {},
   "source": [
    "# Evaluating data residuals for each data type"
   ]
  },
  {
   "cell_type": "code",
   "execution_count": null,
   "metadata": {},
   "outputs": [],
   "source": [
    "resid = d - G@m_est\n",
    "print('residual: ', resid)\n",
    "\n",
    "#Note: For problems where the number of unknowns approaches the number\n",
    "# of observations, this can result in bias. \n",
    "#In most cases, however, the bias in estimating data error is undetectable\n",
    "#for all practical purposes\n",
    "yloc_err_est = np.sqrt(np.mean((resid[0:9])**2))\n",
    "xloc_err_est = np.sqrt(np.mean((resid[9:11])**2))\n",
    "xvel_err_est = np.sqrt(np.mean((resid[11:13])**2))"
   ]
  },
  {
   "cell_type": "markdown",
   "metadata": {},
   "source": [
    "# Beginnings of dealing with uncertainty"
   ]
  },
  {
   "cell_type": "code",
   "execution_count": null,
   "metadata": {},
   "outputs": [],
   "source": [
    "#TODO: Using results from class, implement weighted inversion and\n",
    "#Investigate the residuals after the fact.\n",
    "\n",
    "#Then estimate the uncertainty in each parameter\n",
    "\n",
    "#Useful code below:\n",
    "A = np.diag([25., 16., 9., 4., 1])\n",
    "mean = np.array([[0.], [1.], [3.], [3.], [5.]])\n",
    "fig, axs = plt.subplots(nrows=5,ncols=5,figsize=(10,10))\n",
    "fig.set_layout_engine('tight')\n",
    "\n",
    "numrelz = 1000\n",
    "allrelz = np.zeros((5,numrelz))\n",
    "for i in range(numrelz):\n",
    "    relz = mean + (LA.cholesky(A)).transpose()@np.random.randn(5,1)\n",
    "    allrelz[:,i] = np.squeeze(relz)\n",
    "\n",
    "for p1 in range(5):\n",
    "    for p2 in range(5):\n",
    "        if p1 == p2:\n",
    "            axs[p1,p2].hist(allrelz[p1])\n",
    "        else:\n",
    "            axs[p1,p2].plot(allrelz[p1,:],allrelz[p2,:],'ok')\n",
    "            axs[p1,p2].set_aspect('equal')\n",
    "            axs[p1,p2].set_xlim([-15,15])\n",
    "            axs[p1,p2].set_ylim([-15,15])\n",
    "            axs[p1,p2].grid(True)"
   ]
  },
  {
   "cell_type": "code",
   "execution_count": null,
   "metadata": {},
   "outputs": [],
   "source": []
  },
  {
   "cell_type": "code",
   "execution_count": null,
   "metadata": {},
   "outputs": [],
   "source": []
  }
 ],
 "metadata": {
  "anaconda-cloud": {},
  "celltoolbar": "Raw Cell Format",
  "kernelspec": {
   "display_name": "Python 3 (ipykernel)",
   "language": "python",
   "name": "python3"
  },
  "language_info": {
   "codemirror_mode": {
    "name": "ipython",
    "version": 3
   },
   "file_extension": ".py",
   "mimetype": "text/x-python",
   "name": "python",
   "nbconvert_exporter": "python",
   "pygments_lexer": "ipython3",
   "version": "3.9.20"
  }
 },
 "nbformat": 4,
 "nbformat_minor": 4
}
