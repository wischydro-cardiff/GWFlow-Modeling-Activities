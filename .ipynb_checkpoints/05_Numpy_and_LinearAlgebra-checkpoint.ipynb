{
 "cells": [
  {
   "cell_type": "markdown",
   "metadata": {},
   "source": [
    "# Introduction to Math with Matrices in Python "
   ]
  },
  {
   "cell_type": "markdown",
   "metadata": {},
   "source": [
    "The basic datatypes that Python deals with (strings, numbers, booleans) are relatively limited, but provide the basis for more complex data structures. Building on basic arrays in Python, [NumPy](https://numpy.org/doc/stable/reference/routines.html#) adds features for performing **mathematical manipulation of multi-dimensional arrays (i.e. Linear algebra on matrices)** as well as some other utilities such as random number generators and statistical operations. [SciPy](https://docs.scipy.org/doc/scipy-1.15.0/reference/index.html) adds further mathematical tools that are useful for dealing with **large, sparse matrices**. Scipy also includes mathematical utilities for numerical differentiation and integration, interpolation, optimization, signal processing, and statistics.\n",
    "\n",
    "We will be using NumPy and SciPy in this class primarily to understand how numerical models solve physics-based equations. However, linear algebra and optimization are at the heart of other fields including many Machine Learning tasks (classification, identification, etc.). If you are interested in these areas, the [Scipy lecture notes](http://scipy-lectures.org/intro/numpy/index.html) demonstrate many of these applications through simplified examples."
   ]
  },
  {
   "cell_type": "markdown",
   "metadata": {},
   "source": [
    "## Learning Objectives\n",
    "\n",
    "After you have read through and run this notebook, you should be able to:\n",
    "\n",
    "* Use NumPy syntax to generate and store matrices\n",
    "* Apply key linear algebra approaches such as solving matrix-vector systems of the form A*x = b\n",
    "* Visualize and debug issues with matrix creation"
   ]
  },
  {
   "cell_type": "markdown",
   "metadata": {},
   "source": [
    "# Initial Setup"
   ]
  },
  {
   "cell_type": "code",
   "execution_count": 1,
   "metadata": {
    "tags": []
   },
   "outputs": [],
   "source": [
    "import os\n",
    "import matplotlib.pyplot as plt\n",
    "import numpy as np\n",
    "#This method will import everything associated with SciPy, but to use it, you must work within submodules\n",
    "import scipy as scipy\n",
    "#This method will allow you more direct access to the linear algebra routines of SciPy\n",
    "from scipy import linalg as LA\n"
   ]
  },
  {
   "cell_type": "markdown",
   "metadata": {},
   "source": [
    "# Creating NumPy Arrays\n",
    "\n",
    "Numpy `array` objects (also called ndarray) are the cental data structure for `numpy`. An array can be one-dimensional (vector), 2-dimensional (matrix), 3-dimensional, and on and on. \n",
    "\n",
    "## A note on NumPy arrays vs. lists \n",
    "When printed to the command line, ndarrays look very similar to lists. For instance, you can create something that looks like a matrix by using a list, where each list element contains a list. But these two datatypes are not the same; ndarrays are more structured and restrictive, ensuring that linear algebra will work.  \n",
    "\n",
    "For this reason, **not every list can be converted into an array (matrix)**. A matrix must have a set number of elements among each dimension. "
   ]
  },
  {
   "cell_type": "markdown",
   "metadata": {},
   "source": [
    "## Explicitly creating NumPy arrays from lists\n",
    "\n",
    "Assuming a list has a reasonable form to be turned into a NumPy array, you can directly convert it using the `np.array()` syntax."
   ]
  },
  {
   "cell_type": "code",
   "execution_count": 2,
   "metadata": {
    "tags": []
   },
   "outputs": [
    {
     "name": "stdout",
     "output_type": "stream",
     "text": [
      "This is a list\n",
      " [[1.0], [2.0], [3], [4]]\n",
      "The array is: \n",
      " [[1.]\n",
      " [2.]\n",
      " [3.]\n",
      " [4.]]\n",
      "The type of an array is:  <class 'numpy.ndarray'>\n",
      "The array shape is:  (4, 1)\n",
      "The number of dimensions for a:  2\n",
      "The shape of a:  (4, 1)\n",
      "The type of a:  float64\n"
     ]
    }
   ],
   "source": [
    "#create a new list\n",
    "#lst = [[1, 3],[ 5, 7]]\n",
    "#lst = [1, 2, 3, 4]\n",
    "#lst = [1, 2, [3, 4]]\n",
    "lst = [[1.],[2.],[3],[4]]\n",
    "\n",
    "print('This is a list\\n', lst)\n",
    "\n",
    "#convert the list into a new array\n",
    "a = np.array(lst)\n",
    "\n",
    "#print some information about the new array\n",
    "print('The array is: \\n', a)\n",
    "print('The type of an array is: ', type(a))\n",
    "print('The array shape is: ', a.shape)\n",
    "print('The number of dimensions for a: ', a.ndim)\n",
    "print('The shape of a: ', a.shape)\n",
    "print('The type of a: ', a.dtype)"
   ]
  },
  {
   "cell_type": "markdown",
   "metadata": {},
   "source": [
    "## Array Generating Functions\n",
    "\n",
    "Using only base Python, it would be quite tedious and error-prone to create arrays by always first creating a list. Instead, NumPy provides a variety of methods for producing vectors and arrays in formats that are common in linear algebra. See the full documentation under [array creation routines](http://docs.scipy.org/doc/numpy/reference/routines.array-creation.html).  \n",
    "\n",
    "Below are a few of the most useful array generating functions with links to their descriptions:\n",
    "\n",
    "* [empty](https://numpy.org/doc/stable/reference/generated/numpy.empty.html#numpy.empty): Set aside exactly enough memory to store an array **not recommended**\n",
    "* [zeros](https://numpy.org/doc/stable/reference/generated/numpy.zeros.html#numpy.zeros): Initialize memory and store zeros in all array elements.\n",
    "* [ones](https://numpy.org/doc/stable/reference/generated/numpy.ones.html#numpy.ones): Initialize memory and store ones in all array elements.\n",
    "* [arange](https://numpy.org/doc/stable/reference/generated/numpy.arange.html#numpy.arange): Create an array that covers a given range in specified steps.\n",
    "* [linspace](https://numpy.org/doc/stable/reference/generated/numpy.linspace.html#numpy.linspace): Create an array that covers a range with a given number of steps\n",
    "* [logspace](https://numpy.org/doc/stable/reference/generated/numpy.logspace.html): Create an array that logarithmically steps between two values.\n",
    "* [identity](https://numpy.org/doc/stable/reference/generated/numpy.identity.html): Create an identity matrix of a given size\n",
    "* [diag](https://numpy.org/doc/stable/reference/generated/numpy.diag.html): Create a matrix with elements on a given diagonal\n",
    "\n"
   ]
  },
  {
   "cell_type": "code",
   "execution_count": 7,
   "metadata": {
    "tags": []
   },
   "outputs": [
    {
     "name": "stdout",
     "output_type": "stream",
     "text": [
      "Empty matrix\n",
      " [[-2.  0.]\n",
      " [ 2.  4.]\n",
      " [ 6.  8.]\n",
      " [10. 12.]]\n",
      "Note how empty creates space in memory, but doesn't overwrite what's there. Dangerous!\n",
      "\n",
      "Zero matrix\n",
      " [[0. 0. 0.]\n",
      " [0. 0. 0.]] \n",
      "\n",
      "Ones matrix\n",
      " [1. 1. 1. 1.] \n",
      "\n",
      "Diagonal Matrix example\n",
      " [[ 1.  5.  0.  0.]\n",
      " [ 8.  2.  6.  0.]\n",
      " [ 0.  9.  3.  7.]\n",
      " [ 0.  0. 10.  4.]] \n",
      "\n"
     ]
    }
   ],
   "source": [
    "mat_empty = np.empty((4,2))\n",
    "print('Empty matrix\\n', mat_empty)\n",
    "print(\"Note how empty creates space in memory, but doesn't overwrite what's there. Dangerous!\\n\")\n",
    "\n",
    "mat_zeros = np.zeros((2,3))\n",
    "print('Zero matrix\\n', mat_zeros, '\\n')\n",
    "\n",
    "mat_ones = np.ones((4))\n",
    "print('Ones matrix\\n', mat_ones, '\\n')\n",
    "\n",
    "#Because matrices with primarily diagonal elements are so common in numerical analysis,\n",
    "#the np.diag function allows you to work with both the main diagonal and super- / sub-diagonals\n",
    "mat_diag = np.diag([1., 2., 3., 4.]) + np.diag([5., 6., 7.],1) + np.diag([8., 9., 10.],-1)\n",
    "print('Diagonal Matrix example\\n', mat_diag,'\\n')\n"
   ]
  },
  {
   "cell_type": "markdown",
   "metadata": {
    "tags": []
   },
   "source": [
    "## Array manipulation functions\n",
    "\n",
    "There are many cases in which you will want to expand an array (e.g., by adding new rows), or manipulate the dimensions of an array. These functions can be found in the NumPy documentation under [array manipulation routines](https://numpy.org/doc/stable/reference/routines.array-manipulation.html). \n",
    "\n",
    "Below are a few of the most useful routines:\n",
    "\n",
    "* [ndim](https://numpy.org/doc/stable/reference/generated/numpy.ndim.html): Return the number of dimensions of the array (1-D, 2-D, 3-D, etc.)\n",
    "* [shape](https://numpy.org/doc/stable/reference/generated/numpy.shape.html): Return the shape of the array, i.e. the matrix dimensions, such as 3 x 2.\n",
    "* [transpose](https://numpy.org/doc/stable/reference/generated/numpy.transpose.html): For 2-D matrices, this is the matrix transpose discussed in class.\n",
    "* [reshape](https://numpy.org/doc/stable/reference/generated/numpy.reshape.html): Reshape an array into a new compatible shape. For example, a length 9 vector can be reshaped into a 3 x 3 matrix.\n",
    "* [concatenate](https://numpy.org/doc/2.1/reference/generated/numpy.concatenate.html): Create a new array by placing arrays next to each other along the specified axis. Arrays being concatenated must be compatible.\n",
    "\n",
    "A note on array manipulation: The functions above all create a new copy of data when generating output; There are other functions that create \"views\" on existing arrays, which can be dangerous. If you attempt using other methods to work with or reshape matrices, be careful of those that create views or masks, which are demonstrated below.\n",
    "\n"
   ]
  },
  {
   "cell_type": "code",
   "execution_count": 4,
   "metadata": {
    "tags": []
   },
   "outputs": [
    {
     "name": "stdout",
     "output_type": "stream",
     "text": [
      "Dimensions of a matrix:  2\n",
      "Shape of a matrix:  (4, 4)\n",
      "Transpose of a matrix: \n",
      " [[ 1.  8.  0.  0.]\n",
      " [ 5.  2.  9.  0.]\n",
      " [ 0.  6.  3. 10.]\n",
      " [ 0.  0.  7.  4.]] \n",
      "\n",
      "Reshaped matrix: \n",
      " [[ 1.]\n",
      " [ 5.]\n",
      " [ 0.]\n",
      " [ 0.]\n",
      " [ 8.]\n",
      " [ 2.]\n",
      " [ 6.]\n",
      " [ 0.]\n",
      " [ 0.]\n",
      " [ 9.]\n",
      " [ 3.]\n",
      " [ 7.]\n",
      " [ 0.]\n",
      " [ 0.]\n",
      " [10.]\n",
      " [ 4.]] \n",
      "\n",
      "Views and masks on a matrix can be dangerous, if you aren't prepared for the behavior\n",
      "The matrix A is\n",
      " [[1. 0. 0.]\n",
      " [0. 1. 0.]\n",
      " [0. 0. 1.]] \n",
      "\n",
      "B is first set as B = A.T, and looks like this: \n",
      " [[1. 0. 0.]\n",
      " [0. 1. 0.]\n",
      " [0. 0. 1.]]\n",
      "B has now changed! (because A.T is a \"view\"): \n",
      " [[2. 0. 0.]\n",
      " [0. 1. 0.]\n",
      " [0. 0. 1.]]\n"
     ]
    }
   ],
   "source": [
    "print('Dimensions of a matrix: ', np.ndim(mat_diag))\n",
    "print('Shape of a matrix: ', np.shape(mat_diag))\n",
    "print('Transpose of a matrix: \\n', np.transpose(mat_diag), '\\n')\n",
    "print('Reshaped matrix: \\n', np.reshape(mat_diag, (16,1)), '\\n')\n",
    "\n",
    "print(\"Views and masks on a matrix can be dangerous, if you aren't prepared for the behavior\")\n",
    "A = np.identity(3);\n",
    "print('The matrix A is\\n', A, '\\n')\n",
    "B = A.T\n",
    "print('B is first set as B = A.T, and looks like this: \\n', B)\n",
    "A[0,0] = 2\n",
    "print('B has now changed! (because A.T is a \"view\"): \\n', B)"
   ]
  },
  {
   "cell_type": "markdown",
   "metadata": {
    "tags": []
   },
   "source": [
    "## Using arrays for linear algebra\n",
    "\n",
    "Arrays can be treated as matrices for doing Linear Algebra, Using the `linalg` subpackage within SciPy. The full documentation for routines can be found in the [Scipy.linalg documentation](https://docs.scipy.org/doc/scipy/reference/linalg.html). The most important operations to be aware of in SciPy are:\n",
    "\n",
    "* `@` is how Linear Algebra-style matrix multiplication is written (i.e., taking the dot-product of rows of A with a column of b.\n",
    "* `solve(A,b)` will attempt to solve the system A*x = b, using an array of fancy linear algebra algorithms.\n",
    "* inv() which will attempt to find the inverse of a matrix\n",
    "* eig() which will return the eigenvalues and eigenvectors of a matrix\n",
    "\n",
    "These general routines can be used for any matrix we will develop in this class. Other routines are optimized and may be faster, however, for specific types of matrices. For example, [solve_banded](https://docs.scipy.org/doc/scipy/reference/generated/scipy.linalg.solve_banded.html#scipy.linalg.solve_banded) provides a faster set of routines for solving banded matrix systems. "
   ]
  },
  {
   "cell_type": "code",
   "execution_count": 5,
   "metadata": {
    "tags": []
   },
   "outputs": [
    {
     "name": "stdout",
     "output_type": "stream",
     "text": [
      "[[ 0.00000000e+00]\n",
      " [ 0.00000000e+00]\n",
      " [-3.46944695e-18]\n",
      " [ 0.00000000e+00]\n",
      " [ 3.46944695e-18]\n",
      " [ 0.00000000e+00]\n",
      " [ 0.00000000e+00]\n",
      " [ 0.00000000e+00]\n",
      " [ 0.00000000e+00]\n",
      " [ 0.00000000e+00]\n",
      " [ 8.67361738e-19]]\n",
      "Eigenvalues:  [-1.01010101e-01+0.j -3.89140778e-03+0.j -3.57747131e-03+0.j\n",
      " -3.09239640e-03+0.j -2.48896693e-03+0.j -1.83273142e-03+0.j\n",
      " -2.72204397e-05+0.j -2.40575693e-04+0.j -6.44294863e-04+0.j\n",
      " -1.19483416e-03+0.j  1.00000000e+00+0.j]\n",
      "Eigenvectors:  [[ 0.00000000e+00  0.00000000e+00  0.00000000e+00  0.00000000e+00\n",
      "   0.00000000e+00  0.00000000e+00  0.00000000e+00  0.00000000e+00\n",
      "   0.00000000e+00  0.00000000e+00  9.99999502e-01]\n",
      " [ 7.10236912e-17 -1.48771863e-01  2.79008554e-01 -3.75400738e-01\n",
      "  -4.28019060e-01 -4.32981818e-01 -6.86383846e-02 -1.99393661e-01\n",
      "   3.10975150e-01 -3.91939815e-01  9.98004489e-04]\n",
      " [-2.36839549e-16  2.81388259e-01 -4.40127989e-01  4.10086413e-01\n",
      "   2.09287165e-01 -7.24242559e-02 -1.35408402e-01 -3.50818054e-01\n",
      "   4.21590608e-01 -3.15576549e-01  9.96013456e-07]\n",
      " [ 1.08900020e-14 -3.83448078e-01  4.15280722e-01 -7.25761825e-02\n",
      "   3.25684558e-01  4.20867515e-01 -1.98492543e-01 -4.17844150e-01\n",
      "   2.60577403e-01  1.37848359e-01  9.94026396e-10]\n",
      " [-1.06226141e-12  4.43868418e-01 -2.14965437e-01 -3.30804453e-01\n",
      "  -3.68536143e-01  1.42822170e-01 -2.56173630e-01 -3.84347101e-01\n",
      "  -6.83244840e-02  4.26567338e-01  9.92043369e-13]\n",
      " [ 1.05148321e-10 -4.56088100e-01 -7.61789132e-02  4.33945775e-01\n",
      "  -1.45482571e-01 -3.96977853e-01 -3.06881559e-01 -2.58385481e-01\n",
      "  -3.53205257e-01  2.05609088e-01  9.89742861e-16]\n",
      " [-1.04096725e-08  4.18780162e-01  3.35135487e-01 -1.43236348e-01\n",
      "   4.39672310e-01 -2.09224093e-01 -3.49236036e-01 -7.02625945e-02\n",
      "  -4.10517698e-01 -2.61017925e-01  1.51269437e-18]\n",
      " [ 1.03055757e-06 -3.35995955e-01 -4.52487703e-01 -2.77474905e-01\n",
      "  -6.95026478e-02  3.61981235e-01 -3.82084154e-01  1.34763764e-01\n",
      "  -2.03335694e-01 -4.15771804e-01  3.05827347e-19]\n",
      " [-1.02025200e-04  2.16725200e-01  3.78650883e-01  4.46348934e-01\n",
      "  -4.05687813e-01  2.69772182e-01 -4.04531774e-01  3.07369237e-01\n",
      "   1.34854452e-01 -7.37473273e-02 -1.16751580e-19]\n",
      " [ 1.01004948e-02 -7.39197745e-02 -1.44823202e-01 -2.10115063e-01\n",
      "   2.67870572e-01 -3.16856824e-01 -4.15967862e-01  4.06029142e-01\n",
      "   3.86158568e-01  3.56392975e-01  3.45086895e-20]\n",
      " [-9.99948983e-01 -7.69127638e-02 -1.50196436e-01 -2.16819997e-01\n",
      "   2.74707962e-01 -3.22772375e-01 -4.16081121e-01  4.07008305e-01\n",
      "   3.88662702e-01  3.60702775e-01  1.59293704e-20]]\n"
     ]
    },
    {
     "data": {
      "image/png": "[encoded data removed]",
      "text/plain": [
       "<Figure size 450x450 with 1 Axes>"
      ]
     },
     "metadata": {},
     "output_type": "display_data"
    }
   ],
   "source": [
    "n = 11\n",
    "A = np.zeros((n,n))\n",
    "b = np.zeros((n,1))\n",
    "\n",
    "il  = range(n)\n",
    "for i in il:\n",
    "  if i == 0:\n",
    "    A[i,i] = 1\n",
    "    b[i] = 10\n",
    "  elif i == (n-1):\n",
    "    A[i,i] = -0.1\n",
    "    A[i,i-1] = 0.1\n",
    "    b[i] = 0.001\n",
    "  else:\n",
    "    A[i,i-1] = 0.001\n",
    "    A[i,i] = -2*0.001\n",
    "    A[i,i+1] = 0.001\n",
    "    b[i] = 0\n",
    "\n",
    "#When creating a matrix by-hand, it is often good to be able to inspect it for errors.\n",
    "fig = plt.figure(figsize=(3,3),dpi=150)\n",
    "#You may use this to show all non-zero entries\n",
    "plt.spy(A)\n",
    "\n",
    "x = LA.solve(A,b)\n",
    "Ax = A@x\n",
    "resid = Ax - b\n",
    "print(resid)\n",
    "\n",
    "#What the heck is this doing?\n",
    "#print (A*x - b)\n",
    "\n",
    "eigval, eigvecs = LA.eig(A)\n",
    "print('Eigenvalues: ', eigval)\n",
    "print('Eigenvectors: ', eigvecs)"
   ]
  }
 ],
 "metadata": {
  "anaconda-cloud": {},
  "celltoolbar": "Raw Cell Format",
  "kernelspec": {
   "display_name": "Python 3 (ipykernel)",
   "language": "python",
   "name": "python3"
  },
  "language_info": {
   "codemirror_mode": {
    "name": "ipython",
    "version": 3
   },
   "file_extension": ".py",
   "mimetype": "text/x-python",
   "name": "python",
   "nbconvert_exporter": "python",
   "pygments_lexer": "ipython3",
   "version": "3.9.20"
  }
 },
 "nbformat": 4,
 "nbformat_minor": 4
}
