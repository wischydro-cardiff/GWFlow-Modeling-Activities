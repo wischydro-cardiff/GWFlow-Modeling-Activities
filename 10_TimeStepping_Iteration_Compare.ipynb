{
 "cells": [
  {
   "cell_type": "code",
   "execution_count": 1,
   "metadata": {
    "id": "hYujlbLsHD2o"
   },
   "outputs": [],
   "source": [
    "import numpy as np\n",
    "import scipy as sp\n",
    "from scipy import linalg as LA\n",
    "import matplotlib.pyplot as plt\n",
    "import time as tm\n",
    "import ipywidgets as widgets"
   ]
  },
  {
   "cell_type": "code",
   "execution_count": 2,
   "metadata": {
    "id": "1uSBiMB-EIwi"
   },
   "outputs": [],
   "source": [
    "#Define the problem domain (1-D) and discretization / constants\n",
    "xmax = 50 #m\n",
    "n = 31\n",
    "x = np.linspace(0,xmax,num=n)\n",
    "dx = xmax/n-1 #m\n",
    "dy = 1 #m\n",
    "dz = 10 #m\n",
    "dt = 5 #s\n",
    "K = 3E-7 #m/s\n",
    "Ss = 2E-5 #[m^-1]\n",
    "sim_time = 60*60 #s\n",
    "num_tstep = int(np.ceil(sim_time/dt)) #number of time steps including the first\n",
    "\n",
    "#Boundary conditions - AFTER reservoir head change\n",
    "h_L = 16.\n",
    "h_R = 11.\n",
    "\n",
    "#Initial condition\n",
    "h_init = h_L*np.ones((1,n))\n",
    "h_init[0,-1] = h_R\n",
    "\n",
    "h_soln_exp = np.zeros((num_tstep,n)) \n",
    "h_soln_imp = np.zeros((num_tstep,n))"
   ]
  },
  {
   "cell_type": "code",
   "execution_count": 3,
   "metadata": {
    "colab": {
     "base_uri": "https://localhost:8080/"
    },
    "executionInfo": {
     "elapsed": 15,
     "status": "ok",
     "timestamp": 1677612493763,
     "user": {
      "displayName": "Michael Cardiff",
      "userId": "10601691416044821124"
     },
     "user_tz": 360
    },
    "id": "8HJitBM0FlVO",
    "outputId": "e8960841-0c04-4945-f510-0c0a4586857f"
   },
   "outputs": [
    {
     "name": "stdout",
     "output_type": "stream",
     "text": [
      "D =  0.19965373961218844\n"
     ]
    }
   ],
   "source": [
    "#Explicit approach: Setup the matrix system and solve\n",
    "\n",
    "D = K*dt/(Ss*dx**2)\n",
    "print('D = ', D)\n",
    "\n",
    "h_soln_exp[0,:] = h_init\n",
    "tstep = 1\n",
    "while tstep < num_tstep:\n",
    "  for c in range(n):\n",
    "    if c == 0:\n",
    "      h_soln_exp[tstep,c] = h_L\n",
    "    elif c == (n-1):\n",
    "      h_soln_exp[tstep,c] = h_R\n",
    "    else:\n",
    "      h_soln_exp[tstep,c] = h_soln_exp[tstep-1,c] + \\\n",
    "        D*(h_soln_exp[tstep-1,c-1] - 2*h_soln_exp[tstep-1,c] + \\\n",
    "           h_soln_exp[tstep-1,c+1])\n",
    "  tstep += 1\n",
    "\n"
   ]
  },
  {
   "cell_type": "code",
   "execution_count": 4,
   "metadata": {
    "colab": {
     "base_uri": "https://localhost:8080/"
    },
    "executionInfo": {
     "elapsed": 13,
     "status": "ok",
     "timestamp": 1677612493764,
     "user": {
      "displayName": "Michael Cardiff",
      "userId": "10601691416044821124"
     },
     "user_tz": 360
    },
    "id": "cGuDaB9VQUB-",
    "outputId": "5b2e0770-7655-44f4-b1d1-028da214ecf7"
   },
   "outputs": [],
   "source": [
    "#Implicit approach: Setup the matrix system, check the formulation\n",
    "\n",
    "D = K*dt/(Ss*dx**2)\n",
    "\n",
    "h_soln_imp[0,:] = h_init\n",
    "\n",
    "tstep = 1\n",
    "\n",
    "while tstep < num_tstep:\n",
    "  A_step = np.zeros((n,n))\n",
    "  b_step = np.zeros((n))\n",
    "  for c in range(n):\n",
    "    if c == 0:\n",
    "      A_step[c,c] = 1\n",
    "      b_step[c] = h_L\n",
    "    elif c == (n-1):\n",
    "      A_step[c,c] = 1\n",
    "      b_step[c] = h_R\n",
    "    else:\n",
    "      A_step[c,c-1] = -D\n",
    "      A_step[c,c] = (1+2*D)\n",
    "      A_step[c,c+1] = -D\n",
    "      b_step[c] = h_soln_imp[tstep-1,c]\n",
    "  h_new = LA.solve(A_step,b_step)\n",
    "  h_soln_imp[tstep,:] = h_new\n",
    "  tstep += 1\n"
   ]
  },
  {
   "cell_type": "code",
   "execution_count": 5,
   "metadata": {
    "colab": {
     "base_uri": "https://localhost:8080/",
     "height": 281,
     "referenced_widgets": [
      "62308eeafc0a4485bdff8ee7b8885bdf",
      "da6e2363b7104268bdf84fa0c017ca50",
      "2edcec1e4a3943008b9fd173dc15687d",
      "121589cbf1dc454e9483420b4f674368",
      "a327878c292c4e3a9678cb04cd6c123d",
      "2562c919d85e43aaa3fd0dda3929c00e",
      "97de01b7a3d746088ccfe66bb18453a5"
     ]
    },
    "executionInfo": {
     "elapsed": 342,
     "status": "ok",
     "timestamp": 1677612494099,
     "user": {
      "displayName": "Michael Cardiff",
      "userId": "10601691416044821124"
     },
     "user_tz": 360
    },
    "id": "3Wf1rnpRKGvd",
    "outputId": "6f0b759e-3250-4e12-a0a0-74c61a8c7a34"
   },
   "outputs": [
    {
     "data": {
      "application/vnd.jupyter.widget-view+json": {
       "model_id": "aae1805f7ee540549f9a1aa68c2b793b",
       "version_major": 2,
       "version_minor": 0
      },
      "text/plain": [
       "interactive(children=(IntSlider(value=0, description='tstep', max=719), Output()), _dom_classes=('widget-inter…"
      ]
     },
     "metadata": {},
     "output_type": "display_data"
    }
   ],
   "source": [
    "#Create function to plot the explicit solution and use iPython Widgets to visualize\n",
    "\n",
    "def plot_exp(tstep):\n",
    "    fig, axes = plt.subplots(1, 1, figsize=(8, 3))\n",
    "    axes.plot(x, h_soln_exp[tstep,:])\n",
    "    axes.set_title(f'Time = {tstep*dt}')\n",
    "\n",
    "## Generate our user interface.\n",
    "widgets.interact(plot_exp, tstep=widgets.IntSlider(0,min=0,max=(num_tstep-1)));"
   ]
  },
  {
   "cell_type": "code",
   "execution_count": 6,
   "metadata": {
    "colab": {
     "base_uri": "https://localhost:8080/",
     "height": 281,
     "referenced_widgets": [
      "b57c859fa85e408d910a69c7d3a0f692",
      "c473338b644c4b84a139c36556182dd4",
      "8f68a338d121482782dd0829846c3c02",
      "d9e34757739141c38c470e404415e069",
      "8c23d9b5e15a4de68352d6c13b279b97",
      "441cd4d5dbeb4705b0c0335e48dd8816",
      "5986c58e964845c39191f65491a663d9"
     ]
    },
    "executionInfo": {
     "elapsed": 311,
     "status": "ok",
     "timestamp": 1677612494405,
     "user": {
      "displayName": "Michael Cardiff",
      "userId": "10601691416044821124"
     },
     "user_tz": 360
    },
    "id": "WSw0rDfEjPKn",
    "outputId": "cb6c668e-06aa-4f77-cb57-4f37824a554d"
   },
   "outputs": [
    {
     "data": {
      "application/vnd.jupyter.widget-view+json": {
       "model_id": "ff7c073eff8e422eb0cb1bf72ffa9da9",
       "version_major": 2,
       "version_minor": 0
      },
      "text/plain": [
       "interactive(children=(IntSlider(value=0, description='tstep', max=719), Output()), _dom_classes=('widget-inter…"
      ]
     },
     "metadata": {},
     "output_type": "display_data"
    }
   ],
   "source": [
    "#Create function to plot the implicit solution and use iPython Widgets to visualize\n",
    "\n",
    "def plot_imp(tstep):\n",
    "    fig, axes = plt.subplots(1, 1, figsize=(8, 3))\n",
    "    axes.plot(x, h_soln_imp[tstep,:])\n",
    "    axes.set_title(f'Time = {tstep*dt}')\n",
    "    print(tstep*dt)\n",
    "\n",
    "## Generate our user interface.\n",
    "widgets.interact(plot_imp, tstep=widgets.IntSlider(0,min=0,max=(num_tstep-1)));"
   ]
  }
 ],
 "metadata": {
  "colab": {
   "authorship_tag": "ABX9TyNnIk3k6vUWIHVntbklIMXk",
   "provenance": [
    {
     "file_id": "16gNDWYeAIBzthQXQ-UrNHDCjrQf0u5jr",
     "timestamp": 1677183540105
    }
   ]
  },
  "kernelspec": {
   "display_name": "Python 3 (ipykernel)",
   "language": "python",
   "name": "python3"
  },
  "language_info": {
   "codemirror_mode": {
    "name": "ipython",
    "version": 3
   },
   "file_extension": ".py",
   "mimetype": "text/x-python",
   "name": "python",
   "nbconvert_exporter": "python",
   "pygments_lexer": "ipython3",
   "version": "3.9.20"
  },
  "widgets": {
   "application/vnd.jupyter.widget-state+json": {
    "121589cbf1dc454e9483420b4f674368": {
     "model_module": "@jupyter-widgets/base",
     "model_module_version": "1.2.0",
     "model_name": "LayoutModel",
     "state": {
      "_model_module": "@jupyter-widgets/base",
      "_model_module_version": "1.2.0",
      "_model_name": "LayoutModel",
      "_view_count": null,
      "_view_module": "@jupyter-widgets/base",
      "_view_module_version": "1.2.0",
      "_view_name": "LayoutView",
      "align_content": null,
      "align_items": null,
      "align_self": null,
      "border": null,
      "bottom": null,
      "display": null,
      "flex": null,
      "flex_flow": null,
      "grid_area": null,
      "grid_auto_columns": null,
      "grid_auto_flow": null,
      "grid_auto_rows": null,
      "grid_column": null,
      "grid_gap": null,
      "grid_row": null,
      "grid_template_areas": null,
      "grid_template_columns": null,
      "grid_template_rows": null,
      "height": null,
      "justify_content": null,
      "justify_items": null,
      "left": null,
      "margin": null,
      "max_height": null,
      "max_width": null,
      "min_height": null,
      "min_width": null,
      "object_fit": null,
      "object_position": null,
      "order": null,
      "overflow": null,
      "overflow_x": null,
      "overflow_y": null,
      "padding": null,
      "right": null,
      "top": null,
      "visibility": null,
      "width": null
     }
    },
    "2562c919d85e43aaa3fd0dda3929c00e": {
     "model_module": "@jupyter-widgets/controls",
     "model_module_version": "1.5.0",
     "model_name": "SliderStyleModel",
     "state": {
      "_model_module": "@jupyter-widgets/controls",
      "_model_module_version": "1.5.0",
      "_model_name": "SliderStyleModel",
      "_view_count": null,
      "_view_module": "@jupyter-widgets/base",
      "_view_module_version": "1.2.0",
      "_view_name": "StyleView",
      "description_width": "",
      "handle_color": null
     }
    },
    "2edcec1e4a3943008b9fd173dc15687d": {
     "model_module": "@jupyter-widgets/output",
     "model_module_version": "1.0.0",
     "model_name": "OutputModel",
     "state": {
      "_dom_classes": [],
      "_model_module": "@jupyter-widgets/output",
      "_model_module_version": "1.0.0",
      "_model_name": "OutputModel",
      "_view_count": null,
      "_view_module": "@jupyter-widgets/output",
      "_view_module_version": "1.0.0",
      "_view_name": "OutputView",
      "layout": "IPY_MODEL_97de01b7a3d746088ccfe66bb18453a5",
      "msg_id": "",
      "outputs": [
       {
        "name": "stdout",
        "output_type": "stream",
        "text": [
         "0\n"
        ]
       },
       {
        "data": {
         "image/png": "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\n",
         "text/plain": "<Figure size 576x216 with 1 Axes>"
        },
        "metadata": {
         "needs_background": "light"
        },
        "output_type": "display_data"
       }
      ]
     }
    },
    "441cd4d5dbeb4705b0c0335e48dd8816": {
     "model_module": "@jupyter-widgets/controls",
     "model_module_version": "1.5.0",
     "model_name": "SliderStyleModel",
     "state": {
      "_model_module": "@jupyter-widgets/controls",
      "_model_module_version": "1.5.0",
      "_model_name": "SliderStyleModel",
      "_view_count": null,
      "_view_module": "@jupyter-widgets/base",
      "_view_module_version": "1.2.0",
      "_view_name": "StyleView",
      "description_width": "",
      "handle_color": null
     }
    },
    "5986c58e964845c39191f65491a663d9": {
     "model_module": "@jupyter-widgets/base",
     "model_module_version": "1.2.0",
     "model_name": "LayoutModel",
     "state": {
      "_model_module": "@jupyter-widgets/base",
      "_model_module_version": "1.2.0",
      "_model_name": "LayoutModel",
      "_view_count": null,
      "_view_module": "@jupyter-widgets/base",
      "_view_module_version": "1.2.0",
      "_view_name": "LayoutView",
      "align_content": null,
      "align_items": null,
      "align_self": null,
      "border": null,
      "bottom": null,
      "display": null,
      "flex": null,
      "flex_flow": null,
      "grid_area": null,
      "grid_auto_columns": null,
      "grid_auto_flow": null,
      "grid_auto_rows": null,
      "grid_column": null,
      "grid_gap": null,
      "grid_row": null,
      "grid_template_areas": null,
      "grid_template_columns": null,
      "grid_template_rows": null,
      "height": null,
      "justify_content": null,
      "justify_items": null,
      "left": null,
      "margin": null,
      "max_height": null,
      "max_width": null,
      "min_height": null,
      "min_width": null,
      "object_fit": null,
      "object_position": null,
      "order": null,
      "overflow": null,
      "overflow_x": null,
      "overflow_y": null,
      "padding": null,
      "right": null,
      "top": null,
      "visibility": null,
      "width": null
     }
    },
    "62308eeafc0a4485bdff8ee7b8885bdf": {
     "model_module": "@jupyter-widgets/controls",
     "model_module_version": "1.5.0",
     "model_name": "VBoxModel",
     "state": {
      "_dom_classes": [
       "widget-interact"
      ],
      "_model_module": "@jupyter-widgets/controls",
      "_model_module_version": "1.5.0",
      "_model_name": "VBoxModel",
      "_view_count": null,
      "_view_module": "@jupyter-widgets/controls",
      "_view_module_version": "1.5.0",
      "_view_name": "VBoxView",
      "box_style": "",
      "children": [
       "IPY_MODEL_da6e2363b7104268bdf84fa0c017ca50",
       "IPY_MODEL_2edcec1e4a3943008b9fd173dc15687d"
      ],
      "layout": "IPY_MODEL_121589cbf1dc454e9483420b4f674368"
     }
    },
    "8c23d9b5e15a4de68352d6c13b279b97": {
     "model_module": "@jupyter-widgets/base",
     "model_module_version": "1.2.0",
     "model_name": "LayoutModel",
     "state": {
      "_model_module": "@jupyter-widgets/base",
      "_model_module_version": "1.2.0",
      "_model_name": "LayoutModel",
      "_view_count": null,
      "_view_module": "@jupyter-widgets/base",
      "_view_module_version": "1.2.0",
      "_view_name": "LayoutView",
      "align_content": null,
      "align_items": null,
      "align_self": null,
      "border": null,
      "bottom": null,
      "display": null,
      "flex": null,
      "flex_flow": null,
      "grid_area": null,
      "grid_auto_columns": null,
      "grid_auto_flow": null,
      "grid_auto_rows": null,
      "grid_column": null,
      "grid_gap": null,
      "grid_row": null,
      "grid_template_areas": null,
      "grid_template_columns": null,
      "grid_template_rows": null,
      "height": null,
      "justify_content": null,
      "justify_items": null,
      "left": null,
      "margin": null,
      "max_height": null,
      "max_width": null,
      "min_height": null,
      "min_width": null,
      "object_fit": null,
      "object_position": null,
      "order": null,
      "overflow": null,
      "overflow_x": null,
      "overflow_y": null,
      "padding": null,
      "right": null,
      "top": null,
      "visibility": null,
      "width": null
     }
    },
    "8f68a338d121482782dd0829846c3c02": {
     "model_module": "@jupyter-widgets/output",
     "model_module_version": "1.0.0",
     "model_name": "OutputModel",
     "state": {
      "_dom_classes": [],
      "_model_module": "@jupyter-widgets/output",
      "_model_module_version": "1.0.0",
      "_model_name": "OutputModel",
      "_view_count": null,
      "_view_module": "@jupyter-widgets/output",
      "_view_module_version": "1.0.0",
      "_view_name": "OutputView",
      "layout": "IPY_MODEL_5986c58e964845c39191f65491a663d9",
      "msg_id": "",
      "outputs": [
       {
        "name": "stdout",
        "output_type": "stream",
        "text": [
         "0\n"
        ]
       },
       {
        "data": {
         "image/png": "iVBORw0KGgoAAAANSUhEUgAAAeAAAADCCAYAAACRxxEcAAAAOXRFWHRTb2Z0d2FyZQBNYXRwbG90bGliIHZlcnNpb24zLjUuMywgaHR0cHM6Ly9tYXRwbG90bGliLm9yZy/NK7nSAAAACXBIWXMAAAsTAAALEwEAmpwYAAAPkUlEQVR4nO3de4xc91nG8efxzu6M7cw0F8+ZhjrGTZumCih1xRKlooAToDIhIhQKwqIiiCBzKypSq6gXiXBRJKDQcKtAhljuH8EQQVOqAiJRG9X8Edqum5tDUggoCY6Cd4Kb2E5iO/a+/DFnndVmN7s7e+b8zsx8P5LlnTPHe1791MnT91zecUQIAACUa0PqAgAAGEcEMAAACRDAAAAkQAADAJAAAQwAQAIEMAAACdTKPNiWLVti+/btZR4SAIBkDh069HxEtJd6r9QA3r59u2ZmZso8JAAAydh+ern3OAUNAEACBDAAAAkQwAAAJEAAAwCQAAEMAEACBDAAAAkQwAAAJEAAAwCQwIoBbHuf7Vnbhxdt/zXbT9h+zPbvD65EAABGz2o64P2Sdi3cYPs6STdJeldEfIekPyi+NAAARteKoygj4qDt7Ys2/7Kk342I0/k+swOo7Q0devqYHnzmhbIPCwAYAhunJvSB79qqem0idSnL6ncW9Dskfa/t2yWdkvTRiPj6Ujva3iNpjyRt27atz8O93le+2dWffPnJwn4fAGC0XPqmhq5/Zyd1GcvqN4Brki6WdK2k75Z0t+3LIyIW7xgReyXtlaTp6enXvd+vX7nu7fqF77u8qF8HABgRs8dP6wc//RU99+Kp1KW8oX4D+Iikz+WB+zXbc5K2SOoWVtkKGpMTakxW99QCACCNjZMTsntBXGX9Pob0eUnXSZLtd0iakvR8QTUBANC3yYkNumTzlGZPDHkHbPuApJ2Sttg+Iuk2Sfsk7csfTToj6ealTj8DAJBC1mxUvgNezV3Qu5d564MF1wIAQCGyVl1HK94BMwkLADByOkPQARPAAICRk7Xqev7kaZ2bq+7VUQIYADByslZDcyH938nqdsEEMABg5GTNuiTpaIVPQxPAAICR02k1JKnSjyIRwACAkUMHDABAAu08gOmAAQAo0fw0LDpgAABKlrUa6tIBAwBQrqxZpwMGAKBsnVada8AAAJQtazbUPVHdaVgEMABgJHVa9d40rJeqeRqaAAYAjKR2Mx/GUdHrwAQwAGAkdVrVfhaYAAYAjKQsH0dZ1TuhCWAAwEhqX5B3wAQwAADlmapt0MWbp3R0WE9B295ne9b24QXbftP2s7Yfyv/cMNgyAQBYu6xZH+oOeL+kXUtsvyMiduR//qnYsgAAWL+s1Rjem7Ai4qCkYyXUAgBAoTpD3gEv50O2H8lPUV+03E6299iesT3T7XbXcTgAANYma9XVPVnNaVj9BvCfS3qbpB2SnpP0h8vtGBF7I2I6Iqbb7XafhwMAYO06rYbOzYWOvXQmdSmv01cAR8TRiDgXEXOS/lLSNcWWBQDA+mXN6g7j6CuAbV+64OX7JR1ebl8AAFKp8jjK2ko72D4gaaekLbaPSLpN0k7bOySFpKck/eLgSgQAoD9VHke5YgBHxO4lNt85gFoAAChUOz8FXcVxlEzCAgCMrHptQhdtmqxkB0wAAwBGWtZs0AEDAFC2rFXX7AkCGACAUmXNhmaPcwoaAIBSdVp1dU+c1lzFpmERwACAkZY16zo7Fzr2crWmYRHAAICR1mlVcxgHAQwAGGlZPozjaMUeRSKAAQAjLcvHUXbpgAEAKM9r07DogAEAKE1jckIXbpqs3LPABDAAYORlzTodMAAAZeu0GnTAAACUrd2sV24aFgEMABh5nVZD3ZPVmoZFAAMARl7WrOvVc6FvVWgaFgEMABh556dhVeg6MAEMABh5WQWfBV4xgG3vsz1r+/AS733EdtjeMpjyAABYv2HtgPdL2rV4o+3LJL1P0jMF1wQAQKHmp2FV6U7oFQM4Ig5KOrbEW3dIulVSdW4pAwBgCY3JCb1pY7WmYfV1Ddj2TZKejYiHC64HAICBqNo0rNpa/4HtTZI+od7p59Xsv0fSHknatm3bWg8HAEAhqjYNq58O+G2S3irpYdtPSdoq6Ru237zUzhGxNyKmI2K63W73XykAAOuQNeuardBXEq65A46IRyVl86/zEJ6OiOcLrAsAgEJlrYa6J04rImQ7dTmregzpgKQHJF1p+4jtWwZfFgAAxcqadZ05N6cXXn41dSmSVtEBR8TuFd7fXlg1AAAMyPyzwEdPnNJFm6cSV8MkLADAmMha888CV+M6MAEMABgLVRtHSQADAMZC1qzWOEoCGAAwFjZOTajZqFVmHCUBDAAYG1UaxkEAAwDGRpXGURLAAICxQQcMAEAC8+MoI9J/kR8BDAAYG1mroTPn5vTiK+mnYRHAAICx8dqzwOlPQxPAAICxMT+OcvZE+huxCGAAwNigAwYAIIHz86DpgAEAKM+mqZqa9VolvpCBAAYAjJWsVacDBgCgbFmzwTVgAADK1qEDBgCgfFmr1wGnnoa1YgDb3md71vbhBdt+x/Yjth+yfa/tbxtsmQAAFCNr1nXm7JyOv3I2aR2r6YD3S9q1aNunIuLqiNgh6YuSfqPgugAAGIgsH8ZxNPFp6BUDOCIOSjq2aNvxBS83S0o/1RoAgFXo5MM4Uj+KVOv3H9q+XdLPSnpR0nWFVQQAwACd74ATfy9w3zdhRcQnI+IySXdJ+tBy+9neY3vG9ky32+33cAAAFGJ+HGXq7wUu4i7ouyT9xHJvRsTeiJiOiOl2u13A4QAA6N/mek0X1GvJH0XqK4BtX7Hg5U2SniimHAAABi9r1at/Ddj2AUk7JW2xfUTSbZJusH2lpDlJT0v6pUEWCQBAkbJm+mEcKwZwROxeYvOdA6gFAIBSdFoNPfjMC0lrYBIWAGDszHfAKadhEcAAgLHTaTV06tU5HT+VbhoWAQwAGDvt/FGkbsLrwAQwAGDsZM35YRzp7oQmgAEAY6fTmh/GQQcMAEBpXhtHSQcMAEBpLqjXtHlqIukwDgIYADCWslYj6VcSEsAAgLGUNevq0gEDAFAuOmAAABLoNHtfyJBqGhYBDAAYS1mrrldePacTp9NMwyKAAQBjqZM/ipTqTmgCGAAwlubHUc4eT3MdmAAGAIyl8x3wCTpgAABKk+Ud8FE6YAAAynNBvaZNUxN0wAAAlMm2smadDhgAgLJlrUZ1O2Db+2zP2j68YNunbD9h+xHb99i+cKBVAgAwAFmzXum7oPdL2rVo232SvjMirpb0H5I+XnBdAAAMXCfvgFNMw1oxgCPioKRji7bdGxHzo0P+TdLWAdQGAMBAZc26Xj5zTicTTMMq4hrwz0v65+XetL3H9oztmW63W8DhAAAoRspngdcVwLY/KemspLuW2yci9kbEdERMt9vt9RwOAIBCZeenYZUfwLV+/6Htn5N0o6QfiFRfJQEAwDpk5zvg8m/E6iuAbe+SdKuk74+Il4stCQCAcmStdB3wah5DOiDpAUlX2j5i+xZJfyapKek+2w/Z/osB1wkAQOGa9Zo2Tk4kGcaxYgccEbuX2HznAGoBAKBUtpW16sN3ExYAAMOu02wk6YAJYADAWGu36urSAQMAUC46YAAAEshadb2UYBoWAQwAGGuvDeMotwsmgAEAYy3VOEoCGAAw1uY74LKvAxPAAICxNj+Osuw7oQlgAMBYazVqqtc20AEDAFAm2+q0GlwDBgCgbFmzTgcMAEDZ6IABAEig3ayX/pWEBDAAYOx1Wg2dPH1WL5U4DYsABgCMvfPTsEo8DU0AAwDG3vlpWCXeiEUAAwDGXtbKp2HRAQMAUJ5Os4IdsO19tmdtH16w7SdtP2Z7zvb0YEsEAGCwWhtrmqptqNw14P2Sdi3adljSj0s6WHRBAACUrTcNq15qB1xbaYeIOGh7+6Jtj0u9ggEAGAVZs6GjJT4LPPBrwLb32J6xPdPtdgd9OAAA+vLmVkOnzp4r7XgrdsDrFRF7Je2VpOnp6Rj08QAA6Mef7n63Nmwo78wud0EDACCVGr4SAQwAQBKreQzpgKQHJF1p+4jtW2y/3/YRSe+R9I+2/2XQhQIAMEpWcxf07mXeuqfgWgAAGBucggYAIAECGACABAhgAAASIIABAEiAAAYAIAECGACABAhgAAASIIABAEjAEeV9P4LtrqSnC/yVWyQ9X+DvG0esYTFYx/VjDdePNVy/otfw2yOivdQbpQZw0WzPRMR06jqGGWtYDNZx/VjD9WMN16/MNeQUNAAACRDAAAAkMOwBvDd1ASOANSwG67h+rOH6sYbrV9oaDvU1YAAAhtWwd8AAAAyloQ1g27tsf9P2k7Y/lrqeYWB7n+1Z24cXbLvY9n22/zP/+6KUNVad7cts32/7320/ZvvD+XbWcZVsN2x/zfbD+Rr+Vr79rba/mn+m/9b2VOpaq872hO0HbX8xf80arpHtp2w/avsh2zP5tlI+z0MZwLYnJH1G0g9LukrSbttXpa1qKOyXtGvRto9J+lJEXCHpS/lrLO+spI9ExFWSrpX0q/n/9ljH1Tst6fqIeJekHZJ22b5W0u9JuiMi3i7pW5JuSVfi0PiwpMcXvGYN+3NdROxY8PhRKZ/noQxgSddIejIi/jsizkj6G0k3Ja6p8iLioKRjizbfJOmz+c+flfRjZdY0bCLiuYj4Rv7zCfX+4/cWsY6rFj0n85eT+Z+QdL2kv8u3s4YrsL1V0o9I+qv8tcUaFqWUz/OwBvBbJP3PgtdH8m1Yu05EPJf//L+SOimLGSa2t0t6t6SvinVck/zU6UOSZiXdJ+m/JL0QEWfzXfhMr+yPJN0qaS5/fYlYw36EpHttH7K9J99Wyue5NohfiuEUEWGb2+JXwfYFkv5e0q9HxPFe89HDOq4sIs5J2mH7Qkn3SHpn2oqGi+0bJc1GxCHbOxOXM+zeGxHP2s4k3Wf7iYVvDvLzPKwd8LOSLlvwemu+DWt31PalkpT/PZu4nsqzPale+N4VEZ/LN7OOfYiIFyTdL+k9ki60Pd8U8Jl+Y98j6UdtP6XeJbjrJf2xWMM1i4hn879n1fs/g9eopM/zsAbw1yVdkd/xNyXppyV9IXFNw+oLkm7Of75Z0j8krKXy8utsd0p6PCI+veAt1nGVbLfzzle2N0r6IfWupd8v6QP5bqzhG4iIj0fE1ojYrt5//74cET8j1nBNbG+23Zz/WdL7JB1WSZ/noR3EYfsG9a6BTEjaFxG3p62o+mwfkLRTvW/7OCrpNkmfl3S3pG3qfVPVT0XE4hu1kLP9Xkn/KulRvXbt7RPqXQdmHVfB9tXq3dgyoV4TcHdE/Lbty9Xr5i6W9KCkD0bE6XSVDof8FPRHI+JG1nBt8vW6J39Zk/TXEXG77UtUwud5aAMYAIBhNqynoAEAGGoEMAAACRDAAAAkQAADAJAAAQwAQAIEMAAACRDAAAAkQAADAJDA/wOHF8peR1L+swAAAABJRU5ErkJggg==\n",
         "text/plain": "<Figure size 576x216 with 1 Axes>"
        },
        "metadata": {
         "needs_background": "light"
        },
        "output_type": "display_data"
       }
      ]
     }
    },
    "97de01b7a3d746088ccfe66bb18453a5": {
     "model_module": "@jupyter-widgets/base",
     "model_module_version": "1.2.0",
     "model_name": "LayoutModel",
     "state": {
      "_model_module": "@jupyter-widgets/base",
      "_model_module_version": "1.2.0",
      "_model_name": "LayoutModel",
      "_view_count": null,
      "_view_module": "@jupyter-widgets/base",
      "_view_module_version": "1.2.0",
      "_view_name": "LayoutView",
      "align_content": null,
      "align_items": null,
      "align_self": null,
      "border": null,
      "bottom": null,
      "display": null,
      "flex": null,
      "flex_flow": null,
      "grid_area": null,
      "grid_auto_columns": null,
      "grid_auto_flow": null,
      "grid_auto_rows": null,
      "grid_column": null,
      "grid_gap": null,
      "grid_row": null,
      "grid_template_areas": null,
      "grid_template_columns": null,
      "grid_template_rows": null,
      "height": null,
      "justify_content": null,
      "justify_items": null,
      "left": null,
      "margin": null,
      "max_height": null,
      "max_width": null,
      "min_height": null,
      "min_width": null,
      "object_fit": null,
      "object_position": null,
      "order": null,
      "overflow": null,
      "overflow_x": null,
      "overflow_y": null,
      "padding": null,
      "right": null,
      "top": null,
      "visibility": null,
      "width": null
     }
    },
    "a327878c292c4e3a9678cb04cd6c123d": {
     "model_module": "@jupyter-widgets/base",
     "model_module_version": "1.2.0",
     "model_name": "LayoutModel",
     "state": {
      "_model_module": "@jupyter-widgets/base",
      "_model_module_version": "1.2.0",
      "_model_name": "LayoutModel",
      "_view_count": null,
      "_view_module": "@jupyter-widgets/base",
      "_view_module_version": "1.2.0",
      "_view_name": "LayoutView",
      "align_content": null,
      "align_items": null,
      "align_self": null,
      "border": null,
      "bottom": null,
      "display": null,
      "flex": null,
      "flex_flow": null,
      "grid_area": null,
      "grid_auto_columns": null,
      "grid_auto_flow": null,
      "grid_auto_rows": null,
      "grid_column": null,
      "grid_gap": null,
      "grid_row": null,
      "grid_template_areas": null,
      "grid_template_columns": null,
      "grid_template_rows": null,
      "height": null,
      "justify_content": null,
      "justify_items": null,
      "left": null,
      "margin": null,
      "max_height": null,
      "max_width": null,
      "min_height": null,
      "min_width": null,
      "object_fit": null,
      "object_position": null,
      "order": null,
      "overflow": null,
      "overflow_x": null,
      "overflow_y": null,
      "padding": null,
      "right": null,
      "top": null,
      "visibility": null,
      "width": null
     }
    },
    "b57c859fa85e408d910a69c7d3a0f692": {
     "model_module": "@jupyter-widgets/controls",
     "model_module_version": "1.5.0",
     "model_name": "VBoxModel",
     "state": {
      "_dom_classes": [
       "widget-interact"
      ],
      "_model_module": "@jupyter-widgets/controls",
      "_model_module_version": "1.5.0",
      "_model_name": "VBoxModel",
      "_view_count": null,
      "_view_module": "@jupyter-widgets/controls",
      "_view_module_version": "1.5.0",
      "_view_name": "VBoxView",
      "box_style": "",
      "children": [
       "IPY_MODEL_c473338b644c4b84a139c36556182dd4",
       "IPY_MODEL_8f68a338d121482782dd0829846c3c02"
      ],
      "layout": "IPY_MODEL_d9e34757739141c38c470e404415e069"
     }
    },
    "c473338b644c4b84a139c36556182dd4": {
     "model_module": "@jupyter-widgets/controls",
     "model_module_version": "1.5.0",
     "model_name": "IntSliderModel",
     "state": {
      "_dom_classes": [],
      "_model_module": "@jupyter-widgets/controls",
      "_model_module_version": "1.5.0",
      "_model_name": "IntSliderModel",
      "_view_count": null,
      "_view_module": "@jupyter-widgets/controls",
      "_view_module_version": "1.5.0",
      "_view_name": "IntSliderView",
      "continuous_update": true,
      "description": "tstep",
      "description_tooltip": null,
      "disabled": false,
      "layout": "IPY_MODEL_8c23d9b5e15a4de68352d6c13b279b97",
      "max": 24,
      "min": 0,
      "orientation": "horizontal",
      "readout": true,
      "readout_format": "d",
      "step": 1,
      "style": "IPY_MODEL_441cd4d5dbeb4705b0c0335e48dd8816",
      "value": 0
     }
    },
    "d9e34757739141c38c470e404415e069": {
     "model_module": "@jupyter-widgets/base",
     "model_module_version": "1.2.0",
     "model_name": "LayoutModel",
     "state": {
      "_model_module": "@jupyter-widgets/base",
      "_model_module_version": "1.2.0",
      "_model_name": "LayoutModel",
      "_view_count": null,
      "_view_module": "@jupyter-widgets/base",
      "_view_module_version": "1.2.0",
      "_view_name": "LayoutView",
      "align_content": null,
      "align_items": null,
      "align_self": null,
      "border": null,
      "bottom": null,
      "display": null,
      "flex": null,
      "flex_flow": null,
      "grid_area": null,
      "grid_auto_columns": null,
      "grid_auto_flow": null,
      "grid_auto_rows": null,
      "grid_column": null,
      "grid_gap": null,
      "grid_row": null,
      "grid_template_areas": null,
      "grid_template_columns": null,
      "grid_template_rows": null,
      "height": null,
      "justify_content": null,
      "justify_items": null,
      "left": null,
      "margin": null,
      "max_height": null,
      "max_width": null,
      "min_height": null,
      "min_width": null,
      "object_fit": null,
      "object_position": null,
      "order": null,
      "overflow": null,
      "overflow_x": null,
      "overflow_y": null,
      "padding": null,
      "right": null,
      "top": null,
      "visibility": null,
      "width": null
     }
    },
    "da6e2363b7104268bdf84fa0c017ca50": {
     "model_module": "@jupyter-widgets/controls",
     "model_module_version": "1.5.0",
     "model_name": "IntSliderModel",
     "state": {
      "_dom_classes": [],
      "_model_module": "@jupyter-widgets/controls",
      "_model_module_version": "1.5.0",
      "_model_name": "IntSliderModel",
      "_view_count": null,
      "_view_module": "@jupyter-widgets/controls",
      "_view_module_version": "1.5.0",
      "_view_name": "IntSliderView",
      "continuous_update": true,
      "description": "tstep",
      "description_tooltip": null,
      "disabled": false,
      "layout": "IPY_MODEL_a327878c292c4e3a9678cb04cd6c123d",
      "max": 24,
      "min": 0,
      "orientation": "horizontal",
      "readout": true,
      "readout_format": "d",
      "step": 1,
      "style": "IPY_MODEL_2562c919d85e43aaa3fd0dda3929c00e",
      "value": 0
     }
    }
   }
  }
 },
 "nbformat": 4,
 "nbformat_minor": 4
}
