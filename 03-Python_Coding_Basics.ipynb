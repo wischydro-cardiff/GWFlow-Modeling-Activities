{
 "cells": [
  {
   "cell_type": "markdown",
   "id": "16acd09d-0df8-4c7b-8c6e-a73419818e36",
   "metadata": {
    "editable": true,
    "slideshow": {
     "slide_type": ""
    },
    "tags": []
   },
   "source": [
    "# Introduction to Coding in Python"
   ]
  },
  {
   "cell_type": "markdown",
   "id": "163a2464-7f56-4be2-a988-d370c58b5a30",
   "metadata": {},
   "source": [
    "This notebook is meant to give you a brief introduction to coding with Python. Before jumping into the variety of modules, tools, and utilities that have been built by the Python developer community, it's worthwhile to spend some time understanding the basics of the original language (without any add-ons) and some conventions that must be learned.\n",
    "\n",
    "Python is currently listed as one of the most popular coding languages on the planet. There are many reasons for this.\n",
    "* It's open-source and freely available\n",
    "* Code written in Python is often more human-readable than other languages like C or Java\n",
    "* The developer community (including some big names like Google and Microsoft) have written excellent modules in Python for popular tasks like Natural Language Processing, Machine Learning and scientific computing, and made them freely available.\n",
    "* Free development tools like Jupyter Lab (hello!) have made coding and debugging more intuitive and efficient.\n",
    "\n",
    "Still, if you are just getting started with coding, be prepared that there are some things about Python that will cause you grief and take up your time.\n",
    "* There are some strange conventions you have to get used to, like the fact that the first element of an array `a` is numbered `a[0]` (so-called \"zero-indexing\")\n",
    "* There is no \"help line\" to give you official, correct answers. Googling error messages and testing the answers carefully is the coder's responsibility!\n",
    "* Python module developers tend to extend the language by creating their own datatypes/\"objects\" and conventions. Once you start working with more than one Python module, you may find yourself doing a lot of conversion between modules and having to remember different conventions!\n"
   ]
  },
  {
   "cell_type": "markdown",
   "id": "7a734223-b33c-45c9-8a6e-7c6f26ad87b5",
   "metadata": {},
   "source": [
    "## Learning Objectives"
   ]
  },
  {
   "cell_type": "markdown",
   "id": "ed38c4b2-59c7-4fcc-95ba-0a526105c9af",
   "metadata": {},
   "source": [
    "**After you have read and run this notebook, you should be able to:**\n",
    "* Remember key conventions in Python, such as zero-indexing and necessary indentation of code blocks;\n",
    "* Be able to create and operate on the base Python data types including numerics, strings, lists, dicts;\n",
    "* Be able to apply basic program logic such as if-then and loops; and\n",
    "* Recognize features within modules including variable class definitions and functions."
   ]
  },
  {
   "cell_type": "markdown",
   "id": "68c21d99-2749-4049-bad4-a2291b27be04",
   "metadata": {},
   "source": [
    "# Built-in Data types"
   ]
  },
  {
   "cell_type": "markdown",
   "id": "3b9992b1-ce71-4a3b-b581-669c2334d30b",
   "metadata": {},
   "source": [
    "In the beginning, there were the built-in data types. The built-in data types were used to store simple information such as numbers and letters. Just declaring the value of a variable was enough to assign it a data type. Basic operations were well-defined for each of the data types. Life was good."
   ]
  },
  {
   "cell_type": "markdown",
   "id": "2e0b7a0c-1065-488c-b303-7e58b3dcd81b",
   "metadata": {
    "jp-MarkdownHeadingCollapsed": true
   },
   "source": [
    "## Numeric data types and operations"
   ]
  },
  {
   "cell_type": "markdown",
   "id": "424f524c-66e5-49a3-b3a0-6d3a3b187021",
   "metadata": {},
   "source": [
    "Every good computing language's first job is to be good with numbers. Here we demonstrate the majority of the types of operations you will end up using on numbers, and how they behave."
   ]
  },
  {
   "cell_type": "code",
   "execution_count": 1,
   "id": "18567320-1818-428c-88c9-ade29ab3787e",
   "metadata": {},
   "outputs": [
    {
     "name": "stdout",
     "output_type": "stream",
     "text": [
      "Hello world\n",
      "Hello world and Hello Python!\n",
      "a is 3\n",
      "a's type is <class 'int'>\n",
      "a + 1 is 4\n",
      "a - a is 0\n",
      "a squared is 9\n",
      "b=a/2 is 1.5\n",
      "a times 5 is 15\n",
      "c is 3\n",
      "c's type is <class 'int'>\n",
      "a is now -35.99\n",
      "a's type is <class 'float'>\n",
      "d=abs(c) is 36\n",
      "36 divided by 7 gives 5 with a remainder of 1\n",
      "Of the numbers we just made up, the largest is 36 ...\n",
      "... and the smallest is -36\n",
      "f is the complex number (3+2j) with class <class 'complex'>\n",
      "g is True with type <class 'bool'>\n"
     ]
    }
   ],
   "source": [
    "#As always, first we must learn how to get output - the print statement\n",
    "print('Hello world')\n",
    "print(\"Hello world\", 'and Hello Python!')\n",
    "\n",
    "#Now let's learn everything you need to know about numbers, by example\n",
    "a = 3\n",
    "print('a is', a)\n",
    "print(\"a's type is\", type(a))\n",
    "print('a + 1 is', a + 1)\n",
    "print('a - a is', a - a)\n",
    "print('a squared is', a**2)\n",
    "b = a/2\n",
    "print('b=a/2 is', b)\n",
    "print('a times 5 is', a*5)\n",
    "\n",
    "#Re-assigning the value as follows,\n",
    "#When needed, Python handles simple variable type conversions without asking\n",
    "c = -(2*a)**2\n",
    "print('c is', a)\n",
    "print(\"c's type is\", type(c))\n",
    "a = c + 0.01\n",
    "print('a is now', a)\n",
    "print(\"a's type is\", type(a))\n",
    "\n",
    "#Other mathy functions are built-in\n",
    "d = abs(c)\n",
    "print('d=abs(c) is', d)\n",
    "e = 7\n",
    "dividend, remainder = divmod(d, e)\n",
    "print(d, 'divided by', e, 'gives', dividend, 'with a remainder of', remainder)\n",
    "nummax = max(a,b,c,d,e)\n",
    "print('Of the numbers we just made up, the largest is', nummax,'...')\n",
    "print('... and the smallest is', min(a,b,c,d,e))\n",
    "\n",
    "#And other mathy constructs like Booleans and complex numbers are also along for the ride\n",
    "f = complex(3,2)\n",
    "print('f is the complex number', f, 'with class', type(f))\n",
    "g = True\n",
    "print('g is', g,'with type',type(g))"
   ]
  },
  {
   "cell_type": "markdown",
   "id": "ef1de137-cf16-47b8-bda0-7719ecc51166",
   "metadata": {},
   "source": [
    "## Text Type (string) - Introducing Object and Array notation"
   ]
  },
  {
   "attachments": {},
   "cell_type": "markdown",
   "id": "3cf62f6e-1d5c-48c2-b42f-e480530c2e9b",
   "metadata": {},
   "source": [
    "Because we're humans, we also want computers to be able to deal with characters, those fancy squiggles we use to represent mouth sounds and thoughts.\n",
    "\n",
    "Computers are designed inherently to know what to do with numbers. They had to be taught how to do things with letters, so we did! This was accomplished by attaching code to them, in the form of properties and methods. In Python, **strings are objects** (as used in the context of \"object-oriented programming\"), in that they are defined along with the built-in properties and methods for the string type when they are created. To access the internal abilities of any object, we use dot notation, as in the example of `mystring.upper()` and others below.\n",
    "\n",
    "One other thing to know about strings is that they are our also our first example of an **array**, meaning that the individual characters are stored in memory, in order, and can be accessed by **slicing** or \"indexing\" the array.\n",
    "\n",
    "Python defines an array starting with the value at index 0 (a.k.a. **zero-indexing**), and also allows \"negative indexing\". If indexing of arrays in Python seems confusing to you at first - well, I agree, it takes some getting used to. The figure below is a useful reminder on Python's conventions.\n",
    "\n",
    "![python_indexing](./doc_materials/python_indices.png 'Ways to refer to elements of an array')"
   ]
  },
  {
   "cell_type": "code",
   "execution_count": 2,
   "id": "82f044a7-0e09-457d-9ab5-fe05691489f3",
   "metadata": {
    "editable": true,
    "slideshow": {
     "slide_type": ""
    },
    "tags": []
   },
   "outputs": [
    {
     "name": "stdout",
     "output_type": "stream",
     "text": [
      "Basic operations\n",
      " ----------\n",
      "Hello world\n",
      "11\n",
      "<class 'str'>\n",
      "Hello worldand42\n",
      "\n",
      "String functions\n",
      " ----------\n",
      "Upper case, this is:  HELLO WORLD\n",
      "Centered with spaces:                Hello world               \n",
      "Is mystring numeric?:  False\n",
      "Is mynumstring numeric?: True\n",
      "\n",
      "Indexing strings as arrays\n",
      "----------\n",
      "The first character (remember, 0-indexing!): H\n",
      "The last character (remember, 0-indexing!): d\n",
      "Indexing by steps (explicit): Hlowrd\n",
      "Indexing by steps (implicit): Hlowrd\n",
      "Indexing by reverse steps (explicit): dlrow olleH\n",
      "Indexing by reverse steps (implicit): dlrow olleH\n"
     ]
    }
   ],
   "source": [
    "#Most everything you need to know about strings, by example\n",
    "#Note that this string has 11 characters (spaces count)\n",
    "mystring = 'Hello world'\n",
    "mynumstring = '42'\n",
    "\n",
    "#Basic operations on strings\n",
    "print('Basic operations\\n', '----------')\n",
    "print(mystring)\n",
    "print(len(mystring))\n",
    "print(type(mystring))\n",
    "print(mystring + 'and' + mynumstring)\n",
    "print()\n",
    "\n",
    "#Using functions attached to string objects\n",
    "print('String functions\\n', '----------')\n",
    "print('Upper case, this is: ', mystring.upper())\n",
    "print('Centered with spaces: ', mystring.center(40))\n",
    "print('Is mystring numeric?: ', mystring.isnumeric())\n",
    "print('Is mynumstring numeric?:', mynumstring.isnumeric())\n",
    "print()\n",
    "\n",
    "#Using indexes to get at parts of a string\n",
    "print('Indexing strings as arrays\\n----------')\n",
    "print('The first character (remember, 0-indexing!):', mystring[0])\n",
    "print('The last character (remember, 0-indexing!):', mystring[len(mystring)-1])\n",
    "\n",
    "#Indexing by using [start:stop:step] notation (explicit)\n",
    "print('Indexing by steps (explicit):', mystring[0:len(mystring):2])\n",
    "#Indexing by using [start:stop:step] (implicit)\n",
    "#Since start and stop are empty, they are assumed as the beginning and end\n",
    "print('Indexing by steps (implicit):', mystring[::2])\n",
    "#Indexing using negative numbers to step backwards (explicit)\n",
    "print('Indexing by reverse steps (explicit):', mystring[-1:(-len(mystring)-1):-1])\n",
    "#Indexing using negative numbers to step backwards (implicit - much more clean!)\n",
    "print('Indexing by reverse steps (implicit):', mystring[::-1])\n"
   ]
  },
  {
   "cell_type": "markdown",
   "id": "ee9e5e5d-cf35-47c4-842b-f4e6ba943f13",
   "metadata": {
    "editable": true,
    "slideshow": {
     "slide_type": ""
    },
    "tags": []
   },
   "source": [
    "### Exercises with Strings"
   ]
  },
  {
   "cell_type": "markdown",
   "id": "fd4ae738-59fb-493a-b593-6b7c0846fdb9",
   "metadata": {},
   "source": [
    "Try out the following to learn more about strings:\n",
    "* Strings can be added, as seen above. Can they be subtracted? Multiplied? Divided? Squared?\n",
    "* Find two other functions that are built-in to the string type and describe what they do"
   ]
  },
  {
   "cell_type": "code",
   "execution_count": 3,
   "id": "4bb6869f-3452-4d07-b8db-7c3b522bbb06",
   "metadata": {},
   "outputs": [],
   "source": [
    "#Answers to exercises go here\n",
    "\n",
    "#print(mystring*3)\n",
    "#print(mystring*mystring)\n"
   ]
  },
  {
   "cell_type": "markdown",
   "id": "a70e12ea-ef3e-48fc-8bb5-c85e2acca0d4",
   "metadata": {
    "editable": true,
    "slideshow": {
     "slide_type": ""
    },
    "tags": []
   },
   "source": [
    "## List and Tuple types"
   ]
  },
  {
   "cell_type": "markdown",
   "id": "a8db39fb-3273-4c8d-a3ec-2de6a4ce5d92",
   "metadata": {
    "editable": true,
    "slideshow": {
     "slide_type": ""
    },
    "tags": []
   },
   "source": [
    "Building on the concept of arrays, a **list** is a built-in type within Python that can contain multiple types inside of it. To build a list, place individual values within a pair of square brackets, as in `a = [1, 2, 3]`.\n",
    "\n",
    "The thing that makes lists very flexible is that values within a list can be of **any type**. Since lists are a type, you can also **store a list as an element of a list** (sometimes called a nested list). You can also add onto a list overtime using the `append` and `extend` functions.\n",
    "\n",
    "To access elements of a list, you can use the same techniques as with strings for **indexing**. You can also do something more fancy known as **list comprehension**, which is essentially a way to write a mini-program in one line. While this is very compact, it can quickly become \"clever\" and unreadable.\n",
    "\n",
    "Lists are really the building blocks for many of the complex data structures you will find in different python modules, and - especially if you are using modules from different developers - you will likely find that you have to spend time correctly extracting data from these structures, so it is worthwhile to spend time with the examples below.\n",
    "\n",
    "**Tuples** are very very similar to lists, with two main differences \n",
    "* they are created using parentheses, i.e. `atup = (1, 2, 3)`; and\n",
    "* they are **immutable**, i.e. they cannot have their values changed or be added to after they are created.\n",
    "\n",
    "This may seem like a silly data type to bother with, and in many practical applications you can get away with only using lists. The reason developers like tuples, though, is that they hold data securely and are more memory-efficient once they have been declared. So, you will see tuples from time to time, and it is worth recognizing that they have restrictions."
   ]
  },
  {
   "cell_type": "code",
   "execution_count": 4,
   "id": "226a1b8f-0cbd-4820-8d20-09ff9204896a",
   "metadata": {
    "editable": true,
    "slideshow": {
     "slide_type": ""
    },
    "tags": []
   },
   "outputs": [
    {
     "name": "stdout",
     "output_type": "stream",
     "text": [
      "Creating and editing LISTS\n",
      "[1, 2, 3]\n",
      "['Michael', 42, False]\n",
      "['Michael', 42, False, [1, 1, 2, 3, 5], ['blue', 'grey', 'green'], 'white', 'green']\n",
      "['Michael Cardiff', 42, False, [1, 1, 2, 3, 5], ['blue', 'grey', 'green'], 'white', 'green']\n",
      "\n",
      "Indexing LISTS\n",
      "2\n",
      "['Michael Cardiff', False, ['blue', 'grey', 'green'], 'green']\n",
      "[5, 3, 2, 1, 1]\n",
      "\n",
      "List Comprehension examples\n",
      "['Michael Cardiff', False, [1, 1, 2, 3, 5]]\n",
      "[[1, 1, 2, 3, 5], ['blue', 'grey', 'green']]\n",
      "\n",
      "Creating (and never editing) TUPLES\n",
      "(1, 2, 3)\n",
      "('Michael', 42, False)\n",
      "('Michael', 42, False, [1, 1, 2, 3, 5], ['blue', 'grey', 'green'])\n",
      "\n",
      "Indexing TUPLES\n",
      "2\n",
      "('Michael', False)\n",
      "[5, 3, 2, 1, 1]\n"
     ]
    }
   ],
   "source": [
    "#Different types of LISTS, from simple to complex\n",
    "print('Creating and editing LISTS')\n",
    "alist = [1, 2, 3]\n",
    "print(alist)\n",
    "#Store information on name, age, and whether the person is female\n",
    "myspeciallist = [\"Michael\", 42, False]\n",
    "print(myspeciallist)\n",
    "#Store similar information, but also add their favorite numbers and colors (as lists)\n",
    "#And then add their skin and eye color as separate items\n",
    "mynestedlist = myspeciallist\n",
    "mynestedlist.append([1, 1, 2, 3, 5]);\n",
    "mynestedlist.append([\"blue\",\"grey\",\"green\"])\n",
    "mynestedlist.extend([\"white\",\"green\"])\n",
    "print(mynestedlist)\n",
    "#Lists can be modified after creation, they are \"mutable\"\n",
    "mynestedlist[0] = mynestedlist[0] + \" Cardiff\"\n",
    "print(mynestedlist)\n",
    "print()\n",
    "\n",
    "#Indexing lists\n",
    "print('Indexing LISTS')\n",
    "print(alist[1])\n",
    "print(myspeciallist[0::2])\n",
    "#Indexing nested list. First index the last element of the list (3),\n",
    "#Then index the contained internal list\n",
    "print(mynestedlist[3][::-1])\n",
    "print()\n",
    "\n",
    "#List comprehension example\n",
    "print('List Comprehension examples')\n",
    "listcomp1 = [mynestedlist[i] for i in [0, 2,3]]\n",
    "print(listcomp1)\n",
    "#List comprehension can get out of hand quickly if you are too clever.\n",
    "listcompfancy = [mynestedlist[i] for i in range(0,len(mynestedlist)) if isinstance(mynestedlist[i],list)]\n",
    "print(listcompfancy)\n",
    "print()\n",
    "\n",
    "#Different types of TUPLES, from simple to complex\n",
    "print('Creating (and never editing) TUPLES')\n",
    "atup = (1, 2, 3)\n",
    "print(atup)\n",
    "#Store information on name, age, and whether the person is female\n",
    "myspecialtup = (\"Michael\", 42, False)\n",
    "print(myspecialtup)\n",
    "#Store similar information, but also add their favorite numbers and colors\n",
    "mynestedtup = (\"Michael\", 42, False, [1, 1, 2, 3, 5],[\"blue\",\"grey\",\"green\"])\n",
    "print(mynestedtup)\n",
    "#Tuples CANNOT can be modified after creation, they are \"immutable\"\n",
    "#Try uncommenting these. All of The lines  below will throw an error.\n",
    "#mynestedtup.append([1, 1, 2, 3, 5]);\n",
    "#mynestedtup.extend([\"white\",\"green\"])\n",
    "#mynestedtup[0] = mynestedtup[0] + \" Cardiff\"\n",
    "print()\n",
    "\n",
    "#Indexing tuples behaves exactly the same as lists\n",
    "print('Indexing TUPLES')\n",
    "print(atup[1])\n",
    "print(myspecialtup[0::2])\n",
    "print(mynestedtup[3][::-1])"
   ]
  },
  {
   "cell_type": "markdown",
   "id": "053f9ade-2ef7-457a-8921-5d3b9081ac9a",
   "metadata": {
    "editable": true,
    "slideshow": {
     "slide_type": ""
    },
    "tags": []
   },
   "source": [
    "## Dictionaries (Dict) type"
   ]
  },
  {
   "cell_type": "markdown",
   "id": "f6823394-da42-4993-a5e0-15eac29b0f3f",
   "metadata": {
    "editable": true,
    "slideshow": {
     "slide_type": ""
    },
    "tags": []
   },
   "source": [
    "Dictionaries (dicts) are the next most complex built-in Python type. Like lists, they are a flexible type for storing multiple types of information. Unlike lists, though, they associate **keys** with each value stored in the dictionary. Dicts are therefore also described as a set of **(key,value) pairs**.\n",
    "\n",
    "Because keys aren't numbers, the ordering of pairs in a dictionary is somewhat arbitrary. Changes to the Python language after 3.7 have changed this though, which records key order in a dictionary acccording to when they were inserted in the dictionary.\n",
    "\n",
    "Accessing parts of a dictionary is done by indexing the keys that you want to investigate. But don't worry, if you forget all of the data stored inside, you can always find them using functions that are part of the dictionary type."
   ]
  },
  {
   "cell_type": "code",
   "execution_count": 5,
   "id": "f0e33cd9-cf5e-4d2c-8f5d-341ebf334c93",
   "metadata": {
    "editable": true,
    "slideshow": {
     "slide_type": ""
    },
    "tags": []
   },
   "outputs": [
    {
     "name": "stdout",
     "output_type": "stream",
     "text": [
      "{'Name': 'Michael', 'Age': 42, 'Favorite numbers': [1, 1, 2, 3, 5], 'Favorite colors': ['blue', 'grey', 'green']}\n",
      "\n",
      "Michael\n",
      "grey\n",
      "\n",
      "dict_items([('Name', 'Michael'), ('Age', 42), ('Favorite numbers', [1, 1, 2, 3, 5]), ('Favorite colors', ['blue', 'grey', 'green'])]) \n",
      " dict_keys(['Name', 'Age', 'Favorite numbers', 'Favorite colors']) \n",
      " dict_values(['Michael', 42, [1, 1, 2, 3, 5], ['blue', 'grey', 'green']])\n",
      "\n",
      "Michael\n",
      "grey\n"
     ]
    }
   ],
   "source": [
    "adict = {\n",
    "    \"Name\": 'Michael',\n",
    "    'Age': 42,\n",
    "    'Favorite numbers': [1, 1, 2, 3, 5],\n",
    "    'Favorite colors': [\"blue\", \"grey\", \"green\"]\n",
    "}\n",
    "\n",
    "#Show the dictionary\n",
    "print(adict)\n",
    "print()\n",
    "#Show values for a given key. \n",
    "print(adict['Name'])\n",
    "#If you get the key wrong, it will throw an error! Try uncommenting this line.\n",
    "#print(adict['favorite numbers'])\n",
    "#Nesting works similarly. This is your daily reminder about 0-indexing\n",
    "print(adict['Favorite colors'][1])\n",
    "print()\n",
    "\n",
    "#Functions for dicts provide a way to keep track of entries\n",
    "#Note that this produces a new datatype, which isn't as easy to work with...\n",
    "itemtry = adict.items()\n",
    "keytry = adict.keys()\n",
    "valuetry = adict.values()\n",
    "print(itemtry,'\\n',keytry,'\\n',valuetry)\n",
    "#So, this is a common \"hack\" to pull keys out as a list instead of the dict_keys datatype\n",
    "keylist = [i for i in adict.keys()]\n",
    "print()\n",
    "\n",
    "print(adict[keylist[0]]+'\\n'+adict[keylist[3]][1])"
   ]
  },
  {
   "cell_type": "markdown",
   "id": "48d84680-a705-4cd2-aa5d-d5a12cf3204c",
   "metadata": {
    "editable": true,
    "slideshow": {
     "slide_type": ""
    },
    "tags": []
   },
   "source": [
    "## Other datatypes / classes"
   ]
  },
  {
   "cell_type": "markdown",
   "id": "cb27d4cf-1208-4b9c-9c34-e7da062d39ea",
   "metadata": {
    "editable": true,
    "slideshow": {
     "slide_type": ""
    },
    "tags": []
   },
   "source": [
    "Life was good with built-in Python data types. But then the developers said, \"Let there be new classes!\". And while life continued to be good, it also continued to get more complex. Just by using lists and dicts, we can quickly create data structures that contain varied, nested types of information. When this is done by a developer, it is often done by creating a new **class object** (or just \"class\") with the lower-level datatypes becoming **class attributes**. You will see many new classes when you start importing and working with different python modules. \n",
    "\n",
    "Another core concept of higher-level classes is **inheritance**, meaning that an object containing other objects also carries with it the features of the internal object. For example, if we create a new class that - as part of its definition - contains a string, then we can use all of the functions and properties contained within the string datatype object and also perform operations like indexing of the string. But by defining a class, we can also add and alter functionality; many class objects are often packaged with new **class methods**, i.e., functions that apply to the new class of variable.\n",
    "\n",
    "For our purposes, we will not spend much time on the intricacies of developing or building new class objects. That said, it is worthwhile to understand the concept. When a module like FloPy throws an error, or your forced to looking at the \"guts\" of a module, understanding the idea of building new classes will help you interpret these codes. \n",
    "\n",
    "More guidance:\n",
    "* [Python.org Documentation on class objects](https://docs.python.org/3/tutorial/classes.html)"
   ]
  },
  {
   "cell_type": "markdown",
   "id": "c154a71a-338f-431a-b237-a8e1b6325a1e",
   "metadata": {
    "editable": true,
    "slideshow": {
     "slide_type": ""
    },
    "tags": []
   },
   "source": [
    "# Controlling Program Flow"
   ]
  },
  {
   "cell_type": "markdown",
   "id": "407a3d59-35b2-4381-84e0-8edd3bc0041a",
   "metadata": {
    "editable": true,
    "slideshow": {
     "slide_type": ""
    },
    "tags": []
   },
   "source": [
    "So far, every program we have written starts at the top and carries out instructions sequentially. The true essence of programming, though, is controlling the flow of your code to accomplish ever more complex tasks. \n",
    "\n",
    "If you've done any programming before, the key flow control statements presented below will be very familiar - they are the same in basically every programming language, just with slightly different syntax. They are your old friends, `for` loops, `if / then / else` statements and `while` loops. Python additionally contains flow control statements that are useful when you are debugging or trying to build in safeguards against user-generated errors. The `try / except / else / finally` structure allows you to try a section of code, check for exceptions (errors), and continue your program running even if an error would have been raised.\n",
    "\n",
    "There are a few key conventions that you must remember when using any flow control statements in Python:\n",
    "* You start a section of controlled code by **ending a line with a colon**, such as `for i in range(0,5):`\n",
    "* To start a section of controlled code you must **indent**\n",
    "* To end a section of controlled, **reducing back to the previous level of indentation**.\n",
    "\n",
    "Unlike many other programming languages, indentation is required by Python to organize a section of controlled code. And since the indentation is required, there is **no explicit `end` statement** used (or even allowed) when a controlled block of code stops."
   ]
  },
  {
   "cell_type": "code",
   "execution_count": 8,
   "id": "611ee509-0545-47e0-b521-7b2f96bd75c8",
   "metadata": {
    "editable": true,
    "slideshow": {
     "slide_type": ""
    },
    "tags": []
   },
   "outputs": [
    {
     "name": "stdout",
     "output_type": "stream",
     "text": [
      "0\n",
      "1\n",
      "2\n",
      "3\n",
      "4\n",
      "The sum is 10\n",
      "\n",
      "Michael Cardiff\n",
      "42\n",
      "False\n",
      "[1, 1, 2, 3, 5]\n",
      "['blue', 'grey', 'green']\n",
      "white\n",
      "green\n",
      "\n",
      "Not a list\n",
      "Still running...\n",
      "Not a list\n",
      "Still running...\n",
      "Not a list\n",
      "Still running...\n",
      "[1, 1, 2, 3, 5]\n",
      "Still running...\n",
      "['blue', 'grey', 'green']\n",
      "Still running...\n",
      "Not a list\n",
      "Still running...\n",
      "Not a list\n",
      "Still running...\n",
      "\n",
      "I couldn't sum that part of the list\n",
      "I couldn't sum that part of the list\n",
      "I couldn't sum that part of the list\n",
      "12\n",
      "I couldn't sum that part of the list\n",
      "I couldn't sum that part of the list\n",
      "I couldn't sum that part of the list\n",
      "\n",
      "I'll try to see what the sum() function does to x\n",
      "Seems like adding up x isn't going to work\n",
      "x has datatype <class 'str'>\n",
      "a has datatype <class 'NoneType'>\n",
      "The value of a is  None\n"
     ]
    }
   ],
   "source": [
    "#Note that \"range\" might not give you what you expect...\n",
    "a = 0\n",
    "for i in range(0,5):\n",
    "    print(i)\n",
    "    a = a + i\n",
    "print('The sum is', a)\n",
    "print()\n",
    "\n",
    "#You can iterate through anything. Using our weird array from earlier...\n",
    "for i in mynestedlist:\n",
    "    print(i)\n",
    "print()\n",
    "\n",
    "#Building programs is usually just finding the right combination of loops and ifs\n",
    "for i in mynestedlist:\n",
    "    if isinstance(i,list):\n",
    "        print(i)\n",
    "    else:\n",
    "        print('Not a list')\n",
    "    print('Still running...')\n",
    "print()\n",
    "\n",
    "#To deal with unexpected inputs without halting the program, \"try\" is your friend\n",
    "for i in mynestedlist:\n",
    "    try:\n",
    "        print(sum(i))\n",
    "    except:\n",
    "        print(\"I couldn't sum that part of the list\")\n",
    "print()\n",
    "\n",
    "#Try changing the value of x below to different datatypes and see how the results of this change\n",
    "x = 'string' #Some other options: #[1, 2, 3] #[1.5, complex(3,5)]\n",
    "a = 0\n",
    "print(\"I'll try to see what the sum() function does to x\")\n",
    "try:\n",
    "    a = sum(x)\n",
    "except:\n",
    "    print(\"Seems like adding up x isn't going to work\")\n",
    "    a = None\n",
    "else:\n",
    "    print(\"a is the sum of x now\")\n",
    "finally:\n",
    "    print(\"x has datatype\", type(x))\n",
    "    print(\"a has datatype\", type(a))\n",
    "\n",
    "print('The value of a is ',a)"
   ]
  },
  {
   "cell_type": "code",
   "execution_count": 2,
   "id": "44e736fc-5be3-46b2-af4a-36820fa1548e",
   "metadata": {
    "editable": true,
    "slideshow": {
     "slide_type": ""
    },
    "tags": []
   },
   "outputs": [],
   "source": [
    "#Other pythonic things to go into - separate notebook?\n",
    "\n",
    "#Order of sending things to a function\n",
    "#Docstrings\n",
    "#Unpacking dictionaries using **, sending to functions\n",
    "#Unpacking lists using *\n",
    "#Adding extra to the **kwargs https://geekflare.com/python-unpacking-operators/\n",
    "#Lambdas\n",
    "#Default / Positional / named arguments: https://builtin.com/software-engineering-perspectives/arguments-in-python\n",
    "test = [1, 2, 3]\n",
    "\n",
    "*a, = test\n",
    "\n",
    "#Other Python modules to go into: Pandas, GeoPandas, Rasterio, etc\n"
   ]
  },
  {
   "cell_type": "code",
   "execution_count": null,
   "id": "e12ac3ae-b034-4d62-b79b-2370ac148589",
   "metadata": {
    "editable": true,
    "slideshow": {
     "slide_type": ""
    },
    "tags": []
   },
   "outputs": [],
   "source": []
  }
 ],
 "metadata": {
  "kernelspec": {
   "display_name": "Python 3 (ipykernel)",
   "language": "python",
   "name": "python3"
  },
  "language_info": {
   "codemirror_mode": {
    "name": "ipython",
    "version": 3
   },
   "file_extension": ".py",
   "mimetype": "text/x-python",
   "name": "python",
   "nbconvert_exporter": "python",
   "pygments_lexer": "ipython3",
   "version": "3.9.20"
  }
 },
 "nbformat": 4,
 "nbformat_minor": 5
}
