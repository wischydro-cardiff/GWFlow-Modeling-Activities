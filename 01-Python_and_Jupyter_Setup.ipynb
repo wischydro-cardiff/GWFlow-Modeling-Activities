{
 "cells": [
  {
   "cell_type": "markdown",
   "metadata": {
    "editable": true,
    "slideshow": {
     "slide_type": ""
    },
    "tags": []
   },
   "source": [
    "# Our first Notebook: Welcome to GEOSCI 724!"
   ]
  },
  {
   "cell_type": "markdown",
   "metadata": {},
   "source": [
    "This course is focused on both the theory and practice of numerical modeling, with application primarily to problems of saturated groundwater flow. During the first few weeks of the semester, we will focus on the mathematical theory underpinning numerical models, primarily using pencil and paper (we must walk before we can run!). After the first few weeks of the semester, though, we will begin using and developing software to solve specific groundwater flow problems using Python and associated packages / extensions. This guide is designed to get you familiar with Anaconda, conda, Python, iPython, and Jupyter Labs on your personal computer so that you can follow along with the in-class exercises."
   ]
  },
  {
   "cell_type": "markdown",
   "metadata": {},
   "source": [
    "# Introduction to Modern Python Development Tools"
   ]
  },
  {
   "cell_type": "markdown",
   "metadata": {},
   "source": [
    "If you are just interested in getting started, you can skip this section of the notebook, and go directly to \"Setting up for Class\". However, if you find yourself confused about the differences between Python, iPython, conda, Anaconda, Jupyter, and other terms, this might help."
   ]
  },
  {
   "cell_type": "markdown",
   "metadata": {},
   "source": [
    "## The Programming Language"
   ]
  },
  {
   "cell_type": "markdown",
   "metadata": {},
   "source": [
    "[**Python**](https://www.python.org) is a programming language, like C, Fortran, or Basic. In the ''base'' format, Python allows you to set variables and perform basic operations on those variables. It is mainly limited to working with text strings, numbers, and some very basic data structures. If you had Python installed on your computer, and just wanted to work with that, you would go to the Command Line (Windows) or Terminal (Mac / Unix / Linux), and type ```python```. \n",
    "\n",
    "If you are familiar with MATLAB, a nice feature of Python is that, like MATLAB, you can use it as a ''command line'', i.e. you can type a statement and immediately get a result with no compiling necessary. The screenshot below shows a user launching Python on a mac, and then typing a set of commands into the Python command line, denoted with ```>>>```.\n",
    "\n",
    "![python_cmdline](./doc_materials/python_cmdline.png 'An example of running Python directly')\n",
    "\n",
    "Like in other programming languages, you can also write a text file full of a series of commands (i.e., a script), and then load the text file to run them all at once. A series of commands may also be modularized as a function, which you can then use to simplify your code. Our first example of python code inline is shown below. If you've developed a useful set of functions, you can put them all together and distribute them as a [Python Package](https://www.geeksforgeeks.org/python-packages/). "
   ]
  },
  {
   "cell_type": "code",
   "execution_count": 1,
   "metadata": {},
   "outputs": [
    {
     "name": "stdout",
     "output_type": "stream",
     "text": [
      "25\n",
      "Seems like a perfectly reasonable sum of squares\n"
     ]
    }
   ],
   "source": [
    "#This is a comment in Python. \n",
    "#Comments keep us all sane when we forget what we were doing with our code and why\n",
    "#Our first cell of real code!! \n",
    "\n",
    "#The code below is a function, addsquares, which we can now use to simplify later code\n",
    "def addsquares(a,b):\n",
    "    c = a**2 + b**2\n",
    "    return c\n",
    "#Indentation matters in python - the function ends where indentation stops\n",
    "\n",
    "#This runs the function (but doesn't generate any output)\n",
    "w = addsquares(3,4)\n",
    "\n",
    "#The results of this \"print\" statement will appear directly below the code cell by default.\n",
    "print(w)\n",
    "\n",
    "#All of the usual parts of computer code (if/then, loops, while, error handling, etc.) \n",
    "#are fairly self-explanatory in Python\n",
    "if w < 0:\n",
    "    print('How did you get a negative number?')\n",
    "else:\n",
    "    print('Seems like a perfectly reasonable sum of squares')\n",
    "\n",
    "#Note that variables created internal to the function are \"local\", i.e., they only exist within the function\n",
    "#This (commented out) code below will produce an error\n",
    "# print(c)"
   ]
  },
  {
   "cell_type": "markdown",
   "metadata": {},
   "source": [
    "## Packages and Distributions"
   ]
  },
  {
   "cell_type": "markdown",
   "metadata": {},
   "source": [
    "A [**Python Package**](https://www.geeksforgeeks.org/python-packages/) is a set of functions, hopefully with associated error checking and documentation. Python is hugely popular these days largely due to the broad range of packages that are freely available online for use in tasks like numerical computing, AI / machine learning, and other fields. \n",
    "\n",
    "In order to use a package in Python, you must download the package from somewhere and store it on your computer. Python is evolved enough now that some packages rely on code from other packages -- i.e., *package dependencies* -- meaning that in order to get Package X to work in Python, you may be required to also find and download Package Y, Package Z, etc. \n",
    "\n",
    "If you download a **Python Distribution**, like [Anaconda](https://www.anaconda.com/download), you are downloading both base Python and a popular set of packages that are all compatible with each other, along with any packages that are needed because of dependencies. Python Distributions may also include other helpful utilities that assist with tasks like debugging, visualization, and code management. \n",
    "\n",
    "The advantage of Python Distributions is that they allow you to start coding using popular packages and little setup - they have everything you need to code in Python and reliably use the distributed packages. The big disadvantage is that they are static, and you may break things if you try to pull in new packages or make other changes."
   ]
  },
  {
   "cell_type": "markdown",
   "metadata": {
    "editable": true,
    "slideshow": {
     "slide_type": ""
    },
    "tags": []
   },
   "source": [
    "## Package Managers and Virtual Environments"
   ]
  },
  {
   "cell_type": "markdown",
   "metadata": {
    "jp-MarkdownHeadingCollapsed": true
   },
   "source": [
    "Static Python Distributions have the advantage of being stable, but they are often bulky, and may contain a lot of utilities that eat up your storage space while not being of use. Similarly, the distribution you download may not include all of the tools you need to do your work. So now what? Do you wait for a new version from the Distributor? Do you download and add a new package to your existing Python installation and hope it doesn't break anything?\n",
    "\n",
    "**Package Managers** are tools that help with this problem. They perform tasks such as downloading  packages that you ask for, tracking package versions, and finding sub-packages necessary because of dependencies.\n",
    "\n",
    "Another problem that arises in code development is that packages may have incompatible dependencies. For example, suppose one set of code you're developing requires Package Y version 1.3, and breaks when you try upgrading to version Package Y version 1.4. But on another project, you want to use some of the fancy new features in Package Y version 1.4. \n",
    "\n",
    "To fix problems like this, we can isolate places where we're developing code via **Virtual Environments**. Packages installed within a virtual environment are only usable inside that environment, and won't seem to be installed once you exit a given virtual environment. Thus, you can design your Python virtual environment for the current project your developing without worrying about how new package installations will affect other projects.\n",
    "\n",
    "`conda` is a utility that can manage packages, setup virtual environments, and install other utilities. In personal experience, however conda's package management utilities are not as robust or reliable for Python. So, within Python environments, we will rely on `pip`, which is a package manager that focuses on interactions and dependencies between Python packages."
   ]
  },
  {
   "cell_type": "markdown",
   "metadata": {},
   "source": [
    "## IPython, Jupyter Notebooks, and Markdown"
   ]
  },
  {
   "cell_type": "markdown",
   "metadata": {
    "jp-MarkdownHeadingCollapsed": true
   },
   "source": [
    "Running Python from the command line, you can interpret scripts and functions by running any text file with the ``.py`` extension. Any output produced by these files either shows up as a message on the command line, or can be saved to files on your computer. For example, if you wrote a script that produces a basic image, you could run it by typing ``python myscript.py`` and then view the resulting image with another computer program.\n",
    "\n",
    "This works, but is pretty inefficient for developing software. So, rather than switching back and forth between typing in a text editor, running scripts in the command line, and post-processing outputs elsewhere - along comes \"interactive Python\" using **IPython**, and **Jupyter Notebooks**. A Jupyter Notebook (using the ``.ipynb`` extension) allows you to divide up Python code in individual cells, and then the results of each cell appear directly below, when run.\n",
    "\n",
    "In addition, Jupyter Notebooks allow you to document your code and include helpful descriptions - as we're doing in this text here - through **Markdown**. To see what Markdown looks like and how it's interpreted, double-click on this cell. \n",
    "\n",
    "Here are some fun examples of things you can do with Markdown:\n",
    "\n",
    "* Create bulleted lists\n",
    "* Do simple formatting such as *italicizing*, **bolding**, marking things as `code`.\n",
    "* Creating [links](https://wisc.edu/)\n",
    "* Interpreting $L^AT_EX$, for mathy notation like $x^2$\n",
    "* Quote famous people:\n",
    "\n",
    "> \"Veni Vidi Vici,\" he said\n",
    "> \"... and also, lend me your ears\"\n",
    "\n",
    "* Display images: ![the_jupyter_logo](./doc_materials/Jupyter_Logo.png 'The Jupyter Project Logo')\n",
    "\n"
   ]
  },
  {
   "cell_type": "markdown",
   "metadata": {},
   "source": [
    "## Science / Hydro-specific Packages"
   ]
  },
  {
   "cell_type": "markdown",
   "metadata": {},
   "source": [
    "Because Python has become so well-adopted and widespread, each field has developed its own python utilities and programs that are relevant to their work. In this class, we will be using Python to work on developing numerical models, to display results, to visualize geoscience datasets, and to run MODFLOW. Keep in mind, each package has its own developers who develop documentation and examples. Newer packages or those with small developer teams may have less documentation and support available.\n",
    "\n",
    "These packages will be the main ones in our toolkit:\n",
    "* [**SciPy**](https://docs.scipy.org/doc/scipy/index.html) and [**NumPy**](https://numpy.org/doc/stable/index.html): For storing and working with matrices\n",
    "* [**MatPlotLib**](https://matplotlib.org/stable/): For generating output plots\n",
    "* [**GeoPandas**](https://geopandas.org/en/stable/) and [**Meshio**](https://github.com/nschloe/meshio): For working with geographic data\n",
    "* [**FloPy**](https://flopy.readthedocs.io/en/3.3.6/#): For building MODFLOW models in Python\n",
    "\n",
    "You'll see through some of the links above that these packages are dependent on other base-level packages. For example GeoPandas relies on [**Shapely**](https://shapely.readthedocs.io/en/stable/), among others.\n",
    "\n",
    "If you ever use Python for other activities (such as web development, web scraping, natural language processing, etc.), [this site](https://www.geeksforgeeks.org/python-packages/) is a decent reference for packages that you might want to investigate."
   ]
  },
  {
   "cell_type": "markdown",
   "metadata": {},
   "source": [
    "# Setting up for Class (first time instructions)"
   ]
  },
  {
   "cell_type": "markdown",
   "metadata": {},
   "source": [
    "If you already installed Python and other packages using a different method (such as Homebrew on Mac / Linux), **get started on this early and be prepared for the need for some troubleshooting**. Otherwise, if your computer is reasonably \"fresh\", you should be able to follow the steps below sequentially:\n",
    "\n",
    "1. [Install the Anaconda Distribution](https://www.anaconda.com/download/success). Make sure that the version you download matches your operating system (OS). For Macs, you'll also want to make sure whether you are on an Intel-based or Apple-based (M-series) chip. I suggest using the \"Graphical Installer\" for all OSes.\n",
    "\n",
    "2. Create a directory that you will work in, for the purposes of this class. I recommend this directory being local on your computer (not a OneDrive, Google Drive, or other cloud-based directory), and furthermore it may avoid issues to keep this close to your root directory. Good examples would be, on a Windows PC, ``C:\\Coursework\\Geosci724Python\\``, or on a Mac, ``/Users/username/Geosci724Python``. Go to the course github repository, and clone (download) all files into this directory\n",
    "\n",
    "3. Open Terminal (on Mac), or Command Prompt (on Windows PC), and navigate to the directory you have created. If you're not familiar with the command line, see [this resource](https://learn.microsoft.com/en-us/windows-server/administration/windows-commands/cd) for Windows or [this resource](https://www.techrepublic.com/article/understand-the-mac-directory-structure-basic-commands/) for MacOS.\n",
    "\n",
    "4. Create a new virtual environment. To set up a virtual environment named `hydroclass` go to your Command Prompt/Terminal and type ``conda create -n hydroclass python=3.9``. (Translation: \"Conda, create a new virtual environment. It's name is hydroclass, and it should have python version 3.9 installed within it\") and press enter. To activate this environment type `conda activate hydroclass`. Once activated you should see (hydroclass) before your terminal path. Note: If you ever forget the name of a virtual environment you have created, you can view all available environments by typing `conda info --envs`.\n",
    "\n",
    "5. Set up the virtual environment to have the packages you will need for this class. When you downloaded the github repository in step 2, you should have received a file named `requirements.txt` Now you just need to install all of the python packages that we will use for this class. To do this, type `pip install -r requirements.txt` to install all of the packages at once. (Translation: Pip, install the Python packages found in the requirements file named requirements.txt, and make sure to download any dependencies needed too). \n",
    "\n",
    "6. Open up this notebook using Jupyter Lab. If everything has worked correctly up until now, you should be able to type `jupyter-lab` in Command Prompt / Terminal and Jupyter Lab should launch in your default internet browser window. Once open, navigate to where you have downloaded and saved this notebook and open it in Jupyter Lab.\n",
    "\n",
    "To verify that you have correctly installed Python let's run a simple test command. To execute the following cell click on it with your mouse and hit then hit the 'play' button (triangle) in the panel above. Alternatively, you could use the shortcut 'shift + enter'."
   ]
  },
  {
   "cell_type": "code",
   "execution_count": 2,
   "metadata": {},
   "outputs": [
    {
     "name": "stdout",
     "output_type": "stream",
     "text": [
      "Hello World\n",
      "3.9.20 (main, Oct  3 2024, 02:24:59) \n",
      "[Clang 14.0.6 ]\n",
      "numpy version: 2.0.2\n"
     ]
    }
   ],
   "source": [
    "import sys\n",
    "import numpy as np\n",
    "\n",
    "print('Hello World')\n",
    "print(sys.version)\n",
    "print('numpy version: {}'.format(np.__version__))"
   ]
  },
  {
   "cell_type": "markdown",
   "metadata": {},
   "source": [
    "To check all of the required packages run the following cell. Each package should have an [OK] next to it."
   ]
  },
  {
   "cell_type": "code",
   "execution_count": 3,
   "metadata": {},
   "outputs": [
    {
     "name": "stdout",
     "output_type": "stream",
     "text": [
      "[OK] Your Python version is 3.9.20\n",
      "[OK] numpy 2.0.2\n",
      "[OK] scipy 1.13.1\n",
      "[OK] pandas 2.2.3\n",
      "[OK] matplotlib 3.9.2\n",
      "[OK] flopy 3.8.2\n",
      "[OK] gstools 1.6.0\n",
      "[OK] jupyterlab 4.3.0\n",
      "[OK] ipywidgets 8.1.5\n"
     ]
    }
   ],
   "source": [
    "run python_environment_check.py"
   ]
  },
  {
   "cell_type": "markdown",
   "metadata": {},
   "source": [
    "# Closing down Python"
   ]
  },
  {
   "cell_type": "markdown",
   "metadata": {},
   "source": [
    "When you're done coding in Python for the day or need to go back to \"clean slate\", follow these steps:\n",
    "\n",
    "1. Save any notebooks you're done working with, and in Jupyter Lab go to File --> Shutdown\n",
    "   \n",
    "2. In your Terminal / Command Prompt, type `conda deactivate` to deactivate your virtual ennvironment. This will ensure that you don't accidentally mess up the carefully crafted Python Virtual Environment that we're using for class."
   ]
  },
  {
   "cell_type": "markdown",
   "metadata": {},
   "source": [
    "# Starting up Python (from now on)"
   ]
  },
  {
   "cell_type": "markdown",
   "metadata": {},
   "source": [
    "From now on, you should be able to get back into coding python with three simple steps.\n",
    "\n",
    "1. Navigate to your working directory for coding in the Terminal / Command Prompt.\n",
    "  \n",
    "2. Type `conda activate hydroclass` to activate your virtual environment. (Note: Remember, if you ever forget the name of a virtual environment you have created, you can view all available environments by typing ``conda info --envs``)\n",
    "\n",
    "3. Type `jupyter-lab` to get started in the Jupyter Lab environment."
   ]
  },
  {
   "cell_type": "markdown",
   "metadata": {},
   "source": [
    "# Further Information / Reading"
   ]
  },
  {
   "cell_type": "markdown",
   "metadata": {
    "editable": true,
    "slideshow": {
     "slide_type": ""
    },
    "tags": []
   },
   "source": [
    "## Other Resources\n",
    "\n",
    "Because Python, like many open-source frameworks, is maintained by a community with a range of interests and strengths, it is important to be willing to search around for appropriate documentation or examples. Unfortunately, you cannot expect an all-in-one Help file for Python like you could for closed-source / licensed software like Office or MATLAB. \n",
    "\n",
    "Here I provide a central set of links for some useful resources that I have found. Please share other resources that you find with your class colleagues, so that we can all find the best help together!\n",
    "\n",
    "* Base Python references\n",
    "\n",
    "* Documentation and other help for our most used packages\n",
    "    * NumPy: [Official Documentation](https://numpy.org/doc/stable/index.html)\n",
    "    * MatPlotLib: [Official Documentation](https://matplotlib.org/stable/)\n",
    "    * SciPy: [Official Documentation](https://docs.scipy.org/doc/scipy/)\n",
    "    * GeoPandas: [Official Documentation](https://geopandas.org/en/stable/)\n",
    "    * Meshio: [Official Documentation](https://github.com/nschloe/meshio)\n",
    "\n",
    "* Other potential packages and tools of interest\n",
    "    * Jupyter Widgets (ipywidgets): [Official Documentation](https://ipywidgets.readthedocs.io/en/8.1.2/) - A tool for incorporating interactive widgets such as sliders that can be used to control / update visualizations\n",
    "    * SciKit-learn: [Official Documentation](https://scikit-learn.org/stable/user_guide.html) - A set of general tools for classification, grouping / clustering, feature extraction, covariance estimation and \"machine learning\".\n",
    " \n",
    "* Other ways of running iPython Notebooks (other than Jupyter Lab on your own machine)\n",
    "    * [Google Colab](https://colab.research.google.com)\n",
    "\n"
   ]
  },
  {
   "cell_type": "markdown",
   "metadata": {},
   "source": [
    "## Acknowledgments"
   ]
  },
  {
   "cell_type": "markdown",
   "metadata": {},
   "source": [
    "These instructions are based on those developed by Chris Zahasky and found in his [Contaminant-Hydrogeology-Activities Github Repository](https://github.com/zahasky/Contaminant-Hydrogeology-Activities)."
   ]
  },
  {
   "cell_type": "code",
   "execution_count": null,
   "metadata": {
    "editable": true,
    "slideshow": {
     "slide_type": ""
    },
    "tags": []
   },
   "outputs": [],
   "source": []
  }
 ],
 "metadata": {
  "kernelspec": {
   "display_name": "Python 3 (ipykernel)",
   "language": "python",
   "name": "python3"
  },
  "language_info": {
   "codemirror_mode": {
    "name": "ipython",
    "version": 3
   },
   "file_extension": ".py",
   "mimetype": "text/x-python",
   "name": "python",
   "nbconvert_exporter": "python",
   "pygments_lexer": "ipython3",
   "version": "3.9.20"
  }
 },
 "nbformat": 4,
 "nbformat_minor": 4
}
