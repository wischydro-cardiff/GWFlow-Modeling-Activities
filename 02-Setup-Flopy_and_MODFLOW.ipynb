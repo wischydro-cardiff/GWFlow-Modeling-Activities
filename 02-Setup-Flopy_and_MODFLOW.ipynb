{
 "cells": [
  {
   "cell_type": "markdown",
   "metadata": {},
   "source": [
    "# Setting up for MODFLOW Model Development with FloPy"
   ]
  },
  {
   "cell_type": "markdown",
   "metadata": {},
   "source": [
    "After learning about how the internal \"guts\" of MODFLOW works, we will explore creating MODFLOW models both through a GUI (Groundwater Vistas on Windows, only) and using the scripting language FloPy. This notebook will walk you through the steps necessary to interface with MODFLOW through FloPy on most modern desktop computers. \n",
    "\n",
    "You may try using this notebook early in the semester if you would like to immediately get started with running FloPy-based MODFLOW models. However, please note that MODFLOW and FloPy may produce error messages that are difficult to understand and debug without some fundamental background on numerical modeling and the FloPy package. "
   ]
  },
  {
   "cell_type": "markdown",
   "metadata": {},
   "source": [
    "## Learning Objectives"
   ]
  },
  {
   "cell_type": "markdown",
   "metadata": {},
   "source": [
    "After reading and running this notebook, you should:\n",
    "* Understand how to install MODFLOW and find your MODFLOW installation\n",
    "* Understand how to use basic FloPy commands to call MODFLOW\n",
    "* Know the names of different MODFLOW versions and utilities"
   ]
  },
  {
   "cell_type": "markdown",
   "metadata": {},
   "source": [
    "# Setting up for Class (first time instructions)"
   ]
  },
  {
   "cell_type": "markdown",
   "metadata": {},
   "source": [
    "The first time you setup, you will need to ensure that that your installation of FloPy is working, and that you've installed the necessary MODFLOW executables and tools. If you've completed these steps, the last portion of this notebook provides a reminder on key steps that are necessary each time you build a new FloPy-based notebook."
   ]
  },
  {
   "cell_type": "markdown",
   "metadata": {},
   "source": [
    "## Testing your FloPy Installation"
   ]
  },
  {
   "cell_type": "markdown",
   "metadata": {},
   "source": [
    "If you ran the first notebook from this class successfully, [FloPy](https://pypi.org/project/flopy/) should have been installed when you used the `pip install -r requirements.txt` command from the initial course notebook. We will test that everything is working well now.\n",
    "\n",
    "**Run the code below, and verify that each of the following has happened**:\n",
    "1. **A new directory is created** within your working directory under `/models/testmodel` (if it doesn't already exist), which will be used to contain all of the MODFLOW inputs and outputs. Note: By default, **FloPy will automatically over-write files if they already exist**\n",
    "2. Within the testmodel directory, the most basic possible **input for MODFLOW is created** - a MODFLOW NAMe file called `testmodel.nam`"
   ]
  },
  {
   "cell_type": "code",
   "execution_count": 1,
   "metadata": {},
   "outputs": [
    {
     "name": "stdout",
     "output_type": "stream",
     "text": [
      "numpy version: 2.0.2 is installed\n",
      "flopy version: 3.8.2 is installed\n",
      "MODFLOW executable is:  ./bin/mf2005\n",
      "Workspace path is:  ./models/testmodel\n"
     ]
    },
    {
     "name": "stderr",
     "output_type": "stream",
     "text": [
      "/opt/anaconda3/envs/geosci724/lib/python3.9/site-packages/flopy/mbase.py:97: UserWarning: The program ./bin/mf2005 does not exist or is not executable.\n",
      "  warn(\n"
     ]
    }
   ],
   "source": [
    "#Code to test the installation of FloPy and use with MODFLOW Executables.\n",
    "\n",
    "#Import the \"OS\" module (standard part of python installation)\n",
    "import os\n",
    "\n",
    "#Try importing numpy. Report the version, or report issues\n",
    "try:\n",
    "    import numpy as np\n",
    "    print('numpy version: {} is installed'.format(np.__version__))\n",
    "except:\n",
    "    print('numpy does not appear to be installed')\n",
    "\n",
    "#Try importing flopy. Report the version, or report issues\n",
    "#Shortcut names of fpm and fpu created for sub-modules of FloPy\n",
    "try:\n",
    "    import flopy\n",
    "    import flopy.modflow as fpm\n",
    "    import flopy.utils as fpu\n",
    "    print('flopy version: {} is installed'.format(flopy.__version__))\n",
    "except:\n",
    "    print('flopy does not appear to be installed')\n",
    "\n",
    "#Setup the name of the model (which will also be used for the working directory)\n",
    "model_name = 'testmodel' \n",
    "\n",
    "#OS is a useful utility with a set of tools for making your code work on any system beyond just your desktop\n",
    "#This command os.path.join is used to create the appropriate path for your given system. In other words,\n",
    "#if you are on Windows it will be .\\bin\\mf2005; on Mac / Linux the path will be created as ./bin/mf2005\n",
    "binary_dir = os.path.join('.','bin')\n",
    "exe_path = os.path.join('.','bin','mf2005')\n",
    "ws_path = os.path.join('.','models',model_name)\n",
    "print('MODFLOW executable is: ', exe_path)\n",
    "print('Workspace path is: ', ws_path)\n",
    "\n",
    "#Try creating a MODFLOW-2005 style model setup.\n",
    "#Everything about your MODFLOW model is stored within the FloPy \"model\" object that we're creating here.\n",
    "model = fpm.Modflow(modelname=model_name, exe_name=exe_path, model_ws=ws_path)\n",
    "\n",
    "#This line of code generates MODFLOW-2005 text files from information in the FloPy \"model\" object\n",
    "model.write_input()"
   ]
  },
  {
   "cell_type": "markdown",
   "metadata": {},
   "source": [
    "## Installing MODFLOW and USGS Utilities (Option 1: Using Flopy)"
   ]
  },
  {
   "cell_type": "markdown",
   "metadata": {},
   "source": [
    "FloPy has a number of built-in utilities that help with setup and runnning of models. Perhaps one of the best is `get_modflow`, which automatically seeks out the right download link for the current executables that will run on your computer system.\n",
    "\n",
    "Make sure that you are within the working directory for the class (e.g. on a Windows PC, `C:\\Coursework\\Geosci724Python\\`, or on a Mac, `/Users/username/Geosci724Python`). **From this point forward, we'll refer to this as `/workingdirectory/`**\n",
    "\n",
    "**Run the code below, and check whether the following has happened**:\n",
    "\n",
    "1. You see a **message that shows the files are downloading from Github**.\n",
    "\n",
    "2. A **directory is created, `/workingdirectory/bin`** if that directory didn't already exist.\n",
    "\n",
    "3. The **`bin` directory now contains a set of files including modflow installations**. For example, you should see `mf2005` within the directory. To double-check that everything is ready, launch your Command Prompt / Terminal, navigate to `/workingdirectory/bin/`, and type the command `./mf2005` (on Linux or Mac) or `mf2005` (on PC). You should see text indicating that MODFLOW launched and is waiting for a name file, like below. Since we don't want to do anything yet, hold down `Ctrl-C` to cancel/exit. **Note: If you run into any errors here, please talk to the professor.** If all looks good, continue reading!\n",
    "\n",
    "![MODFLOW_launch](./doc_materials/MODFLOW_launch.png 'MODFLOW starting up with no arguments')"
   ]
  },
  {
   "cell_type": "code",
   "execution_count": 2,
   "metadata": {},
   "outputs": [
    {
     "name": "stdout",
     "output_type": "stream",
     "text": [
      "fetched release '20.0' info from MODFLOW-USGS/executables\n",
      "downloading 'https://github.com/MODFLOW-USGS/executables/releases/download/20.0/macarm.zip' to '/Users/cardiff/Downloads/modflow_executables-20.0-macarm.zip'\n",
      "extracting 25 files to '/Users/cardiff/Pythonworking/Hydro724/GWFlow-Modeling-Activities/bin'\n",
      "crt (1.3.1)          mfnwt (1.3.0)        sutra (4.0)\n",
      "gridgen (1.0.02)     mfnwtdbl (1.3.0)     swtv4 (4.00.05)\n",
      "libmf6.dylib (6.6.0) mfusg (1.5)          triangle (1.6)\n",
      "mf2000 (1.19.01)     mfusgdbl (1.5)       vs2dt (3.3)\n",
      "mf2005 (1.12.00)     mfusg_gsi (2.4.0)    zbud6 (6.6.0)\n",
      "mf2005dbl (1.12.00)  mp6 (6.0.1)          zonbud3 (3.01)\n",
      "mf6 (6.6.0)          mp7 (7.2.001)        zonbudusg (1.5)\n",
      "mflgr (2.0.0)        mt3dms (5.3.0)\n",
      "mflgrdbl (2.0.0)     mt3dusgs (1.1.0)\n",
      "updated flopy metadata file: '/Users/cardiff/.local/share/flopy/get_modflow.json'\n"
     ]
    }
   ],
   "source": [
    "#A python command to make the directory if it doesn't already exist.\n",
    "#The \"mode\" variable sets permissions for this directory using Unix's RWX syntax\n",
    "#See: https://en.wikipedia.org/wiki/File-system_permissions\n",
    "os.makedirs(binary_dir, mode=0o777, exist_ok = True)\n",
    "\n",
    "#Use the alias for flopy.utils (fpu) and run the get_modflow function\n",
    "fpu.get_modflow(bindir = binary_dir,force=True)\n"
   ]
  },
  {
   "cell_type": "markdown",
   "metadata": {},
   "source": [
    "## Installing MODFLOW and USGS Utilities (Option 2: Direct Download)"
   ]
  },
  {
   "cell_type": "markdown",
   "metadata": {},
   "source": [
    "The USGS hosts binaries (compiled software that can be immediately run, a.k.a. ''executables'') at Github currently under [MODFLOW-USGS/executables](https://github.com/MODFLOW-USGS/executables). Follow these steps to install manually if you run into any issues using Option 1.\n",
    "\n",
    "1. Go to your `/workingdirectory`.\n",
    "   \n",
    "3. Create a new folder inside of your `/workingdirectory/` named `bin`.\n",
    "\n",
    "4. Download the appropriate .zip file from [MODFLOW-USGS/executables](https://github.com/MODFLOW-USGS/executables). Unzip the file, and place all of the files that are found inside directly within `/workingdirectory/bin/`. **Note: Make sure you do not put the executables within a subfolder inside of `bin`. They should be directly inside folder** \n",
    "\n",
    "5. Launch your Command Prompt / Terminal, navigate to `/workingdirectory/bin/`, and type the command `./mf2005` (on Linux or Mac) or `mf2005` (on PC). You should see text indicating that MODFLOW launched and is waiting for a name file, like below. Since we don't want to do anything yet, hold down `Ctrl-C` to cancel/exit. **Note: If you run into any errors here, please talk to the professor.** If all looks good, continue reading!\n",
    "\n",
    "![MODFLOW_launch](./doc_materials/MODFLOW_launch.png 'MODFLOW starting up with no arguments')"
   ]
  },
  {
   "cell_type": "markdown",
   "metadata": {},
   "source": [
    "## Testing a run of MODFLOW"
   ]
  },
  {
   "cell_type": "markdown",
   "metadata": {},
   "source": [
    "You should now be setup with the FloPy Python module installed in your Python virtual environment, and your `/workingdirectory/bin` containing MODFLOW executables.\n",
    "\n",
    "**Run the code below, and verify that each of the following has happened**:\n",
    "\n",
    "1. MODFLOW will run, in \"verbose\" mode, so that you see beneath the code block **an indication MODFLOW has run**. It should like something like this:\n",
    "\n",
    ">  FloPy is using the following executable to run the model: ../bin/mf2005\n",
    ">\n",
    ">                                  MODFLOW-2005     \n",
    ">    U.S. GEOLOGICAL SURVEY MODULAR FINITE-DIFFERENCE GROUND-WATER FLOW MODEL\n",
    ">                             Version 1.12.00 2/3/2017                        \n",
    "\n",
    "This text will also be written to the buffer variable `buff`.\n",
    "\n",
    "2. Within the testmodel directory, the most basic possible **output from MODFLOW is created** - a MODFLOW LIST file called `testmodel.list`.\n",
    "\n",
    "Because we haven't supplied any of the necessary inputs to run an actual numerical model, you will see that the `success` variable defined below is `False`, and the LIST file contains an error:\n",
    "\n",
    ">   BAS PACKAGE FILE HAS NOT BEEN OPENED."
   ]
  },
  {
   "cell_type": "code",
   "execution_count": 3,
   "metadata": {},
   "outputs": [
    {
     "ename": "ValueError",
     "evalue": "An executable name or path must be provided",
     "output_type": "error",
     "traceback": [
      "\u001b[0;31m---------------------------------------------------------------------------\u001b[0m",
      "\u001b[0;31mValueError\u001b[0m                                Traceback (most recent call last)",
      "Cell \u001b[0;32mIn[3], line 3\u001b[0m\n\u001b[1;32m      1\u001b[0m \u001b[38;5;66;03m#Run the model. This is equivalent to what would happen if you typed the following\u001b[39;00m\n\u001b[1;32m      2\u001b[0m \u001b[38;5;66;03m#in your command line: ./bin/mf2005 ./testmodel.nam\u001b[39;00m\n\u001b[0;32m----> 3\u001b[0m success, buff \u001b[38;5;241m=\u001b[39m \u001b[43mmodel\u001b[49m\u001b[38;5;241;43m.\u001b[39;49m\u001b[43mrun_model\u001b[49m\u001b[43m(\u001b[49m\u001b[43msilent\u001b[49m\u001b[38;5;241;43m=\u001b[39;49m\u001b[38;5;28;43;01mFalse\u001b[39;49;00m\u001b[43m,\u001b[49m\u001b[43m \u001b[49m\u001b[43mreport\u001b[49m\u001b[38;5;241;43m=\u001b[39;49m\u001b[38;5;28;43;01mTrue\u001b[39;49;00m\u001b[43m)\u001b[49m\n",
      "File \u001b[0;32m/opt/anaconda3/envs/geosci724/lib/python3.9/site-packages/flopy/mbase.py:1422\u001b[0m, in \u001b[0;36mBaseModel.run_model\u001b[0;34m(self, silent, pause, report, normal_msg)\u001b[0m\n\u001b[1;32m   1392\u001b[0m \u001b[38;5;28;01mdef\u001b[39;00m \u001b[38;5;21mrun_model\u001b[39m(\n\u001b[1;32m   1393\u001b[0m     \u001b[38;5;28mself\u001b[39m,\n\u001b[1;32m   1394\u001b[0m     silent\u001b[38;5;241m=\u001b[39m\u001b[38;5;28;01mFalse\u001b[39;00m,\n\u001b[0;32m   (...)\u001b[0m\n\u001b[1;32m   1397\u001b[0m     normal_msg\u001b[38;5;241m=\u001b[39m\u001b[38;5;124m\"\u001b[39m\u001b[38;5;124mnormal termination\u001b[39m\u001b[38;5;124m\"\u001b[39m,\n\u001b[1;32m   1398\u001b[0m ) \u001b[38;5;241m-\u001b[39m\u001b[38;5;241m>\u001b[39m Tuple[\u001b[38;5;28mbool\u001b[39m, List[\u001b[38;5;28mstr\u001b[39m]]:\n\u001b[1;32m   1399\u001b[0m \u001b[38;5;250m    \u001b[39m\u001b[38;5;124;03m\"\"\"\u001b[39;00m\n\u001b[1;32m   1400\u001b[0m \u001b[38;5;124;03m    This method will run the model using subprocess.Popen.\u001b[39;00m\n\u001b[1;32m   1401\u001b[0m \n\u001b[0;32m   (...)\u001b[0m\n\u001b[1;32m   1419\u001b[0m \n\u001b[1;32m   1420\u001b[0m \u001b[38;5;124;03m    \"\"\"\u001b[39;00m\n\u001b[0;32m-> 1422\u001b[0m     \u001b[38;5;28;01mreturn\u001b[39;00m \u001b[43mrun_model\u001b[49m\u001b[43m(\u001b[49m\n\u001b[1;32m   1423\u001b[0m \u001b[43m        \u001b[49m\u001b[38;5;28;43mself\u001b[39;49m\u001b[38;5;241;43m.\u001b[39;49m\u001b[43mexe_name\u001b[49m\u001b[43m,\u001b[49m\n\u001b[1;32m   1424\u001b[0m \u001b[43m        \u001b[49m\u001b[38;5;28;43mself\u001b[39;49m\u001b[38;5;241;43m.\u001b[39;49m\u001b[43mnamefile\u001b[49m\u001b[43m,\u001b[49m\n\u001b[1;32m   1425\u001b[0m \u001b[43m        \u001b[49m\u001b[43mmodel_ws\u001b[49m\u001b[38;5;241;43m=\u001b[39;49m\u001b[38;5;28;43mself\u001b[39;49m\u001b[38;5;241;43m.\u001b[39;49m\u001b[43mmodel_ws\u001b[49m\u001b[43m,\u001b[49m\n\u001b[1;32m   1426\u001b[0m \u001b[43m        \u001b[49m\u001b[43msilent\u001b[49m\u001b[38;5;241;43m=\u001b[39;49m\u001b[43msilent\u001b[49m\u001b[43m,\u001b[49m\n\u001b[1;32m   1427\u001b[0m \u001b[43m        \u001b[49m\u001b[43mpause\u001b[49m\u001b[38;5;241;43m=\u001b[39;49m\u001b[43mpause\u001b[49m\u001b[43m,\u001b[49m\n\u001b[1;32m   1428\u001b[0m \u001b[43m        \u001b[49m\u001b[43mreport\u001b[49m\u001b[38;5;241;43m=\u001b[39;49m\u001b[43mreport\u001b[49m\u001b[43m,\u001b[49m\n\u001b[1;32m   1429\u001b[0m \u001b[43m        \u001b[49m\u001b[43mnormal_msg\u001b[49m\u001b[38;5;241;43m=\u001b[39;49m\u001b[43mnormal_msg\u001b[49m\u001b[43m,\u001b[49m\n\u001b[1;32m   1430\u001b[0m \u001b[43m    \u001b[49m\u001b[43m)\u001b[49m\n",
      "File \u001b[0;32m/opt/anaconda3/envs/geosci724/lib/python3.9/site-packages/flopy/mbase.py:1735\u001b[0m, in \u001b[0;36mrun_model\u001b[0;34m(exe_name, namefile, model_ws, silent, pause, report, processors, normal_msg, use_async, cargs, custom_print)\u001b[0m\n\u001b[1;32m   1733\u001b[0m \u001b[38;5;66;03m# make sure executable exists\u001b[39;00m\n\u001b[1;32m   1734\u001b[0m \u001b[38;5;28;01mif\u001b[39;00m exe_name \u001b[38;5;129;01mis\u001b[39;00m \u001b[38;5;28;01mNone\u001b[39;00m:\n\u001b[0;32m-> 1735\u001b[0m     \u001b[38;5;28;01mraise\u001b[39;00m \u001b[38;5;167;01mValueError\u001b[39;00m(\u001b[38;5;124m\"\u001b[39m\u001b[38;5;124mAn executable name or path must be provided\u001b[39m\u001b[38;5;124m\"\u001b[39m)\n\u001b[1;32m   1736\u001b[0m exe_path \u001b[38;5;241m=\u001b[39m resolve_exe(exe_name)\n\u001b[1;32m   1737\u001b[0m \u001b[38;5;28;01mif\u001b[39;00m \u001b[38;5;129;01mnot\u001b[39;00m silent:\n",
      "\u001b[0;31mValueError\u001b[0m: An executable name or path must be provided"
     ]
    }
   ],
   "source": [
    "#Run the model. This is equivalent to what would happen if you typed the following\n",
    "#in your command line: ./bin/mf2005 ./testmodel.nam\n",
    "success, buff = model.run_model(silent=False, report=True)"
   ]
  },
  {
   "cell_type": "markdown",
   "metadata": {},
   "source": [
    "## Debugging common issues"
   ]
  },
  {
   "cell_type": "markdown",
   "metadata": {},
   "source": [
    "If you get errors when trying to run the code above, please try the following troubleshooting steps\n",
    "\n",
    "* Ensure that you are within your dedicated conda environment - i.e., you should always remember to start at the Command Prompt / Terminal with `conda activate hydroclass` before starting up `jupyter-lab` and working in your Jupyter notebooks.\n",
    "\n",
    "* Ensure that the Jupyter notebook is in your `/workingdirectory/`.\n",
    "\n",
    "* Ensure that all MODFLOW binaries are installed within `/workingdirectory/bin`, and not in a subfolder.\n",
    "\n",
    "* Make sure, after activating your conda environment, that FloPy is installed. If not, try `pip install flopy`."
   ]
  },
  {
   "cell_type": "markdown",
   "metadata": {},
   "source": [
    "# Starting a FloPy Jupyter Notebook (from now on)"
   ]
  },
  {
   "cell_type": "markdown",
   "metadata": {},
   "source": [
    "If you were able to execute everything in the sections above, you should be setup to seamlessly use FloPy and MODFLOW for future notebooks, as long as you continue to work within your `/workingdirectory/`. You do not need to re-install the flopy module each time, nor do you need to re-download MODFLOW each time. \n",
    "\n",
    "The code below provides a minimal example that can be copy-pasted into a new notebook as a starting point for FloPy-based MODFLOW-2005 model development.\n"
   ]
  },
  {
   "cell_type": "code",
   "execution_count": null,
   "metadata": {},
   "outputs": [],
   "source": [
    "import os\n",
    "import numpy as np\n",
    "import flopy\n",
    "import flopy.modflow as fpm\n",
    "import flopy.utils as fpu\n",
    "\n",
    "# A totally defaulted setup (BAD IDEA)\n",
    "m = flopy.modflow.Modflow()\n",
    "bas = flopy.modflow.ModflowBas(m)\n",
    "dis = flopy.modflow.ModflowDis(m)\n",
    "oc = flopy.modflow.ModflowDis(m)\n",
    "lpf = flopy.modflow.ModflowLpf(m)\n",
    "m.write_input()\n",
    "success, buff = m.run_model()\n"
   ]
  },
  {
   "cell_type": "code",
   "execution_count": null,
   "metadata": {},
   "outputs": [],
   "source": [
    "import os\n",
    "import numpy as np\n",
    "import flopy\n",
    "import flopy.modflow as fpm\n",
    "import flopy.utils as fpu\n",
    "\n",
    "#Setup the name of the model (which will also be used for the working directory)\n",
    "model_name = 'testmodel2' \n",
    "\n",
    "binary_dir = os.path.join('.','bin')\n",
    "exe_path = os.path.join('.','bin','mf2005')\n",
    "ws_path = os.path.join('.','models',model_name)\n",
    "\n",
    "#MODFLOW-2005 STARTER CODE\n",
    "#Create the model object \n",
    "model = fpm.Modflow(modelname=model_name, exe_name=exe_path, model_ws=ws_path)\n",
    "\n",
    "#TO BE MODIFIED: This is where you will provide more information to setup a model's properties,\n",
    "#and/or use visualizations to check inputs are specified correctly\n",
    "\n",
    "#Write Inputs\n",
    "model.write_input()\n",
    "\n",
    "#Run the model, write outputs\n",
    "success, buff = model.run_model(silent=False, report=True)\n",
    "\n",
    "#TO BE MODIFIED: This is where you will provide more information on visualizing model results,\n",
    "#and/or post-processing model outputs"
   ]
  },
  {
   "cell_type": "markdown",
   "metadata": {},
   "source": [
    "# Further Information / Reading"
   ]
  },
  {
   "cell_type": "markdown",
   "metadata": {},
   "source": [
    "## USGS MODFLOW Binaries & Utilities"
   ]
  },
  {
   "cell_type": "markdown",
   "metadata": {},
   "source": [
    "You may have noticed that the contents of the zip file you placed in `/workingdirectory/bin` contains many different programs. Among these are several different versions of MODFLOW as well as other programs and utilities that you may find useful in your modeling career. We highlight some of the most useful / important below, with associated links to their webpages and user guides,\n",
    "\n",
    "Different versions of MODFLOW, and associated utilities / subprograms:\n",
    "* `mf2005`: [MODFLOW-2005](https://www.usgs.gov/software/modflow-2005-usgs-three-dimensional-finite-difference-ground-water-model) - The most widely-used version of MODFLOW, which uses rectangular grids in the horizontal, while allowing deformed vertical gridding.  This version of MODFLOW includes a quite useful [Online User's Guide](https://water.usgs.gov/ogw/modflow/MODFLOW-2005-Guide/index.html). Utilities usable with MODFLOW-2005 include:\n",
    "    * `mp6`: [MODPATH 6](https://pubs.usgs.gov/tm/6a41/) - A particle tracking simulator compatible with MODFLOW-2005. MODPATH takes the output of a MODFLOW model (cell-to-cell flow rates) and traces the path a particle would take in that flow field.\n",
    "    * `zonebud3`: [ZONEBUDGET](https://www.usgs.gov/software/zonebudget-program-computing-subregional-water-budgets-modflow-groundwater-flow-models) - A program for calculating budgets / mass balances within subregions of a groundwater flow model.\n",
    "    * `mt3dms`: [MT3DMS](https://web.archive.org/web/20170129200934/http://hydro.geo.ua.edu/mt3d/) - A program for simulating multi-species transport based on the output of MODFLOW-2005 or earlier versions.\n",
    "\n",
    "\n",
    "* `mfnwt`: [MODFLOW-NWT](https://www.usgs.gov/software/modflow-nwt-a-newton-formulation-modflow-2005) - An update to MODFLOW-2005 that includes improvements in stability for models where drying / re-wetting of cells is common. Note: Most MODFLOW-2005 models can be run through MODFLOW-NWT with only minor edits. Experience shows that MODFLOW-NWT has better convergence but is often slower than standard MODFLOW-2005.\n",
    "\n",
    "* `mf6`: [MODFLOW 6](https://www.usgs.gov/software/modflow-6-usgs-modular-hydrologic-model) - The most recent release of MODFLOW. Key new features include capabilities for fully unstructured grids, and the use of a simulation framework that allows multiple flow models to be run at once, coupled via model exchanges. In addition, MODFLOW 6 has started to incorporate features beyond just groundwater flow (GWF), including solute transport (GWT), energy movement (GWE), and particle tracking (PRT).A useful resource for MODFLOW 6 is the [MODFLOW 6 Online Input Guide](https://modflow6.readthedocs.io/en/latest/mf6io.html)\n",
    "    * `gridgen`: [GRIDGEN](https://www.usgs.gov/software/gridgen-program-generating-unstructured-finite-volume-grids) - A program for creating layered quadtree grids (i.e., refined by subdividing cells of a rectangular grid into 4 sub-cells), for use in codes that support unstructured grids.\n",
    "    * `triangle`: [TRIANGLE](https://www.cs.cmu.edu/~quake/triangle.html) - A program for creating triangular unstructured grids in 2D. (Not created / supported by USGS)\n",
    "    * `mt3dusgs`: A version of MT3DMS updated to accommodate new capabilities from MODFLOW-NWT and new input structures in MODFLOW 6. Currently only compatible with structured grids for MODFLOW 6.\n",
    "    * `zbud6`: [ZONEBUDGET](https://www.usgs.gov/software/modflow-6-usgs-modular-hydrologic-model) version compatible with MODFLOW 6.\n",
    "    * `mp7`: [MODPATH 7](https://pubs.usgs.gov/tm/6a41/) - A particle tracking simulator compatible with MODFLOW 6. Support for unstructured grids is limited to quadtree / quadquadpatch grids. Particle tracking can also be accomplished using the included PRT process in MODFLOW 6.\n",
    "\n",
    "Other MODFLOW-like programs:\n",
    "* `swtv4`: [SEAWAT Version 4](https://www.usgs.gov/software/seawat-computer-program-simulation-three-dimensional-variable-density-ground-water-flow) - A model based on the structures and ideas of MODFLOW and MT3DMS which simulates variable-density / variable viscosity groundwater flow processes, such as saltwater intrusion in coastal areas and convection-based flow in geothermal regions.\n",
    "\n",
    "* `sutra`: [SUTRA](https://www.usgs.gov/software/sutra-a-model-2d-or-3d-saturated-unsaturated-variable-density-ground-water-flow-solute-or) - A model that borrows some MODFLOW concepts and simulates saturated / unsaturated and variable-density groundwater flow."
   ]
  }
 ],
 "metadata": {
  "kernelspec": {
   "display_name": "Python 3 (ipykernel)",
   "language": "python",
   "name": "python3"
  },
  "language_info": {
   "codemirror_mode": {
    "name": "ipython",
    "version": 3
   },
   "file_extension": ".py",
   "mimetype": "text/x-python",
   "name": "python",
   "nbconvert_exporter": "python",
   "pygments_lexer": "ipython3",
   "version": "3.9.20"
  }
 },
 "nbformat": 4,
 "nbformat_minor": 4
}
