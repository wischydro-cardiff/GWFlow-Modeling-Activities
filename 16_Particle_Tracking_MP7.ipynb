{
 "cells": [
  {
   "cell_type": "markdown",
   "id": "d533c6ca-89af-4a50-8454-110a03f49a52",
   "metadata": {},
   "source": [
    "# Particle tracking with MODFLOW 6 and MODPATH 7"
   ]
  },
  {
   "cell_type": "markdown",
   "id": "99ea044d-3f4e-45bc-92f8-3728371a46e9",
   "metadata": {},
   "source": [
    "A model is \"solved\" once convergence is achieved for steady state or transient head values. As we've seen in the class so far, this means we can create outputs that show changes in head over time at points in space or throughout the model domain.\n",
    "\n",
    "Often, however, the prediction of interest for a model is something different than head values at a point in space. For example, we may want to know how quickly a lake is losing water to pumping, and how that changes as pumping rates change. Or, we may want to understand the source for water entering a particular region (such as the source of water entering a well).\n",
    "\n",
    "Thes notebook demonstrates particle tracking with MODFLOW 6 using the associated particle tracking code MODPATH 7.\n",
    "\n",
    "**Notes**:\n",
    "The codes that can be used for particle tracking are in a bit of \"flux\" (pun intended), with new capabilities for MODFLOW 6 actively being developed. The following provides some guidelines on how to handle particle tracking with current and historical models:\n",
    "\n",
    "* MODFLOW-2005: Users of MODFLOW-2005 must use MODPATH 6, with associated functions found under `flopy.modpath.mp6`.\n",
    "* MODFLOW 6:\n",
    "   * For rectangular / plaid grids or quadtree grids, MODPATH 7 can be used.\n",
    "   * For more unstructured grids, the MODFLOW 6 PRT (Particle tracking) provides a more flexible method for particle tracking. However, note that this was only recently released (May 23, 2024), and the most recent release of MODFLOW 6 version 6.6 indicates that [there are many bugs still being squashed](https://water.usgs.gov/water-resources/software/MODFLOW-6/release_6.6.0.pdf)\n",
    "\n",
    "This notebook is a simplified version of the 2024 [MODFLOW training notebooks](https://github.com/christianlangevin/modflow-training-princeton2024/tree/main/examples/notebooks) offered by Christian Langevin."
   ]
  },
  {
   "cell_type": "markdown",
   "id": "ff4bcacf-c1f7-4517-8951-b1745816699d",
   "metadata": {},
   "source": [
    "## Learning Objectives"
   ]
  },
  {
   "cell_type": "markdown",
   "id": "9178e29d-4ce7-49d7-ab3a-88b579b2397a",
   "metadata": {},
   "source": [
    "After you have read and run this notebook, you should be able to:\n",
    "* Setup MODPATH 7 to run using the results from a MODFLOW 6 model\n",
    "* Define options for particle tracking including particle release locations, particle travel directions, and MODPATH output"
   ]
  },
  {
   "cell_type": "markdown",
   "id": "1cb91de0-4517-4a9e-aeb1-91f8cbe5072d",
   "metadata": {},
   "source": [
    "## Initial Setup"
   ]
  },
  {
   "cell_type": "markdown",
   "id": "c687cbd8-80b6-425b-b86d-b64985f22b1c",
   "metadata": {},
   "source": [
    "As usual, we will import all necessary packages used in this workbook first."
   ]
  },
  {
   "cell_type": "code",
   "execution_count": 1,
   "id": "2a713063",
   "metadata": {},
   "outputs": [],
   "source": [
    "#Note - Pathlib is an alternative to os.path\n",
    "import pathlib as pl\n",
    "\n",
    "import flopy\n",
    "import matplotlib as mpl\n",
    "import matplotlib.pyplot as plt\n",
    "import numpy as np\n",
    "\n",
    "import pandas as pd\n",
    "\n",
    "from flopy.utils.gridgen import Gridgen\n",
    "from flopy.utils.gridintersect import GridIntersect\n",
    "from flopy.discretization import VertexGrid\n",
    "from flopy.utils.triangle import Triangle as Triangle\n",
    "from flopy.utils.voronoi import VoronoiGrid\n",
    "from shapely.geometry import LineString, Point, MultiPoint, Polygon\n",
    "from matplotlib import colormaps as cm"
   ]
  },
  {
   "cell_type": "markdown",
   "id": "0990921f",
   "metadata": {},
   "source": [
    "Define the base workspace."
   ]
  },
  {
   "cell_type": "code",
   "execution_count": 2,
   "id": "eb69c70c",
   "metadata": {},
   "outputs": [],
   "source": [
    "example_name = \"tracking\"\n",
    "base_ws = pl.Path(\"nboutput\") / example_name"
   ]
  },
  {
   "cell_type": "markdown",
   "id": "8302fb9c",
   "metadata": {},
   "source": [
    "### MODPATH 7 Example Problem 2\n",
    "\n",
    "This problem is reproduced from the MODPATH 7 user guide examples\n",
    "document ([Pollock, 2016](http://dx.doi.org/10.3133/ofr20161086))."
   ]
  },
  {
   "cell_type": "markdown",
   "id": "cfc6016d",
   "metadata": {},
   "source": [
    "The flow system consists of two aquifers with a low conductivity\n",
    "confining layer in between. The model grid is roughly square. There is\n",
    "a quad-refined region around a central well and a river runs along the\n",
    "grid's eastern boundary.\n",
    "\n",
    "Particles are released from the four lateral faces of the well and tracked\n",
    "backwards to recharge points at the water table.\n"
   ]
  },
  {
   "cell_type": "markdown",
   "id": "f33c8aca",
   "metadata": {},
   "source": [
    "#### Grid refinement\n",
    "\n",
    "Our first step is to create a quad-refined grid. For this we will use the [GRIDGEN](https://www.usgs.gov/software/gridgen-program-generating-unstructured-finite-volume-grids) program.\n",
    "\n",
    "The grid will have 3 refinement levels. First we create a \"dummy\" structured grid discretization to use as a base for refinement."
   ]
  },
  {
   "cell_type": "code",
   "execution_count": 3,
   "id": "222e04e5",
   "metadata": {},
   "outputs": [],
   "source": [
    "# Base grid properties\n",
    "Lx = 10000.0\n",
    "Ly = 10500.0\n",
    "nlay = 3\n",
    "nrow = 21\n",
    "ncol = 20\n",
    "delr = Lx / ncol\n",
    "delc = Ly / nrow\n",
    "top = 400\n",
    "botm = [220, 200, 0]"
   ]
  },
  {
   "cell_type": "code",
   "execution_count": 4,
   "id": "f4a4dcdd",
   "metadata": {},
   "outputs": [],
   "source": [
    "# Create a \"dummy\" discretization\n",
    "ms = flopy.modflow.Modflow()\n",
    "dis = flopy.modflow.ModflowDis(\n",
    "    ms,\n",
    "    nlay=nlay,\n",
    "    nrow=nrow,\n",
    "    ncol=ncol,\n",
    "    delr=delr,\n",
    "    delc=delc,\n",
    "    top=top,\n",
    "    botm=botm,\n",
    ")"
   ]
  },
  {
   "cell_type": "markdown",
   "id": "a6c9a127",
   "metadata": {},
   "source": [
    "We are now ready to refine the grid."
   ]
  },
  {
   "cell_type": "code",
   "execution_count": 5,
   "id": "c8cd60cc",
   "metadata": {},
   "outputs": [],
   "source": [
    "# Create gridgen workspace and object\n",
    "gridgen_ws = base_ws / \"gridgen\"\n",
    "gridgen_ws.mkdir(parents=True, exist_ok=True)\n",
    "gridgen = Gridgen(ms.modelgrid, model_ws=gridgen_ws)"
   ]
  },
  {
   "cell_type": "code",
   "execution_count": 6,
   "id": "6cc5af60",
   "metadata": {},
   "outputs": [],
   "source": [
    "# Define refinement polygons\n",
    "ref_polys = [\n",
    "    [[(3500, 4000), (3500, 6500), (6000, 6500), (6000, 4000), (3500, 4000)]],  # outer\n",
    "    [[(4000, 4500), (4000, 6000), (5500, 6000), (5500, 4500), (4000, 4500)]],  # middle\n",
    "    [[(4500, 5000), (4500, 5500), (5000, 5500), (5000, 5000), (4500, 5000)]],  # inner\n",
    "]\n",
    "ref_paths = []\n",
    "for i, poly in enumerate(ref_polys):\n",
    "    gridgen.add_refinement_features([poly], \"polygon\", i + 1, range(nlay))\n",
    "    ref_paths.append(gridgen_ws / f\"rf{i}\")"
   ]
  },
  {
   "cell_type": "code",
   "execution_count": 7,
   "id": "a0dd4a54",
   "metadata": {},
   "outputs": [],
   "source": [
    "# Build the refined grid\n",
    "gridgen.build(verbose=False)\n",
    "grid_props = gridgen.get_gridprops_vertexgrid()\n",
    "disv_props = gridgen.get_gridprops_disv()\n",
    "grid = flopy.discretization.VertexGrid(**grid_props)"
   ]
  },
  {
   "cell_type": "code",
   "execution_count": 8,
   "id": "f948f3ef",
   "metadata": {},
   "outputs": [],
   "source": [
    "# Extract refined grid properties\n",
    "ncpl = disv_props[\"ncpl\"]\n",
    "top = disv_props[\"top\"]\n",
    "botm = disv_props[\"botm\"]\n",
    "nvert = disv_props[\"nvert\"]\n",
    "vertices = disv_props[\"vertices\"]\n",
    "cell2d = disv_props[\"cell2d\"]"
   ]
  },
  {
   "cell_type": "code",
   "execution_count": 9,
   "id": "ae7619c2",
   "metadata": {},
   "outputs": [
    {
     "data": {
      "image/png": "[encoded data removed]",
      "text/plain": [
       "<Figure size 640x480 with 1 Axes>"
      ]
     },
     "metadata": {},
     "output_type": "display_data"
    }
   ],
   "source": [
    "# Plot the grid with refinement levels superimposed.\n",
    "grid.plot()\n",
    "for i, path in enumerate(ref_paths):\n",
    "    flopy.plot.plot_shapefile(path, ax=plt.gca(), facecolor=\"green\", edgecolor=\"none\", alpha=(i + 1) / 3)\n",
    "plt.show()"
   ]
  },
  {
   "cell_type": "markdown",
   "id": "7833ae1a",
   "metadata": {},
   "source": [
    "#### Groundwater flow model\n",
    "\n",
    "We are ready to create the GWF model. First, define the model name, workspace, units, and some parameters."
   ]
  },
  {
   "cell_type": "markdown",
   "id": "e7dc906d",
   "metadata": {},
   "source": [
    "Define the model name and workspace."
   ]
  },
  {
   "cell_type": "code",
   "execution_count": 10,
   "id": "f49cb8a2",
   "metadata": {},
   "outputs": [],
   "source": [
    "gwf_name = f\"{example_name}-gwf\"\n",
    "gwf_ws = base_ws / \"gwf\"\n",
    "gwf_ws.mkdir(exist_ok=True, parents=True)"
   ]
  },
  {
   "cell_type": "markdown",
   "id": "6e5e4a4a",
   "metadata": {},
   "source": [
    "Define model units."
   ]
  },
  {
   "cell_type": "code",
   "execution_count": 11,
   "id": "92a89824",
   "metadata": {},
   "outputs": [],
   "source": [
    "length_units = \"feet\"\n",
    "time_units = \"days\""
   ]
  },
  {
   "cell_type": "markdown",
   "id": "2280c951",
   "metadata": {},
   "source": [
    "Define model parameters."
   ]
  },
  {
   "cell_type": "code",
   "execution_count": 12,
   "id": "91bbf7b6",
   "metadata": {},
   "outputs": [],
   "source": [
    "nper = 1  # Number of periods\n",
    "nlay = 3  # Number of layers (base grid)\n",
    "nrow = 21  # Number of rows (base grid)\n",
    "ncol = 20  # Number of columns (base grid)\n",
    "delr = 500.0  # Column width ($ft$)\n",
    "delc = 500.0  # Row width ($ft$)\n",
    "top = 400.0  # Top of the model ($ft$)\n",
    "botm = [220.0, 200.0, 0.0]  # Layer bottom elevations ($ft$)\n",
    "porosity = 0.1  # Soil porosity (unitless)\n",
    "rrch = 0.005  # Recharge rate ($ft/d$)\n",
    "kh = [50.0, 0.01, 200.0]  # Horizontal hydraulic conductivity ($ft/d$)\n",
    "kv = [10.0, 0.01, 20.0]  # Vertical hydraulic conductivity ($ft/d$)\n",
    "wel_q = -150000.0  # Well pumping rate ($ft^3/d$)\n",
    "riv_h = 320.0  # River stage ($ft$)\n",
    "riv_z = 317.0  # River bottom ($ft$)\n",
    "riv_c = 1.0e5  # River conductance ($ft^2/d$)"
   ]
  },
  {
   "cell_type": "markdown",
   "id": "1c885af1",
   "metadata": {},
   "source": [
    "Define the time discretization."
   ]
  },
  {
   "cell_type": "code",
   "execution_count": 13,
   "id": "a90d33ab",
   "metadata": {},
   "outputs": [],
   "source": [
    "nstp = 1\n",
    "perlen = 1000.0\n",
    "tsmult = 1.0\n",
    "tdis_rc = [(perlen, nstp, tsmult)]"
   ]
  },
  {
   "cell_type": "markdown",
   "id": "b0f1832f",
   "metadata": {},
   "source": [
    "Now we can begin to construct the GWF model."
   ]
  },
  {
   "cell_type": "code",
   "execution_count": 14,
   "id": "6722238f",
   "metadata": {},
   "outputs": [],
   "source": [
    "sim = flopy.mf6.MFSimulation(\n",
    "    sim_name=gwf_name, exe_name=\"mf6\", version=\"mf6\", sim_ws=gwf_ws\n",
    ")\n",
    "tdis = flopy.mf6.ModflowTdis(\n",
    "    sim, pname=\"tdis\", time_units=\"DAYS\", perioddata=tdis_rc, nper=len(tdis_rc)\n",
    ")\n",
    "gwf = flopy.mf6.ModflowGwf(\n",
    "    sim, modelname=gwf_name, model_nam_file=\"{}.nam\".format(gwf_name)\n",
    ")\n",
    "gwf.name_file.save_flows = True\n",
    "disv = flopy.mf6.ModflowGwfdisv(\n",
    "    gwf,\n",
    "    length_units=length_units,\n",
    "    **disv_props,  # from grid refinement above\n",
    ")\n",
    "ic = flopy.mf6.ModflowGwfic(gwf, pname=\"ic\", strt=riv_h)  # initial heads at river stage\n",
    "npf = flopy.mf6.ModflowGwfnpf(\n",
    "    gwf,\n",
    "    xt3doptions=[(\"xt3d\")],\n",
    "    icelltype=[1, 0, 0],\n",
    "    k=kh,\n",
    "    k33=kv,\n",
    "    save_saturation=True,\n",
    "    save_specific_discharge=True,\n",
    ")"
   ]
  },
  {
   "cell_type": "markdown",
   "id": "425abb7f",
   "metadata": {},
   "source": [
    "Define the model's boundary conditions. These include a well, a river, and recharge. Instead of manually setting cell IDs for the well and river, we will determine cell IDs by defining boundary coordinates and intersecting them with the grid."
   ]
  },
  {
   "cell_type": "code",
   "execution_count": 15,
   "id": "ddd34aab",
   "metadata": {},
   "outputs": [],
   "source": [
    "# Create intersection object\n",
    "ix = GridIntersect(gwf.modelgrid, method=\"vertex\", rtree=True)"
   ]
  },
  {
   "cell_type": "code",
   "execution_count": 16,
   "id": "821691af",
   "metadata": {},
   "outputs": [],
   "source": [
    "# Create the well package\n",
    "wel_coords = [(4718.45, 5281.25)]\n",
    "welcells = ix.intersects(MultiPoint(wel_coords))\n",
    "welcells = [icpl for (icpl,) in welcells]\n",
    "welspd = [[(2, icpl), -150000.0] for icpl in welcells]\n",
    "wel = flopy.mf6.ModflowGwfwel(gwf, print_input=True, stress_period_data=welspd)"
   ]
  },
  {
   "cell_type": "code",
   "execution_count": 17,
   "id": "036f9ff1",
   "metadata": {},
   "outputs": [
    {
     "name": "stdout",
     "output_type": "stream",
     "text": [
      "[[(0, 650), 320.0, 100000.0, 317.0], [(0, 630), 320.0, 100000.0, 317.0], [(0, 610), 320.0, 100000.0, 317.0], [(0, 590), 320.0, 100000.0, 317.0], [(0, 570), 320.0, 100000.0, 317.0], [(0, 550), 320.0, 100000.0, 317.0], [(0, 530), 320.0, 100000.0, 317.0], [(0, 510), 320.0, 100000.0, 317.0], [(0, 490), 320.0, 100000.0, 317.0], [(0, 455), 320.0, 100000.0, 317.0], [(0, 384), 320.0, 100000.0, 317.0], [(0, 265), 320.0, 100000.0, 317.0], [(0, 194), 320.0, 100000.0, 317.0], [(0, 159), 320.0, 100000.0, 317.0], [(0, 139), 320.0, 100000.0, 317.0], [(0, 119), 320.0, 100000.0, 317.0], [(0, 99), 320.0, 100000.0, 317.0], [(0, 79), 320.0, 100000.0, 317.0], [(0, 59), 320.0, 100000.0, 317.0], [(0, 39), 320.0, 100000.0, 317.0], [(0, 19), 320.0, 100000.0, 317.0]]\n"
     ]
    }
   ],
   "source": [
    "# Create the river package\n",
    "riv_iface = 6\n",
    "riv_iflowface = -1\n",
    "riverline = [(Lx - 1.0, Ly), (Lx - 1.0, 0.0)]\n",
    "rivcells = ix.intersects(LineString(riverline))\n",
    "#Clever? Why not\n",
    "rivcells = rivcells.cellids.tolist()\n",
    "#Old code!\n",
    "#rivcells = [icpl for (icpl,) in rivcells]\n",
    "rivspd = [\n",
    "    [(0, icpl), riv_h, riv_c, riv_z] for icpl in rivcells\n",
    "]\n",
    "print(rivspd)\n",
    "riv = flopy.mf6.ModflowGwfriv(\n",
    "    gwf, stress_period_data=rivspd\n",
    ")"
   ]
  },
  {
   "cell_type": "code",
   "execution_count": 18,
   "id": "1e670e31",
   "metadata": {},
   "outputs": [],
   "source": [
    "# Create the recharge package\n",
    "rch = flopy.mf6.ModflowGwfrcha(\n",
    "    gwf,\n",
    "    recharge=rrch,\n",
    "#    auxiliary=[\"iface\", \"iflowface\"],\n",
    "#    aux=[rch_iface, rch_iflowface],\n",
    ")"
   ]
  },
  {
   "cell_type": "markdown",
   "id": "7b26c5a3",
   "metadata": {},
   "source": [
    "Finally we can create the output control and solver packages."
   ]
  },
  {
   "cell_type": "code",
   "execution_count": 19,
   "id": "7245bbf7",
   "metadata": {},
   "outputs": [],
   "source": [
    "# Create the output control package\n",
    "headfile_name = \"{}.hds\".format(gwf_name)\n",
    "budgetfile_name = \"{}.cbb\".format(gwf_name)\n",
    "oc = flopy.mf6.ModflowGwfoc(\n",
    "    gwf,\n",
    "    pname=\"oc\",\n",
    "    budget_filerecord=[budgetfile_name],\n",
    "    head_filerecord=[headfile_name],\n",
    "    headprintrecord=[(\"COLUMNS\", 10, \"WIDTH\", 15, \"DIGITS\", 6, \"GENERAL\")],\n",
    "    saverecord=[(\"HEAD\", \"ALL\"), (\"BUDGET\", \"ALL\")],\n",
    "    printrecord=[(\"HEAD\", \"ALL\"), (\"BUDGET\", \"ALL\")],\n",
    ")"
   ]
  },
  {
   "cell_type": "code",
   "execution_count": 20,
   "id": "4ef0133a",
   "metadata": {},
   "outputs": [],
   "source": [
    "# Create the iterative model solution (IMS) package and register it with the model.\n",
    "ims = flopy.mf6.ModflowIms(\n",
    "    sim,\n",
    "    pname=\"ims\",\n",
    "    outer_dvclose=1.0e-5,\n",
    "    outer_maximum=100,\n",
    "    under_relaxation=\"NONE\",\n",
    "    inner_maximum=100,\n",
    "    inner_dvclose=1.0e-6,\n",
    "    rcloserecord=0.1,\n",
    "    linear_acceleration=\"BICGSTAB\",\n",
    "    scaling_method=\"NONE\",\n",
    "    reordering_method=\"NONE\",\n",
    "    relaxation_factor=0.99,\n",
    ")\n",
    "sim.register_ims_package(ims, [gwf.name])"
   ]
  },
  {
   "cell_type": "markdown",
   "id": "2fc1c66b",
   "metadata": {},
   "source": [
    "We can now write and run the GWF simulation."
   ]
  },
  {
   "cell_type": "code",
   "execution_count": 21,
   "id": "37fa63c5",
   "metadata": {},
   "outputs": [
    {
     "name": "stdout",
     "output_type": "stream",
     "text": [
      "writing simulation...\n",
      "  writing simulation name file...\n",
      "  writing simulation tdis package...\n",
      "  writing solution package ims...\n",
      "  writing model tracking-gwf...\n",
      "    writing model name file...\n",
      "    writing package disv...\n",
      "    writing package ic...\n",
      "    writing package npf...\n",
      "    writing package wel_0...\n",
      "INFORMATION: maxbound in ('gwf6', 'wel', 'dimensions') changed to 1 based on size of stress_period_data\n",
      "    writing package riv_0...\n",
      "INFORMATION: maxbound in ('gwf6', 'riv', 'dimensions') changed to 21 based on size of stress_period_data\n",
      "    writing package rcha_0...\n",
      "    writing package oc...\n",
      "FloPy is using the following executable to run the model: ../../../../../../../../opt/anaconda3/envs/geosci724/bin/mf6\n",
      "                                   MODFLOW 6\n",
      "                U.S. GEOLOGICAL SURVEY MODULAR HYDROLOGIC MODEL\n",
      "                            VERSION 6.6.0 12/20/2024\n",
      "\n",
      "        MODFLOW 6 compiled Dec 23 2024 16:29:44 with GCC version 12.4.0\n",
      "\n",
      "This software has been approved for release by the U.S. Geological \n",
      "Survey (USGS). Although the software has been subjected to rigorous \n",
      "review, the USGS reserves the right to update the software as needed \n",
      "pursuant to further analysis and review. No warranty, expressed or \n",
      "implied, is made by the USGS or the U.S. Government as to the \n",
      "functionality of the software and related material nor shall the \n",
      "fact of release constitute any such warranty. Furthermore, the \n",
      "software is released on condition that neither the USGS nor the U.S. \n",
      "Government shall be held liable for any damages resulting from its \n",
      "authorized or unauthorized use. Also refer to the USGS Water \n",
      "Resources Software User Rights Notice for complete use, copyright, \n",
      "and distribution information.\n",
      "\n",
      "\n",
      " MODFLOW runs in SEQUENTIAL mode\n",
      "\n",
      " Run start date and time (yyyy/mm/dd hh:mm:ss): 2025/04/15  9:15:49\n",
      "\n",
      " Writing simulation list file: mfsim.lst\n",
      " Using Simulation name file: mfsim.nam\n",
      "\n",
      "    Solving:  Stress period:     1    Time step:     1\n",
      "\n",
      " Run end date and time (yyyy/mm/dd hh:mm:ss): 2025/04/15  9:15:49\n",
      " Elapsed run time:  0.068 Seconds\n",
      "\n",
      " Normal termination of simulation.\n"
     ]
    },
    {
     "data": {
      "text/plain": [
       "(True, [])"
      ]
     },
     "execution_count": 21,
     "metadata": {},
     "output_type": "execute_result"
    }
   ],
   "source": [
    "sim.write_simulation(silent=False)\n",
    "sim.run_simulation(silent=False)"
   ]
  },
  {
   "cell_type": "markdown",
   "id": "cc449183",
   "metadata": {},
   "source": [
    "Load head output from the flow model."
   ]
  },
  {
   "cell_type": "code",
   "execution_count": 22,
   "id": "d4770c6c",
   "metadata": {},
   "outputs": [],
   "source": [
    "hds = gwf.output.head().get_data()"
   ]
  },
  {
   "cell_type": "markdown",
   "id": "9b4b9988",
   "metadata": {},
   "source": [
    "Plot the heads."
   ]
  },
  {
   "cell_type": "code",
   "execution_count": 23,
   "id": "cae290d9",
   "metadata": {},
   "outputs": [
    {
     "data": {
      "image/png": "[encoded data removed]",
      "text/plain": [
       "<Figure size 1000x1000 with 2 Axes>"
      ]
     },
     "metadata": {},
     "output_type": "display_data"
    }
   ],
   "source": [
    "fig = plt.figure(figsize=(10, 10))\n",
    "fig.tight_layout()\n",
    "ax = fig.add_subplot(1, 1, 1, aspect=\"equal\")\n",
    "mm = flopy.plot.PlotMapView(gwf, ax=ax, layer=2)\n",
    "mm.plot_grid(alpha=0.25)\n",
    "mm.plot_bc(\"WEL\", plotAll=True, color=\"red\")\n",
    "mm.plot_bc(\"RIV\", plotAll=True, color=\"teal\")\n",
    "pc = mm.plot_array(hds[:, 0, :], edgecolor=\"black\", alpha=0.5)\n",
    "cb = plt.colorbar(pc, shrink=0.25, pad=0.1)\n",
    "cb.ax.set_xlabel(r\"Head ($ft$)\")\n",
    "plt.show()"
   ]
  },
  {
   "cell_type": "markdown",
   "id": "6e3df5ea",
   "metadata": {},
   "source": [
    "#### MODPATH 7 Model\n",
    "\n",
    "Next, we can create a MODPATH 7 particle tracking model using the flow model we just created. The first step is to define the particle release configuration. We distribute particles evenly around the 4 lateral faces of the well."
   ]
  },
  {
   "cell_type": "code",
   "execution_count": 24,
   "id": "8ebce2de",
   "metadata": {},
   "outputs": [],
   "source": [
    "face_data = flopy.modpath.FaceDataType(\n",
    "    rowdivisions5=0,\n",
    "    columndivisions5=0,\n",
    "    rowdivisions6=0,\n",
    "    columndivisions6=0\n",
    ")\n",
    "particle_data = flopy.modpath.NodeParticleData(\n",
    "    nodes=ncpl * 2 + welcells[0],\n",
    "    subdivisiondata=None\n",
    ")\n",
    "\n",
    "# particle_data2 = flopy.modpath.ParticleData(\n",
    "#     partlocs=[ncpl * 2 + welcells[0]],\n",
    "# )\n",
    "\n",
    "particle_group = flopy.modpath.ParticleGroupNodeTemplate(\n",
    "    particlegroupname=\"PG\",\n",
    "    particledata=particle_data,\n",
    "    filename=\"pg.sloc\",\n",
    ")\n",
    "\n",
    "# particle_group2 = flopy.modpath.ParticleGroupLRCTemplate(\n",
    "#     particlegroupname=\"PG\",\n",
    "#     particledata=particle_data2,\n",
    "#     filename=\"pg2.sloc\",\n",
    "# )"
   ]
  },
  {
   "cell_type": "markdown",
   "id": "a5deafd9",
   "metadata": {},
   "source": [
    "Now define the model name and workspace."
   ]
  },
  {
   "cell_type": "code",
   "execution_count": 25,
   "id": "c65f0517",
   "metadata": {},
   "outputs": [],
   "source": [
    "mp7_name = f\"{example_name}-mp7\"\n",
    "mp7_ws = base_ws / \"mp7\"\n",
    "mp7_ws.mkdir(exist_ok=True, parents=True)"
   ]
  },
  {
   "cell_type": "markdown",
   "id": "bde5f8fd",
   "metadata": {},
   "source": [
    "Build the MP7 model."
   ]
  },
  {
   "cell_type": "code",
   "execution_count": 26,
   "id": "882745c9",
   "metadata": {},
   "outputs": [],
   "source": [
    "mp7_sim = flopy.modpath.Modpath7(\n",
    "    modelname=mp7_name,\n",
    "    flowmodel=gwf,\n",
    "    exe_name=\"mp7\",\n",
    "    model_ws=mp7_ws,\n",
    "    budgetfilename=budgetfile_name,\n",
    "    headfilename=headfile_name,\n",
    ")"
   ]
  },
  {
   "cell_type": "code",
   "execution_count": 27,
   "id": "588829d2",
   "metadata": {},
   "outputs": [],
   "source": [
    "mp7_bas = flopy.modpath.Modpath7Bas(mp7_sim, porosity=porosity)"
   ]
  },
  {
   "cell_type": "code",
   "execution_count": 28,
   "id": "291efdf6",
   "metadata": {},
   "outputs": [],
   "source": [
    "mp7 = flopy.modpath.Modpath7Sim(\n",
    "    mp7_sim,\n",
    "    simulationtype=\"combined\",\n",
    "    trackingdirection=\"backward\",\n",
    "    weaksinkoption=\"pass_through\",\n",
    "    weaksourceoption=\"pass_through\",\n",
    "    referencetime=0.0,\n",
    "    stoptimeoption=\"extend\",\n",
    "    timepointdata=[500, 1000.0],\n",
    "    particlegroups=[particle_group],\n",
    ")"
   ]
  },
  {
   "cell_type": "markdown",
   "id": "a8b9772c",
   "metadata": {},
   "source": [
    "Write and run the MP7 model."
   ]
  },
  {
   "cell_type": "code",
   "execution_count": 29,
   "id": "3cd7ca9b",
   "metadata": {},
   "outputs": [
    {
     "name": "stdout",
     "output_type": "stream",
     "text": [
      "FloPy is using the following executable to run the model: ../../../../../../../../opt/anaconda3/envs/geosci724/bin/mp7\n",
      "\n",
      "MODPATH Version 7.2.001   \n",
      "Program compiled Feb 14 2025 13:41:09 with GFORTRAN compiler (ver. 12.4.0)      \n",
      "\n",
      "\n",
      "Run particle tracking simulation ...\n",
      "Processing Time Step     1 Period     1.  Time =  1.00000E+03  Steady-state flow                                                    \n",
      "\n",
      "Particle Summary:\n",
      "         0 particles are pending release.\n",
      "         0 particles remain active.\n",
      "         0 particles terminated at boundary faces.\n",
      "         0 particles terminated at weak sink cells.\n",
      "         0 particles terminated at weak source cells.\n",
      "        27 particles terminated at strong source/sink cells.\n",
      "         0 particles terminated in cells with a specified zone number.\n",
      "         0 particles were stranded in inactive or dry cells.\n",
      "         0 particles were unreleased.\n",
      "         0 particles have an unknown status.\n",
      " \n",
      "Normal termination.                                                        \n"
     ]
    },
    {
     "data": {
      "text/plain": [
       "(True, [])"
      ]
     },
     "execution_count": 29,
     "metadata": {},
     "output_type": "execute_result"
    }
   ],
   "source": [
    "mp7_sim.write_input()\n",
    "mp7_sim.run_model(silent=False)"
   ]
  },
  {
   "cell_type": "markdown",
   "id": "90725c67",
   "metadata": {},
   "source": [
    "Load pathlines from the MP7 pathline output file."
   ]
  },
  {
   "cell_type": "code",
   "execution_count": 30,
   "id": "686689f1",
   "metadata": {},
   "outputs": [],
   "source": [
    "mp7_pathline_file = flopy.utils.PathlineFile(mp7_ws / f\"{mp7_name}.mppth\")\n",
    "mp7_pathlines = pd.DataFrame(\n",
    "    mp7_pathline_file.get_destination_pathline_data(\n",
    "        list(range(gwf.modelgrid.nnodes)), to_recarray=True\n",
    "    )\n",
    ")"
   ]
  },
  {
   "cell_type": "markdown",
   "id": "c889758c",
   "metadata": {},
   "source": [
    "Plot MP7 pathlines in plan view."
   ]
  },
  {
   "cell_type": "code",
   "execution_count": 31,
   "id": "22d8cc25",
   "metadata": {},
   "outputs": [
    {
     "data": {
      "image/png": "[encoded data removed]",
      "text/plain": [
       "<Figure size 500x500 with 2 Axes>"
      ]
     },
     "metadata": {},
     "output_type": "display_data"
    }
   ],
   "source": [
    "fig = plt.figure(figsize=(5, 5))\n",
    "fig.tight_layout()\n",
    "ax = fig.add_subplot(1, 1, 1, aspect=\"equal\")\n",
    "mm = flopy.plot.PlotMapView(gwf, ax=ax, layer=2)\n",
    "mm.plot_grid(alpha=0.25)\n",
    "mm.plot_bc(\"WEL\", plotAll=True, color=\"red\")\n",
    "mm.plot_bc(\"RIV\", plotAll=True, color=\"teal\")\n",
    "pc = mm.plot_array(hds[:, 0, :], edgecolor=\"black\", alpha=0.5)\n",
    "cb = plt.colorbar(pc, shrink=0.25, pad=0.1)\n",
    "cb.ax.set_xlabel(r\"Head ($ft$)\")\n",
    "mm.plot_pathline(mp7_pathlines, layer=\"all\")\n",
    "plt.show()"
   ]
  },
  {
   "cell_type": "markdown",
   "id": "4d3f6295",
   "metadata": {},
   "source": [
    "Next we can create a 3D pathline plot. The first step is to export results to VTK and convert them to PyVista meshes."
   ]
  }
 ],
 "metadata": {
  "jupytext": {
   "cell_metadata_filter": "-all",
   "main_language": "python",
   "notebook_metadata_filter": "-all"
  },
  "kernelspec": {
   "display_name": "Python 3 (ipykernel)",
   "language": "python",
   "name": "python3"
  },
  "language_info": {
   "codemirror_mode": {
    "name": "ipython",
    "version": 3
   },
   "file_extension": ".py",
   "mimetype": "text/x-python",
   "name": "python",
   "nbconvert_exporter": "python",
   "pygments_lexer": "ipython3",
   "version": "3.9.20"
  }
 },
 "nbformat": 4,
 "nbformat_minor": 5
}
