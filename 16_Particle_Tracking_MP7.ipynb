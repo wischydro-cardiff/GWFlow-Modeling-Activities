{
 "cells": [
  {
   "cell_type": "markdown",
   "id": "d533c6ca-89af-4a50-8454-110a03f49a52",
   "metadata": {},
   "source": [
    "# Particle tracking with MODFLOW 6 and MODPATH 7"
   ]
  },
  {
   "cell_type": "markdown",
   "id": "99ea044d-3f4e-45bc-92f8-3728371a46e9",
   "metadata": {},
   "source": [
    "A model is \"solved\" once convergence is achieved for steady state or transient head values. As we've seen in the class so far, this means we can create outputs that show changes in head over time at points in space or throughout the model domain.\n",
    "\n",
    "Often, however, the prediction of interest for a model is something different than head values at a point in space. For example, we may want to know how quickly a lake is losing water to pumping, and how that changes as pumping rates change. Or, we may want to understand the source for water entering a particular region (such as the source of water entering a well).\n",
    "\n",
    "Thes notebook demonstrates particle tracking with MODFLOW 6 using the associated particle tracking code MODPATH 7. This problem is lightly edited from an example in the MODPATH 7 user guide examples\n",
    "document ([Pollock, 2016](http://dx.doi.org/10.3133/ofr20161086)).\n",
    "\n",
    "The flow system consists of two aquifers with a low conductivity\n",
    "confining layer in between. The model grid is roughly square. There is\n",
    "a quad-refined region around a central well and a river runs along the\n",
    "grid's eastern boundary.\n",
    "\n",
    "Particles are released from the inside of the cell containing the well and tracked\n",
    "backwards to recharge points at the water table.\n",
    "\n",
    "\n",
    "**Notes**:\n",
    "The codes that can be used for particle tracking are in a bit of \"flux\" (pun intended), with new capabilities for MODFLOW 6 actively being developed. The following provides some guidelines on how to handle particle tracking with current and historical models:\n",
    "\n",
    "* MODFLOW-2005: Users of MODFLOW-2005 must use MODPATH 6, with associated functions found under `flopy.modpath.mp6`.\n",
    "* MODFLOW 6:\n",
    "   * For rectangular / plaid grids or quadtree grids, MODPATH 7 can be used.\n",
    "   * For more unstructured grids, the MODFLOW 6 PRT (Particle tracking) provides a more flexible method for particle tracking. However, note that this was only recently released (May 23, 2024), and the most recent release of MODFLOW 6 version 6.6 indicates that [there are many bugs still being squashed](https://water.usgs.gov/water-resources/software/MODFLOW-6/release_6.6.0.pdf)\n",
    "\n",
    "This notebook was started from a version of the [2024 MODFLOW training notebooks](https://github.com/christianlangevin/modflow-training-princeton2024/tree/main/examples/notebooks) offered by Christian Langevin."
   ]
  },
  {
   "cell_type": "markdown",
   "id": "ff4bcacf-c1f7-4517-8951-b1745816699d",
   "metadata": {},
   "source": [
    "## Learning Objectives"
   ]
  },
  {
   "cell_type": "markdown",
   "id": "9178e29d-4ce7-49d7-ab3a-88b579b2397a",
   "metadata": {},
   "source": [
    "After you have read and run this notebook, you should be able to:\n",
    "* Setup MODPATH 7 to run using the results from a MODFLOW 6 model\n",
    "* Define options for particle tracking including particle release locations, particle travel directions, and MODPATH output"
   ]
  },
  {
   "cell_type": "markdown",
   "id": "1cb91de0-4517-4a9e-aeb1-91f8cbe5072d",
   "metadata": {},
   "source": [
    "## Initial Setup"
   ]
  },
  {
   "cell_type": "markdown",
   "id": "c687cbd8-80b6-425b-b86d-b64985f22b1c",
   "metadata": {},
   "source": [
    "As usual, we will import all necessary packages used in this workbook first."
   ]
  },
  {
   "cell_type": "code",
   "execution_count": null,
   "id": "2a713063",
   "metadata": {},
   "outputs": [],
   "source": [
    "#Note - Pathlib is an alternative to os.path\n",
    "import pathlib as pl\n",
    "\n",
    "import flopy\n",
    "import matplotlib as mpl\n",
    "import matplotlib.pyplot as plt\n",
    "import numpy as np\n",
    "\n",
    "import pandas as pd\n",
    "\n",
    "from flopy.utils.gridgen import Gridgen\n",
    "from flopy.utils.gridintersect import GridIntersect\n",
    "from flopy.discretization import VertexGrid\n",
    "import flopy.discretization as fpd\n",
    "from flopy.utils.triangle import Triangle as Triangle\n",
    "from flopy.utils.voronoi import VoronoiGrid\n",
    "from shapely.geometry import LineString, Point, MultiPoint, Polygon\n",
    "from matplotlib import colormaps as cm\n",
    "\n",
    "#Define the base workspace where output will be generated\n",
    "example_name = \"tracking\"\n",
    "base_ws = pl.Path(\"nboutput\") / example_name"
   ]
  },
  {
   "cell_type": "markdown",
   "id": "a0bacc71-982b-4ab9-9634-74c59d2bfba6",
   "metadata": {},
   "source": [
    "## 1. Setup of Base grid & Quadtree refinement"
   ]
  },
  {
   "cell_type": "markdown",
   "id": "43005428-743f-4d97-8f9f-63b05bf3ad3c",
   "metadata": {},
   "source": [
    "Our first step is to create a quad-refined grid. For this we will use the [GRIDGEN](https://www.usgs.gov/software/gridgen-program-generating-unstructured-finite-volume-grids) program.\n",
    "\n",
    "The grid will have 3 refinement levels. First we create a regular structured grid discretization to use as a base for refinement."
   ]
  },
  {
   "cell_type": "code",
   "execution_count": null,
   "id": "6b3255dd-2172-4797-b4b8-1765b21676a0",
   "metadata": {},
   "outputs": [],
   "source": [
    "#1A - Setup Base Grid\n",
    "\n",
    "#Model Properties\n",
    "length_units = \"feet\"\n",
    "time_units = \"days\"\n",
    "\n",
    "# Base grid properties\n",
    "Lx = 10000.0\n",
    "Ly = 10500.0\n",
    "nlay = 3\n",
    "nrow = 21\n",
    "ncol = 20\n",
    "delr_reg = Lx / ncol*np.ones((ncol))\n",
    "delc_reg = Ly / nrow*np.ones((nrow))\n",
    "top_reg = 400*np.ones((nrow, ncol))\n",
    "botm_reg = np.stack((220*np.ones((nrow,ncol)), 200*np.ones((nrow,ncol)), 0*np.ones((nrow,ncol))),0)\n",
    "\n",
    "# Create an initial regularly-discretized grid as a modelgrid object\n",
    "modelgrid_reg = fpd.StructuredGrid(\n",
    "    delc=delc_reg,\n",
    "    delr=delr_reg,\n",
    "    nrow=nrow,\n",
    "    ncol=ncol,\n",
    "    nlay=nlay,\n",
    "    top=top_reg,\n",
    "    botm=botm_reg,\n",
    ")"
   ]
  },
  {
   "cell_type": "code",
   "execution_count": null,
   "id": "98e6ed8d-955f-45e9-9290-ece2295cad53",
   "metadata": {},
   "outputs": [],
   "source": [
    "#1B - Create refined modelgrid with quadtree\n",
    "\n",
    "# Create gridgen workspace and object\n",
    "gridgen_ws = base_ws / \"gridgen\"\n",
    "gridgen_ws.mkdir(parents=True, exist_ok=True)\n",
    "gridgen = Gridgen(modelgrid_reg, model_ws=gridgen_ws)\n",
    "\n",
    "# Define refinement polygons\n",
    "ref_polys = [\n",
    "    [[(3500, 4000), (3500, 6500), (6000, 6500), (6000, 4000), (3500, 4000)]],  # outer\n",
    "    [[(4000, 4500), (4000, 6000), (5500, 6000), (5500, 4500), (4000, 4500)]],  # middle\n",
    "    [[(4500, 5000), (4500, 5500), (5000, 5500), (5000, 5000), (4500, 5000)]],  # inner\n",
    "]\n",
    "\n",
    "#Go through in order -- each level is a lower level of refinement.\n",
    "for i, poly in enumerate(ref_polys):\n",
    "    gridgen.add_refinement_features([poly], \"polygon\", i + 1, range(nlay))\n",
    "\n",
    "# Build the refined grid and plot it\n",
    "gridgen.build(verbose=False)\n",
    "grid_props = gridgen.get_gridprops_vertexgrid()\n",
    "disv_props = gridgen.get_gridprops_disv()\n",
    "grid = flopy.discretization.VertexGrid(**grid_props)\n",
    "grid.plot()\n",
    "\n",
    "# Extract refined grid properties as later needed inputs\n",
    "ncpl = disv_props[\"ncpl\"]\n",
    "top = disv_props[\"top\"]\n",
    "botm = disv_props[\"botm\"]\n",
    "nvert = disv_props[\"nvert\"]\n",
    "vertices = disv_props[\"vertices\"]\n",
    "cell2d = disv_props[\"cell2d\"]"
   ]
  },
  {
   "cell_type": "markdown",
   "id": "ff7215ad-bdfb-43c9-8d13-2c0732724668",
   "metadata": {},
   "source": [
    "## 2. Define the setup and stresses for the groundwater flow model"
   ]
  },
  {
   "cell_type": "markdown",
   "id": "b64f385f-31e9-48bd-8704-d4bed350437b",
   "metadata": {},
   "source": [
    "We are ready to create the groundwater flow model. First, we define the model name, workspace, units, and parameters associated with stress packages and time stepping. The River and Well package values are defined as grid-independent so that the properties can be mapped onto the appropriate grid square"
   ]
  },
  {
   "cell_type": "code",
   "execution_count": null,
   "id": "a7470ba5-2443-49f1-afeb-2f3936900ca3",
   "metadata": {},
   "outputs": [],
   "source": [
    "#Define the model name and workspace.\n",
    "gwf_name = f\"{example_name}-gwf\"\n",
    "gwf_ws = base_ws / \"gwf\"\n",
    "gwf_ws.mkdir(exist_ok=True, parents=True)\n",
    "\n",
    "#Stress package properties and geometry\n",
    "rrch = 0.005  # Recharge rate ($ft/d$)\n",
    "kh = [50.0, 0.01, 200.0]  # Horizontal hydraulic conductivity ($ft/d$)\n",
    "kv = [10.0, 0.01, 20.0]  # Vertical hydraulic conductivity ($ft/d$)\n",
    "\n",
    "wel_coords = [(4718.45, 5281.25)]\n",
    "wel_layer = 2\n",
    "wel_q = -150000.0  # Well pumping rate ($ft^3/d$)\n",
    "\n",
    "riv_h = 320.0  # River stage ($ft$)\n",
    "riv_z = 317.0  # River bottom ($ft$)\n",
    "riv_c = 1.0e5  # River conductance ($ft^2/d$)\n",
    "riv_layer = 0\n",
    "riverline = [(Lx - 1.0, Ly), (Lx - 1.0, 0.0)]\n",
    "porosity = 0.1  # Soil porosity (unitless)\n",
    "\n",
    "#Define the time discretization\n",
    "nstp = 1\n",
    "perlen = 1000.0\n",
    "tsmult = 1.0\n",
    "tdis_rc = [(perlen, nstp, tsmult)]"
   ]
  },
  {
   "cell_type": "markdown",
   "id": "b0f1832f",
   "metadata": {},
   "source": [
    "As usual, we first populate all the required packages for a MODFLOW 6 model, which includes:\n",
    "* The SIMulation level information\n",
    "* The model solver (IMS) parameters\n",
    "* The model(s) solved within the simulation (this time, a single GWF package)\n",
    "* The TDIS (Time discretization) package\n",
    "* The discretization (DISV, in this case)\n",
    "* The initial conditions (IC)\n",
    "* The aquifer properties (NPF)"
   ]
  },
  {
   "cell_type": "code",
   "execution_count": null,
   "id": "6722238f",
   "metadata": {},
   "outputs": [],
   "source": [
    "sim = flopy.mf6.MFSimulation(\n",
    "    sim_name=gwf_name, \n",
    "    exe_name=\"mf6\", \n",
    "    version=\"mf6\", \n",
    "    sim_ws=gwf_ws\n",
    ")\n",
    "tdis = flopy.mf6.ModflowTdis(\n",
    "    sim, \n",
    "    time_units=time_units, \n",
    "    perioddata=tdis_rc, \n",
    "    nper=len(tdis_rc)\n",
    ")\n",
    "\n",
    "# Create the iterative model solution (IMS) package and register it with the model.\n",
    "ims = flopy.mf6.ModflowIms(\n",
    "    sim,\n",
    "    outer_dvclose=1.0e-5,\n",
    "    outer_maximum=100,\n",
    "    under_relaxation=\"NONE\",\n",
    "    inner_maximum=100,\n",
    "    inner_dvclose=1.0e-6,\n",
    "    rcloserecord=0.1,\n",
    "    linear_acceleration=\"BICGSTAB\",\n",
    "    scaling_method=\"NONE\",\n",
    "    reordering_method=\"NONE\",\n",
    "    relaxation_factor=0.99,\n",
    ")\n",
    "\n",
    "gwf = flopy.mf6.ModflowGwf(\n",
    "    sim, \n",
    "    modelname=gwf_name, \n",
    "    model_nam_file=\"{}.nam\".format(gwf_name)\n",
    ")\n",
    "gwf.name_file.save_flows = True\n",
    "\n",
    "disv = flopy.mf6.ModflowGwfdisv(\n",
    "    gwf,\n",
    "    length_units=length_units,\n",
    "    **disv_props,  # from grid refinement above\n",
    ")\n",
    "ic = flopy.mf6.ModflowGwfic(\n",
    "    gwf, \n",
    "    strt=riv_h)  # initial head throughout the model is set at the river stage value\n",
    "\n",
    "npf = flopy.mf6.ModflowGwfnpf(\n",
    "    gwf,\n",
    "    xt3doptions=[(\"xt3d\")],\n",
    "    icelltype=[1, 0, 0],\n",
    "    k=kh,\n",
    "    k33=kv,\n",
    "    save_saturation=True,\n",
    "    save_specific_discharge=True,\n",
    ")\n",
    "\n",
    "headfile_name = \"{}.hds\".format(gwf_name)\n",
    "budgetfile_name = \"{}.cbb\".format(gwf_name)\n",
    "oc = flopy.mf6.ModflowGwfoc(\n",
    "    gwf,\n",
    "    budget_filerecord=[budgetfile_name],\n",
    "    head_filerecord=[headfile_name],\n",
    "    headprintrecord=[(\"COLUMNS\", 10, \"WIDTH\", 15, \"DIGITS\", 6, \"GENERAL\")],\n",
    "    saverecord=[(\"HEAD\", \"ALL\"), (\"BUDGET\", \"ALL\")],\n",
    "    printrecord=[(\"HEAD\", \"ALL\"), (\"BUDGET\", \"ALL\")],\n",
    ")\n",
    "\n",
    "sim.register_ims_package(ims, [gwf.name])\n"
   ]
  },
  {
   "cell_type": "markdown",
   "id": "425abb7f",
   "metadata": {},
   "source": [
    "Next, we map the model boundary conditions onto the grid using `intersects` functionality for the River and Well packages. Recharge is assumed constant over the grid"
   ]
  },
  {
   "cell_type": "code",
   "execution_count": null,
   "id": "3bcd74c1-66ba-46e1-938f-2db6cda48411",
   "metadata": {},
   "outputs": [],
   "source": [
    "# Create intersection utility\n",
    "ix = GridIntersect(gwf.modelgrid, method=\"vertex\", rtree=True)\n",
    "\n",
    "#Intersect the well coordinates with the model grid.\n",
    "welcells = ix.intersects(MultiPoint(wel_coords))\n",
    "welcells = [icpl for (icpl,) in welcells]\n",
    "welspd = [[(wel_layer, icpl), wel_q] for icpl in welcells]\n",
    "\n",
    "wel = flopy.mf6.ModflowGwfwel(\n",
    "    gwf, \n",
    "    print_input=True, \n",
    "    stress_period_data=welspd\n",
    ")\n",
    "\n",
    "# Intersect the well line with the model grid.\n",
    "rivcells = ix.intersects(LineString(riverline))\n",
    "rivcells = rivcells.cellids.tolist()\n",
    "rivspd = [\n",
    "    [(riv_layer, icpl), riv_h, riv_c, riv_z] for icpl in rivcells\n",
    "]\n",
    "\n",
    "riv = flopy.mf6.ModflowGwfriv(\n",
    "    gwf, \n",
    "    stress_period_data=rivspd\n",
    ")\n",
    "\n",
    "# Create the recharge package\n",
    "rch = flopy.mf6.ModflowGwfrcha(\n",
    "    gwf,\n",
    "    recharge=rrch,\n",
    ")"
   ]
  },
  {
   "cell_type": "markdown",
   "id": "7d246838-674b-4841-902a-4d7f0144c305",
   "metadata": {},
   "source": [
    "## Step 3: Run MODFLOW"
   ]
  },
  {
   "cell_type": "markdown",
   "id": "c9b3d18a-f270-4a55-afd6-d92c4a4a9bae",
   "metadata": {},
   "source": [
    "Next, we run the modflow simulation to generate head and flux data"
   ]
  },
  {
   "cell_type": "code",
   "execution_count": null,
   "id": "37fa63c5",
   "metadata": {},
   "outputs": [],
   "source": [
    "sim.write_simulation(silent=False)\n",
    "sim.run_simulation(silent=False)"
   ]
  },
  {
   "cell_type": "markdown",
   "id": "6c605242-1bb1-4be6-9cc4-0254bba4a34a",
   "metadata": {},
   "source": [
    "## 4. Check the MODFLOW results"
   ]
  },
  {
   "cell_type": "markdown",
   "id": "61eb5a3d-15cc-48f5-9f58-06c6b318e351",
   "metadata": {},
   "source": [
    "Before going further, it is a good idea to ensure that the head data seems reasonable, i.e., verifying:\n",
    "* Stresses are setup correctly\n",
    "* The model appears to have converged"
   ]
  },
  {
   "cell_type": "code",
   "execution_count": null,
   "id": "728749db-4845-4283-9e98-1c55621bcf8d",
   "metadata": {},
   "outputs": [],
   "source": [
    "#Plot A map-view map including heads, boundary conditions.\n",
    "\n",
    "hds = gwf.output.head().get_data()\n",
    "\n",
    "fig = plt.figure(figsize=(12, 12))\n",
    "fig.tight_layout()\n",
    "ax = fig.add_subplot(1, 1, 1, aspect=\"equal\")\n",
    "mm = flopy.plot.PlotMapView(gwf, ax=ax, layer=2)\n",
    "mm.plot_grid(alpha=0.25)\n",
    "mm.plot_bc(\"WEL\", plotAll=True, color=\"red\")\n",
    "mm.plot_bc(\"RIV\", plotAll=True, color=\"teal\")\n",
    "pc = mm.plot_array(hds[:, 0, :], edgecolor=\"black\", alpha=0.5)\n",
    "cb = plt.colorbar(pc, shrink=0.25, pad=0.1)\n",
    "cb.ax.set_xlabel(r\"Head ($ft$)\")\n",
    "plt.show()"
   ]
  },
  {
   "cell_type": "markdown",
   "id": "6e3df5ea",
   "metadata": {},
   "source": [
    "## 5. Setup MODPATH inputs\n",
    "\n",
    "Next, we can create a MODPATH 7 particle tracking model using the flow model we just created. \n",
    "\n",
    "The key inputs for MODFLOW 7 are entered in packages, similar to MODFLOW:\n",
    "* MODPATH 7 BAS Package: defines necessary parameters for simulating transport beyond those provided in MODFLOW. Porosity is the key parameter needed here\n",
    "* MODPATH 7 SIMulation-level information: This includes information about where particles start, which direction you would like to track particles (forwards or backwards), how long you would like to track particles, and how you would like results to be output \n"
   ]
  },
  {
   "cell_type": "code",
   "execution_count": null,
   "id": "d06c473c-1293-4975-b09e-829cfc0a5556",
   "metadata": {},
   "outputs": [],
   "source": [
    "#5A - Define name and workspace where all modpath files will be stored, as well as where to pull flux and head data from.\n",
    "mp7_name = f\"{example_name}-mp7\"\n",
    "mp7_ws = base_ws / \"mp7\"\n",
    "mp7_ws.mkdir(exist_ok=True, parents=True)\n",
    "\n",
    "mp7_sim = flopy.modpath.Modpath7(\n",
    "    modelname=mp7_name,\n",
    "    flowmodel=gwf,\n",
    "    exe_name=\"mp7\",\n",
    "    model_ws=mp7_ws,\n",
    "    budgetfilename=budgetfile_name,\n",
    "    headfilename=headfile_name,\n",
    ")"
   ]
  },
  {
   "cell_type": "code",
   "execution_count": null,
   "id": "48ce9a9c-acca-4b45-944d-5eae68f7d609",
   "metadata": {},
   "outputs": [],
   "source": [
    "#5B Define the package inputs for MODPATH, in the BAS and SIM file.\n",
    "\n",
    "mp7_bas = flopy.modpath.Modpath7Bas(mp7_sim, porosity=porosity)\n",
    "\n",
    "#Setup the starting locations of particles. \n",
    "#For MODPATH 7, we must provide the model cell (node) from which particles will be released, as well as subdivision data on \n",
    "#where particles will be released within each node. The default is to release 27 particles per node in a 3 x 3 x 3\n",
    "#grid inside each model cell\n",
    "particle_data = flopy.modpath.NodeParticleData(\n",
    "    nodes=ncpl * wel_layer + welcells[0],\n",
    "    subdivisiondata=None\n",
    ")\n",
    "\n",
    "#Particles must be assigned to a particle group. This allows features such as tracking well capture percentages.\n",
    "particle_group = flopy.modpath.ParticleGroupNodeTemplate(\n",
    "    particlegroupname=\"PG\",\n",
    "    particledata=particle_data,\n",
    "    filename=\"pg.sloc\",\n",
    ")\n",
    "\n",
    "mp7 = flopy.modpath.Modpath7Sim(\n",
    "    mp7_sim,\n",
    "    simulationtype=\"combined\",\n",
    "    trackingdirection=\"backward\",\n",
    "    weaksinkoption=\"pass_through\",\n",
    "    weaksourceoption=\"pass_through\",\n",
    "    referencetime=0.0,\n",
    "    stoptimeoption=\"extend\",\n",
    "    timepointdata=[500, 1000.0],\n",
    "    particlegroups=[particle_group],\n",
    ")"
   ]
  },
  {
   "cell_type": "markdown",
   "id": "a8b9772c",
   "metadata": {},
   "source": [
    "## 6. Write and run the MP7 model."
   ]
  },
  {
   "cell_type": "code",
   "execution_count": null,
   "id": "3cd7ca9b",
   "metadata": {},
   "outputs": [],
   "source": [
    "mp7_sim.write_input()\n",
    "mp7_sim.run_model(silent=False)"
   ]
  },
  {
   "cell_type": "markdown",
   "id": "87e0d4ae-f83d-4af9-8532-29240a43c4fc",
   "metadata": {},
   "source": [
    "## 8. Visualize MODPATH Outputs using the Pathline and Timeseries files"
   ]
  },
  {
   "cell_type": "markdown",
   "id": "4092a7a2-87f4-491f-8691-2e5f98bf8006",
   "metadata": {},
   "source": [
    "MODPATH Produces two types of outputs that are different mainly in the efficiency of accessing them:\n",
    "* Pathline files contain the location of the particle at every step during the numerical simulation. It is organized by particle, so the full path of any individual particle can be plotted easily.\n",
    "* Timeseries files contain the location of all particles at a series of time snapshots, specified by the user. It is organized by time, so the location of all particles at a given time can be plotted easily."
   ]
  },
  {
   "cell_type": "code",
   "execution_count": null,
   "id": "686689f1",
   "metadata": {},
   "outputs": [],
   "source": [
    "mp7_pathline_file = flopy.utils.PathlineFile(mp7_ws / f\"{mp7_name}.mppth\")\n",
    "\n",
    "mp7_pathlines = mp7_pathline_file.get_alldata()\n",
    "#TRY THIS:\n",
    "#mp7_pathlines = mp7_pathline_file.get_alldata(totim=1000,ge=False)"
   ]
  },
  {
   "cell_type": "code",
   "execution_count": null,
   "id": "22d8cc25",
   "metadata": {},
   "outputs": [],
   "source": [
    "fig = plt.figure(figsize=(8, 8))\n",
    "fig.tight_layout()\n",
    "ax2 = fig.add_subplot(1, 1, 1, aspect=\"equal\")\n",
    "mm = flopy.plot.PlotMapView(gwf, ax=ax2, layer=2)\n",
    "mm.plot_grid(alpha=0.25)\n",
    "mm.plot_bc(\"WEL\", plotAll=True, color=\"red\")\n",
    "mm.plot_bc(\"RIV\", plotAll=True, color=\"teal\")\n",
    "pc = mm.plot_array(hds[:, 0, :], edgecolor=\"black\", alpha=0.5)\n",
    "cb = plt.colorbar(pc, shrink=0.25, pad=0.1)\n",
    "cb.ax.set_xlabel(r\"Head ($ft$)\")\n",
    "mm.plot_pathline(mp7_pathlines, layer=\"all\")\n",
    "plt.show()"
   ]
  },
  {
   "cell_type": "code",
   "execution_count": null,
   "id": "3e229462-fc95-41e6-a312-b23cc8fea5c0",
   "metadata": {},
   "outputs": [],
   "source": [
    "fpth = mp7_ws / f\"{mp7_name}.timeseries\"\n",
    "ts = flopy.utils.TimeseriesFile(fpth)\n",
    "#TRY THIS: Look at other things you can pull out of the timeseries data with ts.get_....\n",
    "ts0 = ts.get_alldata()\n",
    "\n",
    "fpth = mp7_ws / f\"{mp7_name}.mppth\"\n",
    "p = flopy.utils.PathlineFile(fpth)\n",
    "#TRY THIS: Look at other things you can pull out of the pathline data with p0.get_....\n",
    "p0 = p.get_alldata()\n",
    "\n",
    "fig = plt.figure(figsize=(8, 8), constrained_layout=True)\n",
    "ax = fig.add_subplot(1, 1, 1, aspect=\"equal\")\n",
    "mm = flopy.plot.PlotMapView(gwf, ax=ax)\n",
    "ax.set_xlim(0, Lx)\n",
    "ax.set_ylim(0, Ly)\n",
    "\n",
    "mm.plot_pathline(p0, layer=\"all\", colors=\"blue\", lw=0.75)\n",
    "colors = [\"green\", \"orange\", \"red\"]\n",
    "for k in range(nlay):\n",
    "    mm.plot_timeseries(ts0, layer=k, marker=\"o\", lw=0, color=colors[k])"
   ]
  },
  {
   "cell_type": "code",
   "execution_count": null,
   "id": "a7336ee4-b2cf-4d08-99fb-87aac787c277",
   "metadata": {},
   "outputs": [],
   "source": [
    "#FOR THE FUTURE: Cross-section pathlines look very strange!\n",
    "# fig = plt.figure(figsize=(6, 6))\n",
    "# ax2 = fig.add_subplot(1, 1, 1, aspect=20)\n",
    "# cm = flopy.plot.PlotCrossSection(model=gwf, ax=ax2,line={\"line\": ((0,5000),(10000,5000))})\n",
    "# cm.plot_pathline(mp7_pathlines,method=\"all\")\n",
    "# cm.plot_"
   ]
  }
 ],
 "metadata": {
  "jupytext": {
   "cell_metadata_filter": "-all",
   "main_language": "python",
   "notebook_metadata_filter": "-all"
  },
  "kernelspec": {
   "display_name": "Python 3 (ipykernel)",
   "language": "python",
   "name": "python3"
  },
  "language_info": {
   "codemirror_mode": {
    "name": "ipython",
    "version": 3
   },
   "file_extension": ".py",
   "mimetype": "text/x-python",
   "name": "python",
   "nbconvert_exporter": "python",
   "pygments_lexer": "ipython3",
   "version": "3.9.20"
  }
 },
 "nbformat": 4,
 "nbformat_minor": 5
}
