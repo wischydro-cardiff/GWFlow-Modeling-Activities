{
 "cells": [
  {
   "cell_type": "markdown",
   "id": "49836592-006b-4bdd-9698-72c1f28738ec",
   "metadata": {
    "editable": true,
    "slideshow": {
     "slide_type": ""
    },
    "tags": []
   },
   "source": [
    "# Pre-MODFLOW6 modeling with FloPy (Steady State)"
   ]
  },
  {
   "cell_type": "markdown",
   "id": "0cf1711c-7aef-4637-bdc9-8968b79fa84c",
   "metadata": {},
   "source": [
    "In this notebook, we will introduce the modularization concepts of MODFLOW (Pre-MODFLOW6) and demonstrate how the FloPy interface can be used to create, run, and visualize results from a basic model. In the process, we'll discuss common problems that can be introduced when designing models and how to avoid them through both visualization and error-checking routines in FloPy.\n",
    "\n",
    "As described earlier, MODFLOW 6 represents a major paradigm shift in model creation, input / output file structure, and model execution. Current development efforts in FloPy are also more highly focused on interaction with MODFLOW 6 models, and you will notice differencese between the way FloPy interacts with MODFLOW 6 models vs. Pre-MODFLOW6 models. You will probably find that you enjoy working with FloPy more when working on MODFLOW 6 models. And when developing new models, the capabilities of MODFLOW 6 are much more flexible than prior MODFLOW versions. \n",
    "\n",
    "So why the heck should we learn about pre-MODFLOW 6 modeling and FloPy's interfaces for these?!? **Because the majority of existing MODFLOW models (and therefore many you will encounter) are written in MODFLOW-2005 / MODFLOW-NWT or prior versions.** Therefore, understanding the structure of these models and their use is crucial to working with most existing models. Being able to use FloPy on pre-MODFLOW6 models also allows you to \"upgrade\" these models to newer MODFLOW versions.\n"
   ]
  },
  {
   "cell_type": "markdown",
   "id": "8b60d3e9-9a6e-4bce-968d-a786616ac605",
   "metadata": {},
   "source": [
    "## Learning Objectives"
   ]
  },
  {
   "cell_type": "markdown",
   "id": "9dc27b78-cf03-442b-9220-5db2ccac563d",
   "metadata": {
    "editable": true,
    "slideshow": {
     "slide_type": ""
    },
    "tags": []
   },
   "source": [
    "After you have read and run this notebook, you should be able to:\n",
    "* Describe the modular structure used in MODFLOW-2005 / MODFLOW-NWT and prior versions (i.e., Pre-MODFLOW6), and the necessary inputs to create a well-defined steady-state model.\n",
    "* Apply FloPy utilities to visualize, debug, and verify Pre-MODFLOW6 model inputs.\n",
    "* Create a complete set of input files needed for a Pre-MODFLOW6 model to run successfully.\n",
    "* Use data extraction and post-processing routines to visualize model results and apply \"hydrosense\""
   ]
  },
  {
   "cell_type": "markdown",
   "id": "1e12cf81-281d-4df3-905a-aef1f2f45cbd",
   "metadata": {},
   "source": [
    "## Initial Setup"
   ]
  },
  {
   "cell_type": "markdown",
   "id": "135979fc-f87b-4598-81a9-7c9a5fa1afd7",
   "metadata": {},
   "source": [
    "For this notebook, we will import flopy and also define shortcuts to the `flopy.discretization` module as `fpd`.\n",
    "\n",
    "To simplify plotting later in the notebook, we also define a function `combined_gridplot` which produces both a cross-section and map view of the model area, similar to what is viewable in Groundwater Vistas. The function returns handles to the figure object, subplot axes objects, and graphics objects so that you can further modify the plots with later commands. As you go through the class, you may consider using `combined_gridplot` as a template to build more sophisticated visualizations of your model grid."
   ]
  },
  {
   "cell_type": "code",
   "execution_count": 1,
   "id": "15087d35-d95f-4112-8fc5-1a8b99d8fa01",
   "metadata": {},
   "outputs": [],
   "source": [
    "import flopy\n",
    "import flopy.utils as fpu\n",
    "import flopy.discretization as fpd\n",
    "\n",
    "#TODO: I'd prefer not to do this. Why doesn't explicit work?\n",
    "from flopy.utils.triangle import Triangle\n",
    "from flopy.utils.voronoi import VoronoiGrid\n",
    "from flopy.utils.gridgen import Gridgen\n",
    "\n",
    "import numpy as np\n",
    "import matplotlib.pyplot as plt\n",
    "import os\n",
    "\n",
    "# Here is a starter function that you may modify in order to build your own useful utilities for working\n",
    "# with FloPy\n",
    "def combined_gridplot(modelgrid_in,cross_type=\"row\", cross_num=0,vert_exag=1):\n",
    "    fig, axs = plt.subplots(nrows=2,ncols=1,figsize=(5,5),height_ratios=[0.2,1])\n",
    "\n",
    "    try:\n",
    "        axs[0].set_aspect(vert_exag)\n",
    "        pcr = flopy.plot.PlotCrossSection(modelgrid=modelgrid_in, ax=axs[0], line={cross_type: cross_num}, geographic_coords=True)\n",
    "        pcr.plot_grid(lw=0.5)\n",
    "        if cross_type==\"row\":\n",
    "            axs[0].set_xlabel('x')\n",
    "        elif cross_type==\"column\":\n",
    "            axs[0].set_xlabel('y')\n",
    "        axs[0].set_ylabel('z')\n",
    "        axs[0].set_title(f'Cross-section through {cross_type} {cross_num}, Vertical Exag = {vert_exag}')\n",
    "    except:\n",
    "        print('Cross-section could not be generated. Check inputs')\n",
    "        pcr = None\n",
    "    \n",
    "    axs[1].set_aspect(1)\n",
    "    pmv = flopy.plot.PlotMapView(modelgrid=modelgrid_in, ax=axs[1])\n",
    "    pmv.plot_grid(lw=0.5)\n",
    "    axs[1].set_xlabel('x')\n",
    "    axs[1].set_ylabel('y')\n",
    "    axs[1].set_title(modelgrid_in)\n",
    "    return fig, axs, [pcr, pmv]\n"
   ]
  },
  {
   "cell_type": "markdown",
   "id": "e66eab6a-adaa-4ea3-9758-8a0f841a1d13",
   "metadata": {},
   "source": [
    "# Building the model inputs with FloPy "
   ]
  },
  {
   "cell_type": "markdown",
   "id": "a778d1e3-460b-44fa-977e-d21cd22c1a9c",
   "metadata": {},
   "source": [
    "## Step 1: Creating the model object"
   ]
  },
  {
   "cell_type": "markdown",
   "id": "2f5ddbfe-1410-45e7-bf08-05d48a8a8b45",
   "metadata": {},
   "source": [
    "When you first create the `model` object, you supply FloPy with basic information including where you want the model files stored, where the MODFLOW executables can be found and, crucially, **what version of MODFLOW** you want this model to be. FloPy uses this information to tailor its model creation routines and error checking so that it is consistent with the needs of the given MODFLOW version."
   ]
  },
  {
   "cell_type": "code",
   "execution_count": 2,
   "id": "5c586b36-9f88-4fa3-8fdf-3b7d9003d6bd",
   "metadata": {},
   "outputs": [],
   "source": [
    "#We will put the model files in a subdirectory under our \"models\" directory.\n",
    "#The model_nm variable sets the filenames for all package inputs\n",
    "model_dir = os.path.join('.','models','mf2005init')\n",
    "model_nm = \"mf2005init\"\n",
    "#We also tell FloPy where to find the model executable, and what \n",
    "#version of MODFLOW we want to use.\n",
    "bin_dir = os.path.join('.','bin')\n",
    "mf_exec = 'mf2005'\n",
    "\n",
    "#STEP 1: CREATE THE MODEL OBJECT\n",
    "model = flopy.modflow.Modflow(\n",
    "    modelname=model_nm,\n",
    "    model_ws=model_dir,\n",
    "    exe_name=os.path.join(bin_dir,mf_exec),\n",
    "    version=mf_exec,\n",
    ")"
   ]
  },
  {
   "cell_type": "markdown",
   "id": "9e3a4ca4-708a-4730-bc45-fa829db56402",
   "metadata": {},
   "source": [
    "## Step 2: Building the grid"
   ]
  },
  {
   "cell_type": "markdown",
   "id": "d436a37d-9b05-45bf-a0d5-815cf507ee54",
   "metadata": {},
   "source": [
    "In pre-MODFLOW6 models, information for the following two packages are **required of all models**:\n",
    "* The **DIS (discretization) package** describes model spatial discretization and (if used) metadata that places the model within world coordinates. The DIS package also supplies the time discretization information. \n",
    "* The **BAS (basic) package** describes which model cells are active.\n",
    "\n",
    "Using `flopy.modflow.ModflowDis` and `flopy.modflow.ModflowBas`, you could directly supply the inputs required by these packages, but **this is strongly discouraged!**. \n",
    "\n",
    "Instead, FloPy's discretization module -- which we saw in the last notebook -- provides a consistent way to create and store information about Structured and Vertex-based Unstructured grids. **It is always a good idea** to therefore use `flopy.discretization` first to create a separate modelgrid object. With this approach, we can take advantage of unified plotting and error checking functionality before translating into what the DIS and BAS packages need.\n",
    "\n",
    "One example of the benefits of a `modelgrid` created by FloPy is that if you forget to supply an optional input (e.g., the `angrot` angle of rotation value), it will automatically be populated with a default value.\n",
    "\n",
    "When initializing each of the MODFLOW packages using FloPy, it is common to use this syntax:\n",
    "`dis = flopy.modflow.ModflowDis(model,...)`\n",
    "Please note that this accomplishes two things:\n",
    "1. It actually edits the `model` object to contain the new information for this package, and\n",
    "2. It creates a new object `dis` that only contains the subset of information in the DIS package\n",
    "\n",
    "Strictly speaking, objects like `dis` are unnecessary and can be deleted as soon as they are created, but they provide useful tools for error checking, as demonstrated below."
   ]
  },
  {
   "cell_type": "code",
   "execution_count": 3,
   "id": "b94b5438-ff9b-4246-bab7-27a98760870e",
   "metadata": {},
   "outputs": [
    {
     "name": "stdout",
     "output_type": "stream",
     "text": [
      "Grid Valid   :  True\n",
      "Grid Complete:  True\n"
     ]
    },
    {
     "data": {
      "image/png": "[encoded data removed]",
      "text/plain": [
       "<Figure size 500x500 with 2 Axes>"
      ]
     },
     "metadata": {},
     "output_type": "display_data"
    }
   ],
   "source": [
    "#STEP 2A: CREATE THE MODELGRID OBJECT\n",
    "\n",
    "#User definition of the grid boundaries and setup, from earlier.\n",
    "xb = np.concatenate((np.arange(2000,3200,200), \n",
    "                    np.arange(3200,3450,50), \n",
    "                    np.arange(3450,3650,20), \n",
    "                    np.arange(3650,3800,50),\n",
    "                    np.arange(3800,5000+.1,100)),0)\n",
    "yb = np.concatenate((np.arange(1500,3000,100),\n",
    "                     np.arange(3000,3300,50),\n",
    "                     np.arange(3300,3500,20),\n",
    "                     np.arange(3500,3700,50),\n",
    "                     np.arange(3700,4500+.1,200)),0)[::-1]\n",
    "xm = (xb[0:(len(xb)-1)] + xb[1:(len(xb))])/2\n",
    "ym = (yb[0:(len(yb)-1)] + yb[1:(len(yb))])/2\n",
    "xmg, ymg = np.meshgrid(xm,ym)\n",
    "\n",
    "#Define units for the numbers above\n",
    "units = 'm'\n",
    "\n",
    "#Define some sloping planes based on functions evaluated at cell center coordinates\n",
    "top = 50 - 0.0005*(xmg - 2000) + 0.001*(ymg - 1500)\n",
    "botmlay0 = 20 + 0.0005*(xmg - 2000) + 0.001*(ymg - 1500)\n",
    "botmlay1 = 19 - 0.0005*(xmg - 2000) - 0.001*(ymg - 1500)\n",
    "botmlay2 = 0 + 0.001*(xmg - 2000) + 0.001*(ymg - 1500)\n",
    "\n",
    "#Calculate the inputs, in MODFLOW / FloPy-speak\n",
    "#find lower-left x coordinate, and calculate step size, left to right\n",
    "xoff = xb[0]\n",
    "delr = np.diff(xb)\n",
    "ncol = delr.shape[0]\n",
    "#find lower-left coordinate, and calculate step size from top to bottom\n",
    "yoff = yb[-1]\n",
    "delc = -np.diff(yb)\n",
    "nrow = delc.shape[0]\n",
    "\n",
    "botm = np.stack((botmlay0,botmlay1, botmlay2),0)\n",
    "nlay = botm.shape[0]\n",
    "ibound = np.ones((nlay, nrow, ncol))\n",
    "\n",
    "modelgrid = fpd.StructuredGrid(\n",
    "    delc=delc,\n",
    "    delr=delr,\n",
    "    top=top,\n",
    "    botm=botm,\n",
    "    idomain=ibound,\n",
    "    xoff=xoff,\n",
    "    yoff=yoff,\n",
    "    lenuni=units,\n",
    "    angrot=0,\n",
    ")\n",
    "\n",
    "print('Grid Valid   : ',modelgrid.is_valid)\n",
    "print('Grid Complete: ',modelgrid.is_complete)\n",
    "\n",
    "#Plot using our built-in function\n",
    "fig, axs, plots = combined_gridplot(modelgrid,cross_type=\"row\",cross_num=5,vert_exag=20)"
   ]
  },
  {
   "cell_type": "code",
   "execution_count": 4,
   "id": "dfd1ca27-75f1-479b-bed9-35194e907309",
   "metadata": {},
   "outputs": [],
   "source": [
    "#STEP 2B: Populate the required DIS package and BAS based on the modelgrid object\n",
    "\n",
    "#Note: This code does TWO things:\n",
    "#1. It adds the new information to the model object\n",
    "#2. It creates a new object, dis, which only contains the discretization information\n",
    "dis = flopy.modflow.ModflowDis(\n",
    "    model,\n",
    "    nlay=modelgrid.nlay,\n",
    "    nrow=modelgrid.nrow,\n",
    "    ncol=modelgrid.ncol,\n",
    "    delr=modelgrid.delr,\n",
    "    delc=modelgrid.delc,\n",
    "    top=modelgrid.top,\n",
    "    botm=modelgrid.botm,\n",
    "    lenuni=modelgrid.lenuni,\n",
    "    xul=modelgrid.xyzextent[0],\n",
    "    yul=modelgrid.xyzextent[3],\n",
    "    rotation=modelgrid.angrot,\n",
    ")\n",
    "#You can either put \"dis\" in the trash, or you can use it to inspect this one aspect\n",
    "#of the model.\n",
    "#Examples commands: These can be used with all package objects\n",
    "#dis.plot()\n",
    "#dis.check()\n",
    "#print(dis.data_list)\n",
    "\n",
    "bas = flopy.modflow.ModflowBas(model, ibound=modelgrid.idomain, strt=50)\n"
   ]
  },
  {
   "cell_type": "markdown",
   "id": "8074bc86-91ca-4a85-8ee4-c0f6155eafac",
   "metadata": {
    "scrolled": true
   },
   "source": [
    "## Step 3: Defining hydraulic properties for the aquifer"
   ]
  },
  {
   "cell_type": "markdown",
   "id": "557fdc4a-5a17-40b8-9636-805a3d1fb4f3",
   "metadata": {
    "scrolled": true
   },
   "source": [
    "All pre-MODFLOW6 models require that **one \"Flow Package\"** is chosen by the user specified for the model. The term \"Flow Package\" is a bit of a misnomer, as the key purpose of this package is to specify the hydraulic properties of the aquifer that affect flow. If I had my druthers, these would have been named \"Hydraulic Property Packages\". Flow packages available include:\n",
    "* LPF (Layer-Property Flow)\n",
    "* HUF (Hydrogeologic Unit Flow)\n",
    "* BCF (Block-Centered Flow)\n",
    "\n",
    "By far, **the most commonly used package is LPF**, and we will use this flow package consistently when talking about pre-MODFLOW6 models. However, you may encounter an old model that uses one of the other flow packages. \n",
    "\n",
    "Properties that are supplied within flow packages include:\n",
    "* Hydraulic conductivity $K [L/T]$, and associated anisotropy information\n",
    "* Specific storage coefficients $S_s [L^{-1}]$\n",
    "* Specific yield $S_y [-]$\n",
    "\n",
    "FloPy will generally make a good guess at what you mean when you supply inputs for a flow package. If you supply one value, it will assume that the model is homogeneous. If you supply one value per layer, it will figure out that you are specifying values from top to bottom. And, if you do not supply a required input, it will supply a reasonable default value (e.g., $S_s = 10^{-5}$).\n",
    "\n",
    "At early stages of developing a model, though, it is good practice to **use FloPy's built-in plotting routines for each package** to ensure that inputs are reasonable."
   ]
  },
  {
   "cell_type": "code",
   "execution_count": 5,
   "id": "484419ca-b7e2-45ee-a486-be856503f7af",
   "metadata": {
    "scrolled": true
   },
   "outputs": [],
   "source": [
    "lpf = flopy.modflow.ModflowLpf(\n",
    "    model,\n",
    "    hk = [100, 1, 5],\n",
    "    vka = [50, 0.1, 0.5],\n",
    "    )\n",
    "#Use the below to verify that \"interpreted\" / default inputs are OK\n",
    "#lpf.plot()\n",
    "#lpf.check()"
   ]
  },
  {
   "cell_type": "markdown",
   "id": "57ca684f-c994-4f0a-a36b-eb231c1d9d16",
   "metadata": {
    "scrolled": true
   },
   "source": [
    "## Step 4: Defining stress package inputs"
   ]
  },
  {
   "cell_type": "markdown",
   "id": "bf41c619-12eb-4dd9-8a80-af8b89e7adeb",
   "metadata": {
    "scrolled": true
   },
   "source": [
    "Stress packages are used to define any \"hydraulic stress\" on the aquifer that influences how groundwater moves. If it might act as a source of water to an aquifer, pull water out of an aquifer, or move water from one place to another within an aquifer, it's a stress. \n",
    "\n",
    "The least-complex stress packages to use are:\n",
    "* CHD (Constant Head) Package\n",
    "* FHB (Flow and Head Boundary) Package\n",
    "* GHB (General Head Boundary) Package\n",
    "* RCH (Recharge) Package\n",
    "* WEL (Well) Package\n",
    "* DRN (Drain) Package\n",
    "* RIV (River) Package\n",
    "\n",
    "**Each stress package has its own format and type of inputs**, and figuring out what each of the inputs mean (and how the model wants them supplied) is one of the steeper learning curves for MODFLOW. For example, since recharge tends to occur everywhere over an aquifer, the RCH package uses inputs that are the shape of the map-view model grid - an array with size `nrow` by `ncol`. In contrast, wells are usually closer to \"points\" in space, and so the WEL package wants to know about the specific grid cell where a well is located and the pumping rate, i.e. 3 values per well. Inputs will also get more complex for transient models, as they are specified per \"stress period\" in the model. \n",
    "\n",
    "Like with the flow package, FloPy will often choose reasonable default values if you don't specify all inputs to a stress package.\n",
    "**Using Shift-tab within each FloPy definition is a good way to learn about the inputs for each stress package, and what defaults will be applied**.\n",
    "\n",
    "In this code example, we demonstrate an over-simplified case where the grid-based location (row / column) of a well is specified, and other stresses are nicely oriented on the model grid (e.g., the river is exactly one column of the model). A better approach is to **develop a database of model stresses that are grid-independent**, and to then pull them onto the model grid. However, this requires further background in GIS and other utilities and so we'll reserve that for a future notebook."
   ]
  },
  {
   "cell_type": "code",
   "execution_count": 6,
   "id": "4057f60f-5950-4059-973c-31b81c2761de",
   "metadata": {
    "scrolled": true
   },
   "outputs": [],
   "source": [
    "riv_spd = {0: [[0, i, (modelgrid.ncol-1), 49.5, modelgrid.delc[i]*5, 49] for i in range(modelgrid.nrow)]}\n",
    "#Note - the below will create a non-physical solution unless a regular grid is used, \n",
    "#since the conductance should depend on length x width\n",
    "#riv_spd = {0: [[0, i, (modelgrid.ncol-1), 49.5, 40, 49] for i in range(modelgrid.nrow)]}\n",
    "\n",
    "riv = flopy.modflow.ModflowRiv(\n",
    "    model,stress_period_data=riv_spd\n",
    ")\n",
    "\n",
    "rch = flopy.modflow.ModflowRch(\n",
    "    model,\n",
    "    rech=0.001)\n",
    "\n",
    "wel = flopy.modflow.ModflowWel(model,stress_period_data={0: [2, 15, 15, -50]})"
   ]
  },
  {
   "cell_type": "markdown",
   "id": "a2ec3f93-871d-452a-8619-945d1c894ae6",
   "metadata": {
    "scrolled": true
   },
   "source": [
    "## Step 5: Define Numerical and Computational Inputs"
   ]
  },
  {
   "cell_type": "markdown",
   "id": "c221dde0-30c2-42e0-add5-402e234060f2",
   "metadata": {
    "scrolled": true
   },
   "source": [
    "Finally, a solver package must be specified which determines how MODFLOW will approach the matrix-vector system of equations that are generated, and output control is used to specify how and where model outputs will be generated.\n",
    "\n",
    "The user can choose **one solver package**\n",
    "* DE4 (Direct) Solver\n",
    "* PCG (Preconditioned conjugate gradient) Solver\n",
    "* PCGN (Preconditioned conjugate gradient with Improved Nonlinear Control) Solver\n",
    "* SIP (Strongly Implicit Procedure) Solver\n",
    "* SOR (Slice Successive Over-Relaxation) Solver\n",
    "* NWT (Newton-Raphson) Solver (for MODFLOW-NWT only)\n",
    "\n",
    "Currently, **the most commonly-used solvers for pre-MODFLOW6 models are the PCG and NWT solvers**.\n",
    "\n",
    "Experimenting with different solvers is, in general, a good practice as the results of your model should not be dependent on the solver used. **If one solver gives a different result than another, you should investigate why**."
   ]
  },
  {
   "cell_type": "code",
   "execution_count": 18,
   "id": "626dac2e-a816-4f07-ba25-be9801512d80",
   "metadata": {
    "scrolled": true
   },
   "outputs": [],
   "source": [
    "pcg = flopy.modflow.ModflowPcg(model)\n",
    "oc = flopy.modflow.ModflowOc(model)"
   ]
  },
  {
   "cell_type": "markdown",
   "id": "dac2e285-615c-46f5-98c5-b8a446a186ce",
   "metadata": {
    "scrolled": true
   },
   "source": [
    "## Step 6: Write the input files and run MODFLOW"
   ]
  },
  {
   "cell_type": "markdown",
   "id": "a3502557-8c26-4bb9-8eb4-52c74bab7a81",
   "metadata": {
    "scrolled": true
   },
   "source": [
    "This is the place where all of your hard work has paid off. If you have carefully specified your inputs and used the available debugging / plotting tools, your model should run successfully with two lines of code!\n",
    "\n",
    "If `success = True`, you are \"done\".\n",
    "\n",
    "If (when) your model doesn't run successfully, remember the following approaches:\n",
    "* Carefully investigate each of the package inputs using the package objects' `.plot()` and `.check()` routines\n",
    "* Review the `.list` file that is output when MODFLOW runs."
   ]
  },
  {
   "cell_type": "code",
   "execution_count": 19,
   "id": "8b0219f5-b02e-46a1-b373-3c0e06fd984b",
   "metadata": {
    "scrolled": true
   },
   "outputs": [],
   "source": [
    "model.write_input()\n",
    "success, buff = model.run_model(silent=True, report=True)"
   ]
  },
  {
   "cell_type": "markdown",
   "id": "a406ce7c-dbb8-49d3-8873-19c0cb791c64",
   "metadata": {
    "scrolled": true
   },
   "source": [
    "## Step 7-$\\infty$: Processing your results to and changing your model to make it \"less wrong\""
   ]
  },
  {
   "cell_type": "markdown",
   "id": "d6bcbdbf-620a-4da1-a49d-c55649f62864",
   "metadata": {
    "scrolled": true
   },
   "source": [
    "Even if your model does run, **be skeptical - there is no replacement for hydrosense**. You should have a reasonable expectation of what your results will look like, and whether the output passes the \"sniff test\".\n",
    "\n",
    "Remember the old mantra: **all models are wrong** (at least in some way). The job of the good modeler is to know how to test a model well and understand what parts of the model are trustworthy vs. where simplifications or unjustified assumptions have a significant impact on results.\n",
    "\n",
    "There are many, many ways to stress-test and improve your model. A non-exhaustive list:\n",
    "* Ensure that your model mass balance is reasonable. Mass should not be created or destroyed.\n",
    "* Make sure that your model isn't dependent on artificial computational definitions *Example: You get a totally different result when implementing a different solver, or changing solution tolerances, or changing your stress periods*\n",
    "* Make sure you haven't set (known) values incorrectly. *Example: $S_y = 2$*\n",
    "* Consider how strongly your model results are impacted by set (uncertain) values. *Example: What if you're wrong about riverbed conductance values?*\n",
    "* Consider whether unmodeled processes may be important to your results. *Example: How much aquifer compaction might affect these results? What about variable density of water?*"
   ]
  },
  {
   "cell_type": "code",
   "execution_count": 20,
   "id": "ec988680-d1ad-4b33-884f-be6adde83ccd",
   "metadata": {
    "scrolled": true
   },
   "outputs": [],
   "source": [
    "import flopy.utils.binaryfile as bf\n",
    "headobj = bf.HeadFile(os.path.join(model_dir,f\"{model_nm}.hds\"))\n",
    "times = headobj.get_times()\n",
    "head = headobj.get_data(totim=times[-1])"
   ]
  },
  {
   "cell_type": "code",
   "execution_count": 21,
   "id": "6e84c898-3029-4bed-b619-ee036a23d5e9",
   "metadata": {},
   "outputs": [
    {
     "data": {
      "text/plain": [
       "<matplotlib.contour.QuadContourSet at 0x10feeff70>"
      ]
     },
     "execution_count": 21,
     "metadata": {},
     "output_type": "execute_result"
    },
    {
     "data": {
      "image/png": "[encoded data removed]",
      "text/plain": [
       "<Figure size 600x600 with 1 Axes>"
      ]
     },
     "metadata": {},
     "output_type": "display_data"
    }
   ],
   "source": [
    "fig = plt.figure(figsize=(6, 6))\n",
    "ax1 = fig.add_subplot(1, 1, 1, aspect=\"equal\")\n",
    "modelmap = flopy.plot.PlotMapView(model=model,layer=2,ax=ax1)\n",
    "modelmap.plot_ibound()\n",
    "modelmap.plot_grid()\n",
    "modelmap.plot_bc(name=\"RIV\")\n",
    "modelmap.plot_bc(name=\"WEL\")\n",
    "\n",
    "modelmap.contour_array(head)"
   ]
  },
  {
   "cell_type": "code",
   "execution_count": 22,
   "id": "5a801bd0-b4f6-4507-b684-bfeaca11d602",
   "metadata": {},
   "outputs": [
    {
     "data": {
      "text/plain": [
       "<matplotlib.tri._tricontour.TriContourSet at 0x10fa297c0>"
      ]
     },
     "execution_count": 22,
     "metadata": {},
     "output_type": "execute_result"
    },
    {
     "data": {
      "image/png": "[encoded data removed]",
      "text/plain": [
       "<Figure size 1000x1000 with 1 Axes>"
      ]
     },
     "metadata": {},
     "output_type": "display_data"
    }
   ],
   "source": [
    "fig = plt.figure(figsize=(10, 10))\n",
    "ax2 = fig.add_subplot(1, 1, 1, aspect=10)\n",
    "modelcr = flopy.plot.PlotCrossSection(model=model,line={\"row\":15},ax=ax2)\n",
    "modelcr.plot_ibound()\n",
    "modelcr.plot_grid()\n",
    "modelcr.plot_bc(name=\"RIV\")\n",
    "modelcr.plot_bc(name=\"WEL\")\n",
    "modelcr.contour_array(head)\n"
   ]
  },
  {
   "cell_type": "code",
   "execution_count": null,
   "id": "916c5e73-373b-4943-841b-8adae50746ff",
   "metadata": {},
   "outputs": [],
   "source": []
  },
  {
   "cell_type": "code",
   "execution_count": null,
   "id": "75aaefa4-575e-446e-97a8-5c48bcf43344",
   "metadata": {},
   "outputs": [],
   "source": []
  }
 ],
 "metadata": {
  "kernelspec": {
   "display_name": "Python 3 (ipykernel)",
   "language": "python",
   "name": "python3"
  },
  "language_info": {
   "codemirror_mode": {
    "name": "ipython",
    "version": 3
   },
   "file_extension": ".py",
   "mimetype": "text/x-python",
   "name": "python",
   "nbconvert_exporter": "python",
   "pygments_lexer": "ipython3",
   "version": "3.9.20"
  }
 },
 "nbformat": 4,
 "nbformat_minor": 5
}
