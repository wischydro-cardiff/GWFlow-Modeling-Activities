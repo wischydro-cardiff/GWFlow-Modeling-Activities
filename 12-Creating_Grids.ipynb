{
 "cells": [
  {
   "cell_type": "markdown",
   "id": "49836592-006b-4bdd-9698-72c1f28738ec",
   "metadata": {
    "editable": true,
    "slideshow": {
     "slide_type": ""
    },
    "tags": []
   },
   "source": [
    "# Utilities & Techniques for creating Map-view Model Grids"
   ]
  },
  {
   "cell_type": "markdown",
   "id": "0cf1711c-7aef-4637-bdc9-8968b79fa84c",
   "metadata": {},
   "source": [
    "Every MODFLOW model is solved on a **model grid**, which may be either a structured rectangular (plaid), semi-structured (e.g., quadtree refined), or unstructured grid. Unless you are writing a purely hypothetical MODFLOW model, this model grid is also associated with a place on the Earth and thus should contain coordinate and measurement unit information so that the model grid and associated features can be mapped onto the planet.\n",
    "\n",
    "For almost all cases, MODFLOW grids are \"layercake\", consisting of a 2-dimensional horizontal discretization (usually easting / northing map-view coordinates) that is consistent across all layers of the model. The model top elevation and layer bottoms may be set so that the thickness and position of a layer may vary vertically. This notebook introduces tools and methods for developing MODFLOW model grids in two map-view dimensions (assumed to represent easting / northing coordinates), for introducing variable-thickness layering, and for ensuring that the model grid can be referenced on the Earth.\n",
    "\n",
    "Additionally, this notebook introduces FloPy conventions for defining grids and FloPy tools used for visualizing grid objects.\n",
    "\n",
    "Note: This notebook does not implement the MODFLOW 6 DISU grid type, which introduces additional complexities, and is not yet well-used by the community."
   ]
  },
  {
   "cell_type": "markdown",
   "id": "8b60d3e9-9a6e-4bce-968d-a786616ac605",
   "metadata": {},
   "source": [
    "## Learning Objectives"
   ]
  },
  {
   "cell_type": "markdown",
   "id": "9dc27b78-cf03-442b-9220-5db2ccac563d",
   "metadata": {
    "editable": true,
    "slideshow": {
     "slide_type": ""
    },
    "tags": []
   },
   "source": [
    "After you have read and run this notebook, you should be able to:\n",
    "* Understand the different types of standard MODFLOW grids including plaid grids, nested grids, quadtree grids, and non-rectangular (DISV) grids\n",
    "* Fluently create a plaid model grids for a region of interest with an appropriate level of refinement and layer structure\n",
    "* Use utilities including Triangle and VoronoiGrid to generate non-rectangular grids\n",
    "* Apply flopy and matplotlib utilities to visualize, debug, and verify model grids"
   ]
  },
  {
   "cell_type": "markdown",
   "id": "1e12cf81-281d-4df3-905a-aef1f2f45cbd",
   "metadata": {},
   "source": [
    "## Initial Setup"
   ]
  },
  {
   "cell_type": "markdown",
   "id": "135979fc-f87b-4598-81a9-7c9a5fa1afd7",
   "metadata": {},
   "source": [
    "For this notebook, we will import flopy and also define shortcuts to the `flopy.discretization` module as `fpd`.\n",
    "\n",
    "To simplify plotting later in the notebook, we also define a function `combined_gridplot` which produces both a cross-section and map view of the model area, similar to what is viewable in Groundwater Vistas. The function returns handles to the figure object, subplot axes objects, and graphics objects so that you can further modify the plots with later commands. As you go through the class, you may consider using `combined_gridplot` as a template to build more sophisticated visualizations of your model grid."
   ]
  },
  {
   "cell_type": "code",
   "execution_count": null,
   "id": "15087d35-d95f-4112-8fc5-1a8b99d8fa01",
   "metadata": {},
   "outputs": [],
   "source": [
    "import flopy\n",
    "import flopy.utils as fpu\n",
    "import flopy.discretization as fpd\n",
    "\n",
    "#TODO: I'd prefer not to do this. Why doesn't explicit work?\n",
    "from flopy.utils.triangle import Triangle\n",
    "from flopy.utils.voronoi import VoronoiGrid\n",
    "from flopy.utils.gridgen import Gridgen\n",
    "\n",
    "import numpy as np\n",
    "import matplotlib.pyplot as plt\n",
    "import os\n",
    "\n",
    "def combined_gridplot(modelgrid_in,cross_type=\"row\", cross_num=0,vert_exag=1):\n",
    "    fig, axs = plt.subplots(nrows=2,ncols=1,figsize=(10,10),height_ratios=[0.2,1])\n",
    "\n",
    "    try:\n",
    "        axs[0].set_aspect(vert_exag)\n",
    "        pcr = flopy.plot.PlotCrossSection(modelgrid=modelgrid_in, ax=axs[0], line={cross_type: cross_num}, geographic_coords=True)\n",
    "        pcr.plot_grid(lw=0.5)\n",
    "        if cross_type==\"row\":\n",
    "            axs[0].set_xlabel('x')\n",
    "        elif cross_type==\"column\":\n",
    "            axs[0].set_xlabel('y')\n",
    "        axs[0].set_ylabel('z')\n",
    "        axs[0].set_title(f'Cross-section through {cross_type} {cross_num}, Vertical Exag = {vert_exag}')\n",
    "    except:\n",
    "        print('Cross-section could not be generated. Check inputs')\n",
    "        pcr = None\n",
    "    \n",
    "    axs[1].set_aspect(1)\n",
    "    pmv = flopy.plot.PlotMapView(modelgrid=modelgrid_in, ax=axs[1])\n",
    "    pmv.plot_grid(lw=0.5)\n",
    "    axs[1].set_xlabel('x')\n",
    "    axs[1].set_ylabel('y')\n",
    "    axs[1].set_title(modelgrid_in)\n",
    "    return fig, axs, [pcr, pmv]\n"
   ]
  },
  {
   "cell_type": "markdown",
   "id": "5b3968d7-41e7-4069-a4ad-b1714eed85ae",
   "metadata": {},
   "source": [
    "# Plaid grids"
   ]
  },
  {
   "cell_type": "markdown",
   "id": "bff8fad6-0a8c-49e5-b0da-edb366f07421",
   "metadata": {
    "jp-MarkdownHeadingCollapsed": true
   },
   "source": [
    "The most commonly-used style of MODFLOW grid is a so-called \"plaid\" rectangular grid, which is completely defined by the heights `delr` (x-dimension / easting-wise) and widths `delc` (y-dimension / northing-wise) of model grid cells. \n",
    "\n",
    "Remember that by FloPy convention, grid locations are specified as follows:\n",
    "* 2D arrays are read from top-to-bottom, left-to-right, as you would read a book.\n",
    "* The upper left-hand corner cell of a layer - i.e. the cell farthest to the NW - is numbered 0,0. The lower right-hand corner cell is numbered (nrow-1),(ncol-1).\n",
    "* In multilayer models, 3-D arrays are specified by (layer, row, column), with layer 0 representing the topmost layer in the model.\n",
    "* The origin of the map-view grid coordinate system x=0, y=0 is found at the lower left-hand corner of the lower left-hand cell, i.e. the farthest SW location within the grid.\n",
    "* The origin for elevation is z=0 for the chosen datum."
   ]
  },
  {
   "cell_type": "markdown",
   "id": "437d8744-7986-48f3-819e-f5e71ae027bf",
   "metadata": {},
   "source": [
    "## Example 1: A simple rectangular grid with no geographic reference"
   ]
  },
  {
   "cell_type": "markdown",
   "id": "fb7633fb-8ad0-4b3e-aaaf-0fca62aa6241",
   "metadata": {},
   "source": [
    "This code produces a grid with constant size `dx` in the grid x dimension, a different constant size `dy` in the grid y dimension, and a single model layer with top and bottom elevation specified by `topelev` and `botmelev`, respectively. Since no spatial information is provided, the model grid is plotted with its southwest corner at the origin, (0,0)\n",
    "\n",
    "Key notes:\n",
    "* The top of the uppermost layer (layer 0) must be supplied as a 2-dimensional array\n",
    "* The bottom of all layers must be supplied as a 3-dimensional array\n",
    "* The idomain variable, which defines wether a cell is active (idomain = 1) or inactive (idomain = 0), must be specified as a 3-dimensional array\n",
    "* When calling `print(modelgrid)`, FloPy displays the information relating the grid coordinates to geographic coordinates and units. We have not specified these at this stage"
   ]
  },
  {
   "cell_type": "code",
   "execution_count": null,
   "id": "ace630d0-7d3f-4ab9-9ce8-4232acb995b7",
   "metadata": {},
   "outputs": [],
   "source": [
    "nrow = 5\n",
    "dy = 100\n",
    "ncol = 20\n",
    "dx = 50\n",
    "nlay = 1\n",
    "topelev = 20\n",
    "botmelev = 10\n",
    "\n",
    "top_reg = np.ones((nrow, ncol)) * topelev\n",
    "botm_reg = np.ones((nlay,nrow, ncol)) * botmelev\n",
    "delr_reg = np.full((ncol,), dx)\n",
    "delc_reg = np.full((nrow,), dy)\n",
    "ibound_reg = np.ones((nlay, nrow, ncol))\n",
    "\n",
    "#This line of code creates a FloPy discretization object that stores all the information an actual\n",
    "#model will need (and in the right format). When you create a new StructedGrid object, modelgrid,\n",
    "#you can use built-in FloPy utilities to plot and visualize this grid before moving on to other steps\n",
    "modelgrid_reg = fpd.StructuredGrid(\n",
    "    delc=delc_reg,\n",
    "    delr=delr_reg,\n",
    "    top=top_reg,\n",
    "    botm=botm_reg,\n",
    "    idomain=ibound_reg,\n",
    ")\n",
    "#Show information about the relation between the model grid and geographic coordinates\n",
    "print(modelgrid_reg)\n",
    "#Show the type of object\n",
    "print(type(modelgrid_reg))\n",
    "\n",
    "#These tests are always good to perform, which ensures\n",
    "#that your grid will be mapped into a MODFLOW file without issue\n",
    "print('Grid Valid   : ',modelgrid_reg.is_valid)\n",
    "print('Grid Complete: ',modelgrid_reg.is_complete)\n",
    "\n",
    "#Produce a plot of the grid using our pre-defined function\n",
    "fig_reg, axs_reg, plots_reg = combined_gridplot(modelgrid_reg,cross_type=\"column\",cross_num=3,vert_exag=5)"
   ]
  },
  {
   "cell_type": "markdown",
   "id": "44641397-4e41-4a88-8b27-73460b01d3b3",
   "metadata": {},
   "source": [
    "## Example 2: A locally-refined grid with relative geographic information"
   ]
  },
  {
   "cell_type": "markdown",
   "id": "ec2815e7-956f-4caf-be67-92a109c30e5f",
   "metadata": {},
   "source": [
    "When defining more complex grids, it is often more intuitive to start by considering where you want to put the boundaries of individual model grid cells in a real-world space. Similarly, if we're working with measured locations, we need to describe what type of unit system we're working in.\n",
    "\n",
    "This example builds on the prior example with some more complexities:\n",
    "* We define what the units for the grid cell sizes is (meters).\n",
    "* We define an earth location based on some arbitrary benchmark representing (x=0,y=0), and define model coordinates in a reference frame relative to this benchmark such that the coordinates (x=1500m, y=2000m) that represents the southwest corner of the model domain.\n",
    "* We setup two layers in the model. The model top and the layer 0 and layer 1 bottoms that vary with x/y location.\n",
    "\n",
    "NumPy's `linspace`, `arange`, and `concatenate` are useful functions for creating grids with variable spacing. **Note** `arange(a,b,c)` is supposed to produce an array between `a` and `b` with step size `c`, but has the unfortunate behavior of not producing the last step in an array as you might expect. Try typing `np.arange(1,10,1)` in the console to see what we mean. To fix this, a \"hack\" is to make sure to add a small step if the last element falls directly on a step and you want it included.\n",
    "\n",
    "The code below sets up the locations of all boundaries in two arrays `xb` and `yb`. We then calculate the inputs that are needed by FloPy / MODFLOW, which correspond to the individual grid cell sizes in MODFLOW order (left to right, top to bottom) and the coordinates of the SW corner. \n",
    "\n",
    "The variables `xoff`, `yoff` and `lenuni` are not necessary for MODFLOW runs, but are crucial for extracting and importing geographic data when building models of real-world locations.\n"
   ]
  },
  {
   "cell_type": "code",
   "execution_count": null,
   "id": "3b034d30-be42-4779-84b2-6517d2269653",
   "metadata": {},
   "outputs": [],
   "source": [
    "#Define the cell boundaries (where gridlines are, where vertices are)\n",
    "#x boundaries, from left to right\n",
    "xb = np.concatenate((np.arange(2000,3200,200), \n",
    "                    np.arange(3200,3450,50), \n",
    "                    np.arange(3450,3650,20), \n",
    "                    np.arange(3650,3800,50),\n",
    "                    np.arange(3800,5000+.1,100)),0)\n",
    "#y boundaries. I find it more intuitive to define boundaries from bottom to top.\n",
    "#The last statement [::-1] takes the array and reverses it so that boundaries\n",
    "#are re-organized from top to bottom (FloPy / MODFLOW style)\n",
    "yb = np.concatenate((np.arange(1500,3000,100),\n",
    "                     np.arange(3000,3300,50),\n",
    "                     np.arange(3300,3500,20),\n",
    "                     np.arange(3500,3700,50),\n",
    "                     np.arange(3700,4500+.1,200)),0)[::-1]\n",
    "\n",
    "#Define the cell midpoints (where cell centers are)\n",
    "xm = (xb[0:(len(xb)-1)] + xb[1:(len(xb))])/2\n",
    "ym = (yb[0:(len(yb)-1)] + yb[1:(len(yb))])/2\n",
    "xmg, ymg = np.meshgrid(xm,ym)\n",
    "\n",
    "#Define units for the numbers above\n",
    "units_irreg = 'm'\n",
    "\n",
    "#Define some sloping planes based on functions evaluated at cell center coordinates\n",
    "top_irreg = 20 - 0.0005*(xmg - 2000) + 0.001*(ymg - 1500)\n",
    "botmlay0_irreg = 10 + 0.0005*(xmg - 2000) + 0.001*(ymg - 1500)\n",
    "botmlay1_irreg = 5 - 0.0005*(xmg - 2000) - 0.001*(ymg - 1500)\n",
    "\n",
    "#Calculate the inputs, in MODFLOW / FloPy-speak\n",
    "#find lower-left x coordinate, and calculate step size, left to right\n",
    "xoff_irreg = xb[0]\n",
    "delr_irreg = np.diff(xb)\n",
    "ncol_irreg = delr_irreg.shape[0]\n",
    "#find lower-left coordinate, and calculate step size from top to bottom\n",
    "yoff_irreg = yb[-1]\n",
    "delc_irreg = -np.diff(yb)\n",
    "nrow_irreg = delc_irreg.shape[0]\n",
    "\n",
    "botm_irreg = np.stack((botmlay0_irreg,botmlay1_irreg),0)\n",
    "nlay_irreg = botm_irreg.shape[0]\n",
    "ibound_irreg = np.ones((nlay_irreg, nrow_irreg, ncol_irreg))\n",
    "\n",
    "modelgrid_irreg = fpd.StructuredGrid(\n",
    "    delc=delc_irreg,\n",
    "    delr=delr_irreg,\n",
    "    top=top_irreg,\n",
    "    botm=botm_irreg,\n",
    "    idomain=ibound_irreg,\n",
    "    xoff=xoff_irreg,\n",
    "    yoff=yoff_irreg,\n",
    "    lenuni=units_irreg,\n",
    ")\n",
    "\n",
    "print('Grid Valid   : ',modelgrid_irreg.is_valid)\n",
    "print('Grid Complete: ',modelgrid_irreg.is_complete)\n",
    "\n",
    "#Plot using our built-in function\n",
    "fig_irreg, axs_irreg, plots_irreg = combined_gridplot(modelgrid_irreg,cross_type=\"row\",cross_num=5,vert_exag=20)"
   ]
  },
  {
   "cell_type": "markdown",
   "id": "2687737e-62d9-4722-82ec-ac30cc3783b5",
   "metadata": {},
   "source": [
    "Plaid grids in (x,y), with defined model top and layer bottoms, are supported across _all_ versions of MODFLOW. Obtaining solutions on plaid grids tends to be numerically very efficient, because the nonzero elements of the associated $A$ matrix are concentrated near the main diagonal due to the connectivity structure of the cells. If you understand how to create and operate plaid grids, you will be able to work with the vast majority of MODFLOW models in existence.\n",
    "\n",
    "A disadvantage of plaid grids, however, is the creation of thin cells outside of the central area of refinement. In the example above, the main area of refinement desired was in the region where $3200<x<3800$ and $3000<y<3700$, but note how thin model cells are also created in the four cardinal directions surrounding this region."
   ]
  },
  {
   "cell_type": "markdown",
   "id": "793e4676-dacd-4b0a-a997-26a3a4d24c7d",
   "metadata": {},
   "source": [
    "## Example 3: A rotated grid with geographic projection / datum"
   ]
  },
  {
   "cell_type": "markdown",
   "id": "09c8c71e-7151-4c70-b237-3da245b69039",
   "metadata": {},
   "source": [
    "This example associates a model grid with a specific region of the earth, covering from the Wisconsin River to Lake Waubesa, as shown in the figure below. When developing grids for regional models, it is **very important** to be careful about the coordinate reference system (CRS) used in all geographic data. Each CRS has an associated number called an [EPSG code](https://en.wikipedia.org/wiki/EPSG_Geodetic_Parameter_Dataset) that defines various aspects of the coordinate system such as the geoid/ellipsoid reference model used, the method of projection from spherical to rectangular coordinates, the units system used, and the origin of the coordinate system. In addition to a horizontal coordinate system defined by the CRS, vertical elevations must be tied to a specified datum. It is the modeler's responsibility to ensure that these CRSs and datums are kept consistent.\n",
    "\n",
    "We will not go into the details of map projections or coordinate transformations in this class - most of which is handled automatically through modern GIS applications. When working with exchanging data between GIS and FloPy, though, **always make sure that your shapefiles, data and model are using (or projected into) a consistent CRS and vertical datum**.\n",
    "\n",
    "To setup this model, we first started with the following steps:\n",
    "* We created a QGIS project, and set the project CRS to Wisconsin Transverse Mercator (EPSG:3071)\n",
    "* Looking at the QGIS basemap, we selected the origin (lower lefthand corner) of the coordinate system for modeling, as well as an angle of rotation for the model grid. The angle of rotation was chosen so that natural boundary conditions, including the Wisconsin River and Lake Waubesa, are roughly orthogonal with the grid.\n",
    "* By measuring distances in QGIS, we outlined the approximate dimensions needed for the model grid\n",
    "\n",
    "<img src=\"./doc_materials/dane_region.png\" width=\"700px\"/>\n",
    "\n",
    "At the end of this code block, we demonstrate one of the utilities in Python for exporting model information to a GIS shapefile. We encourage further exploration of utilities found under `flopy.export.shapefile_utils` that might be useful.\n"
   ]
  },
  {
   "cell_type": "code",
   "execution_count": null,
   "id": "9d60735d-29f5-4d9e-b788-a8d9832ec682",
   "metadata": {
    "editable": true,
    "slideshow": {
     "slide_type": ""
    },
    "tags": []
   },
   "outputs": [],
   "source": [
    "#Define the CRS using its EPSG code\n",
    "epsg = 3071\n",
    "#Setup the origin (lower left corner) of the coordinate system\n",
    "xll_geo, yll_geo = 528950, 304591\n",
    "#Choose the angle of rotation for the model grid. Following mathematical conventions,\n",
    "# positive is counterclockwise, negative is clockwise\n",
    "angrot_geo = -45\n",
    "#Define units for the numbers above\n",
    "units_geo = 'm'\n",
    "\n",
    "#Setup a regular grid with, 52km by 40km with 500m spacing\n",
    "xb_rel = np.arange(0,52000+1,500)\n",
    "yb_rel = np.arange(0,40000+1,500)\n",
    "\n",
    "#Define the horizontal grid using MODFLOW / Flopy parameters\n",
    "delr_geo = np.diff(xb_rel)\n",
    "ncol_geo = delr_geo.shape[0]\n",
    "delc_geo = np.diff(yb_rel)\n",
    "nrow_geo = delc_geo.shape[0]\n",
    "\n",
    "#Setup an initial single layer, all active cells\n",
    "nlay_geo = 1\n",
    "DEM_start = 350\n",
    "model_botm = 150\n",
    "top_geo = np.ones((nrow_geo, ncol_geo)) * DEM_start\n",
    "botm_geo = np.ones((nlay_geo,nrow_geo, ncol_geo)) * model_botm\n",
    "ibound_geo = np.ones((nlay_geo, nrow_geo, ncol_geo))\n",
    "\n",
    "#Create the modelgrid object\n",
    "modelgrid_geo = fpd.StructuredGrid(\n",
    "    delc=delc_geo,\n",
    "    delr=delr_geo,\n",
    "    top=top_geo,\n",
    "    botm=botm_geo,\n",
    "    idomain=ibound_geo,\n",
    "    xoff=xll_geo,\n",
    "    yoff=yll_geo,\n",
    "    lenuni=units_geo,\n",
    "    angrot=angrot_geo,\n",
    "    crs=epsg, \n",
    ")\n",
    "\n",
    "#Plot using our built-in function\n",
    "fig_geo, axs_geo, plots_geo = combined_gridplot(modelgrid_geo,cross_type=\"column\",cross_num=5,vert_exag=20)\n",
    "\n",
    "#These tests are always good to perform, which ensures\n",
    "#that your grid will be mapped into a MODFLOW file without issue\n",
    "print('Grid Valid   : ',modelgrid_geo.is_valid)\n",
    "print('Grid Complete: ',modelgrid_geo.is_complete)\n",
    "\n",
    "\n",
    "#The utility we are using below, write_grid_shapefile, will output the row, column and node number\n",
    "#automatically. Other model properties that apply on the horizontal grid are supplied as a\n",
    "#name-value paired dictionary.\n",
    "#Note - It wouldn't be my choice, but the user *must* supply at least one input within\n",
    "#array_dict. You cannot just output grid row/col/nodes.\n",
    "out_loc = os.path.join('.','nboutput','dane_grid.shp')\n",
    "array_dict = {'idomain': ibound_geo,\n",
    "             'top': top_geo,\n",
    "             'bot1': botm_geo,\n",
    "             }\n",
    "flopy.export.shapefile_utils.write_grid_shapefile(out_loc,modelgrid_geo,array_dict,crs=epsg)"
   ]
  },
  {
   "cell_type": "markdown",
   "id": "f17a56ce-f511-4af2-af56-b56f12795f3a",
   "metadata": {},
   "source": [
    "# Non-rectangular grids\n",
    "\n",
    "A non-rectangular grid, for the purposes of MODFLOW / FloPy, is any grid that does not use two orthogonal discretizations of horizontal coordinates to define cells. Non-rectangular grids were first supported by [MODFLOW-USG (2017)](https://www.usgs.gov/software/modflow-usg-unstructured-grid-version-modflow-simulating-groundwater-flow-and-tightly), and have since been implemented within the latest major release, [MODFLOW 6](https://www.usgs.gov/software/modflow-6-usgs-modular-hydrologic-model).\n",
    "\n",
    "To define a non-rectangular grid using MODFLOW 6's discretization-by-vertices (DISV) approach, the user must supply the location of all vertices that define the model grid, and then define model cells according to the path of vertices that surround the cell, as described in the MODFLOW 6 documentation.\n",
    "\n",
    "<img src=\"./doc_materials/disv_inputs.png/\" width=\"300px\" >\n",
    "\n",
    "As you can see from the image above, these grids would be quite a pain to define if you had to do it by hand! Fortunately, there are many pieces of software that can generate different grid styles (triangular, deformed quadrilateral, etc.) based on simple inputs."
   ]
  },
  {
   "cell_type": "markdown",
   "id": "4799d32d-bb57-49b7-8b0a-7b24bf599dd4",
   "metadata": {},
   "source": [
    "## Triangular grids from \"Triangle\""
   ]
  },
  {
   "cell_type": "markdown",
   "id": "2fcadf38-f991-4339-bab8-c37eb94eb59a",
   "metadata": {},
   "source": [
    "`flopy.utils.get_modflow` installed several useful utilities for non-rectangular grid generation, including the aptly-named \"Triangle\", for generating triangular grids. We will use the FloPy interface to work with the Triangle software package here. Another useful example of some features of the FloPy implementation of Triangle can be found in the [FloPy Examples Gallery here](https://flopy.readthedocs.io/en/3.8.0/Notebooks/dis_triangle_example.html).\n",
    "\n",
    "Note that the output of Triangle produces a set of points defining the corners of every triangle. This is a perfectly acceptable grid, but it leads to some numerical inaccuracies when fluxes are calculated. In MODFLOW, heads are defined at cell centers and thus flow rates are defined from cell center to cell center. If the direction along which a flow rate is calculated (cell center to cell center) is not perpendicular to cell boundaries, error is introduced. In other words, **in a good MODFLOW grid, lines drawn from cell center to cell center should be perpendicular to cell boundaries for the best computational accuracy**. MODFLOW 6 has routines to correct for this issue, but they are not foolproof."
   ]
  },
  {
   "cell_type": "code",
   "execution_count": null,
   "id": "2bfbfffe-5338-477b-b88e-d7edeeecafdc",
   "metadata": {
    "editable": true,
    "slideshow": {
     "slide_type": ""
    },
    "tags": []
   },
   "outputs": [],
   "source": [
    "\n",
    "workspace = os.path.join('.','nboutput')\n",
    "triExeName = os.path.join('.','bin','triangle')\n",
    "\n",
    "#TODO: Could change this to make it our own. Demonstrate other features such as holes\n",
    "active_domain = [(0, 0), (100, 10), (100, 55), (0, 65)]\n",
    "drain_domain= [(80, 31), (95, 31), (95, 34), (80, 34)]\n",
    "\n",
    "#Triangular meshes tend to be more numerically problematic if they are \"thin\",\n",
    "#i.e., with very small angles. So, Triangle attempts to produce a discretization where\n",
    "#all angles are >30° in this case.\n",
    "tri =Triangle(angle=30, model_ws=workspace, exe_name=triExeName)\n",
    "\n",
    "tri.add_polygon(active_domain)\n",
    "tri.add_polygon(drain_domain)\n",
    "#Tri uses the point you provide and keeps using the same discretization\n",
    "#until the internal boundaries of a domain are reached\n",
    "tri.add_region((10,10),0,maximum_area=20) #coarse discretization\n",
    "#To add finer discretization, provide a point within a subregion\n",
    "tri.add_region((88,33),1,maximum_area=5) #fine discretization\n",
    "tri.build()\n",
    "\n",
    "ncpl = tri.ncpl\n",
    "cell2d = tri.get_cell2d()\n",
    "vertices = tri.get_vertices()\n",
    "top = np.ones(ncpl) * 1.0\n",
    "botm = np.ones((1, ncpl)) * 0.0\n",
    "idomain = np.ones((1, ncpl), dtype=int)\n",
    "\n",
    "modelgrid_tri = fpd.VertexGrid(vertices=vertices,\n",
    "                                    cell2d=cell2d,\n",
    "                                    top=top,\n",
    "                                    botm=botm,\n",
    "                                    idomain=idomain,\n",
    "                                   )\n",
    "\n",
    "#These tests are always good to perform, which ensures\n",
    "#that your grid will be mapped into a MODFLOW file without issue\n",
    "print('Grid Valid   : ',modelgrid_tri.is_valid)\n",
    "print('Grid Complete: ',modelgrid_tri.is_complete)\n",
    "\n",
    "ycross = 40\n",
    "cross_line = [(0,ycross),(100,ycross)]\n",
    "fig_tri, axs_tri, plots_tri = combined_gridplot(modelgrid_tri,cross_type=\"line\",cross_num=cross_line,vert_exag=20)\n",
    "\n",
    "xc, yc = modelgrid_tri.xcellcenters, modelgrid_tri.ycellcenters\n",
    "xv, yv = modelgrid_tri.xvertices, modelgrid_tri.yvertices\n",
    "\n",
    "axs_tri[1].scatter(xv, yv, c=\"b\", label=\"Triangle Output\")\n",
    "axs_tri[1].scatter(xc.ravel(), yc.ravel(), c=\"r\", label=\"cell centers\")\n",
    "plt.legend(loc=0);\n"
   ]
  },
  {
   "cell_type": "markdown",
   "id": "8ce27a76-f2d6-4d59-8d34-ba6e8b5a56d1",
   "metadata": {
    "editable": true,
    "slideshow": {
     "slide_type": ""
    },
    "tags": []
   },
   "source": [
    "## Voronoi Grids from VoronoiGrid"
   ]
  },
  {
   "cell_type": "markdown",
   "id": "2f965282-2b22-41da-a202-5a6502a99bad",
   "metadata": {
    "editable": true,
    "slideshow": {
     "slide_type": ""
    },
    "tags": []
   },
   "source": [
    "FloPy includes a utility to use the output of Triangle to produce a better mesh for MODFLOW purposes known as a *Voronoi Grid*. The vertices generated by Triangle are used as cell centers, and the Voronoi method is employed to define grid boundaries such that lines drawn from cell center to cell center **will be exactly perpendicular to cell boundaries**. For more information on Voronoi diagrams and the related concept of Delaunay triangulation [this article](https://builtin.com/data-science/voronoi-diagram) provides some interesting mathematical background."
   ]
  },
  {
   "cell_type": "code",
   "execution_count": null,
   "id": "dc5ecbe1-d170-4ecd-9892-6046f84c222e",
   "metadata": {
    "editable": true,
    "slideshow": {
     "slide_type": ""
    },
    "tags": []
   },
   "outputs": [],
   "source": [
    "vor = VoronoiGrid(tri)\n",
    "gridprops = vor.get_gridprops_vertexgrid()\n",
    "ncpl = vor.ncpl\n",
    "top = np.ones(ncpl) * 1.0\n",
    "botm = np.ones((1, ncpl)) * 0.0\n",
    "idomain = np.ones((1, ncpl), dtype=int)\n",
    "\n",
    "modelgrid_vor = fpd.VertexGrid(**gridprops, top=top, botm=botm)\n",
    "\n",
    "#These tests are always good to perform, which ensures\n",
    "#that your grid will be mapped into a MODFLOW file without issue\n",
    "print('Grid Valid   : ',modelgrid_tri.is_valid)\n",
    "print('Grid Complete: ',modelgrid_tri.is_complete)\n",
    "\n",
    "ycross = 40\n",
    "cross_line = [(0,ycross),(100,ycross)]\n",
    "fig_vor, axs_vor, plots_vor = combined_gridplot(modelgrid_vor,cross_type=\"line\",cross_num=cross_line,vert_exag=20)\n",
    "\n",
    "xc, yc = modelgrid_vor.xcellcenters, modelgrid_vor.ycellcenters\n",
    "#This provides an inhomogeneous array that is difficult to plot\n",
    "xv, yv = modelgrid_vor.xvertices, modelgrid_vor.yvertices\n",
    "\n",
    "axs_vor[1].scatter(xc.ravel(), yc.ravel(), c=\"b\", label=\"Triangle Output, cell centers\")\n",
    "#TODO: Other method?\n",
    "#axs_vor[1].scatter(xv, yv, c=\"r\", label=\"cell vertices\")\n",
    "plt.legend(loc=0);"
   ]
  },
  {
   "cell_type": "markdown",
   "id": "e72bd37c-36ca-482f-afd5-c8884d42a9ed",
   "metadata": {
    "editable": true,
    "slideshow": {
     "slide_type": ""
    },
    "tags": []
   },
   "source": [
    "## Quadtree Grids\n",
    "\n",
    "Quadtree grids start from a regular rectangular grid, and subdivide cells by halving in both dimensions, producing 4 new cells (creating new \"quads\") near refinement features. In the example below, we start from the modelgrid generated at the beginning of this code `modelgrid_reg`, and then define refinement features using points, lines, or polygons. Beyond specifying the area of refinement, you must also define the level of refinement required in the vicinity of the feature.\n",
    "\n",
    "To create quadtree grids, you should use the FloPy hooks into `Gridgen`, which is an executable that was downloaded along with MOFLOW. Inputs to `Gridgen` can be in the form of user-specied coordinates, or can be pulled from GIS-based shapefiles."
   ]
  },
  {
   "cell_type": "code",
   "execution_count": null,
   "id": "c21cf808-108f-4c51-bca9-a79aff283e6f",
   "metadata": {},
   "outputs": [],
   "source": [
    "workspace = os.path.join('.','nboutput')\n",
    "ggExeName = os.path.join('.','bin','gridgen')\n",
    "\n",
    "#To use Gridgen in FloPy, you must tell it where to work with files and where the gridgen executable is stored.\n",
    "g = Gridgen(modelgrid_reg, model_ws=workspace,exe_name=ggExeName)\n",
    "\n",
    "#Refine around points example\n",
    "x = [920, 200]\n",
    "y = [350, 250]\n",
    "wells = list(zip(x, y))\n",
    "g.add_refinement_features(wells, \"point\", 4, range(nlay))\n",
    "\n",
    "#Refine around line example\n",
    "river = [[(-20, 10), (60, 60), (100,500)]]\n",
    "g.add_refinement_features(river, \"line\", 3, range(nlay))\n",
    "\n",
    "#Refine around \n",
    "adpoly = [[[(400, 0), (400, 200), (600, 200), (600, 0), (400, 0)]]]\n",
    "g.add_refinement_features(adpoly, \"polygon\", 4, range(nlay))\n",
    "\n",
    "g.build(verbose=False)\n",
    "\n",
    "gvert = g.get_gridprops_vertexgrid()\n",
    "modelgrid_v = flopy.discretization.VertexGrid(**gvert)\n",
    "combined_gridplot(modelgrid_v,cross_type=\"line\",cross_num=[[0, 200],[1000,200]])\n"
   ]
  },
  {
   "attachments": {},
   "cell_type": "markdown",
   "id": "13b70f03-0db5-41f6-9852-c1e19ac4bf9c",
   "metadata": {
    "editable": true,
    "slideshow": {
     "slide_type": ""
    },
    "tags": []
   },
   "source": [
    "# Parent-Child grids with LGR\n",
    "\n",
    "A method developed for creating MODFLOW simulations that avoid the superflous refined cells caused by plaid grids is through the use of parent and child grids. In a parent-child setup, a parent model is created with a coarse level of rectangular discretization, and a child model with a finer level of rectangular discretization is inset within the parent model.\n",
    "\n",
    "In earlier versions of MODFLOW, these grids were treated as two separate models that were solved quasi-independently and then linked through heads and fluxes at the boundaries between the two models using the [LGR (Local Grid Refinement) capability](https://pubs.usgs.gov/publication/tm6A44). This capability has been largely obviated by the flexibility of MODFLOW 6, which allows unstructured grids and also allows coupling between any pair of models, regardless of structure.\n",
    "\n",
    "Support and documentation for developing LGR models in FloPy is limited, and **classes and functions within `flopy.utils.lgrutil` have minimal documentation, so these should be used with caution**! Limited helpful examples include:\n",
    "\n",
    "* [This example](https://flopy.readthedocs.io/en/3.4.1/Notebooks/lgr_tutorial01.html), provided as part of FloPy 3.4.1 documentation. [FloPy 3.8.2 documentation](https://flopy.readthedocs.io/en/3.8.2/tutorials.html) has removed all tutorials on LGR usage\n",
    "* [This Example by Fienen](https://doi-usgs.github.io/modflow-setup/latest/notebooks/Pleasant_lake_lgr_example.html) which requires use of the recently-created [modflow-setup](https://doi.org/10.3389/feart.2022.903965) tool. [modflow-setup documentation](https://doi-usgs.github.io/modflow-setup/index.html) provides some examples of the use of this tool, though as of 2024 the code is at version 0.5"
   ]
  },
  {
   "cell_type": "code",
   "execution_count": null,
   "id": "3fba1a7d-8878-4364-b462-6508caf3bfa4",
   "metadata": {},
   "outputs": [],
   "source": []
  }
 ],
 "metadata": {
  "kernelspec": {
   "display_name": "Python 3 (ipykernel)",
   "language": "python",
   "name": "python3"
  },
  "language_info": {
   "codemirror_mode": {
    "name": "ipython",
    "version": 3
   },
   "file_extension": ".py",
   "mimetype": "text/x-python",
   "name": "python",
   "nbconvert_exporter": "python",
   "pygments_lexer": "ipython3",
   "version": "3.9.20"
  }
 },
 "nbformat": 4,
 "nbformat_minor": 5
}
