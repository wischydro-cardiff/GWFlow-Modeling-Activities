{
 "cells": [
  {
   "cell_type": "markdown",
   "id": "22b6f157-2812-441f-9e0c-b4f6b6635281",
   "metadata": {
    "editable": true,
    "slideshow": {
     "slide_type": ""
    },
    "tags": []
   },
   "source": [
    "# Data \"Munging\""
   ]
  },
  {
   "cell_type": "markdown",
   "id": "88cfa442-0d54-4d88-8cff-59cd98623dcc",
   "metadata": {
    "editable": true,
    "slideshow": {
     "slide_type": ""
    },
    "tags": []
   },
   "source": [
    "Inputs to MODFLOW must be specified using the parameterization and methods described in each package's documentation. \n",
    "In a few cases, the data needs of MODFLOW will match very well with a pre-defined data source. For example:\n",
    "* The top of MODFLOW layer 1 (FloPy Layer 0) is often treated as the land surface, which can be pulled directly from DEM data or interpolated with reasonable ease\n",
    "* The bottom of the last MODFLOW layer is often treated as a no-flow boundary representing low-permeability bedrock. This can often be interpolated from well records or geophysical data.\n",
    "\n",
    "In many cases, though, the inputs needed by stress MODFLOW must be converted, created, or otherwise [\"munged\"](https://en.wikipedia.org/wiki/Mung_(computer_term)) from existing data sources. For the purposes of MODFLOW, data munging steps often include:\n",
    "* Importing or downloading data from the most reliable available source, and mapping the data onto the defined MODFLOW grid\n",
    "* Transforming data to appropriate coordinate reference systems / EPSG codes\n",
    "* Interpolating data or removing \"no data\" values to deal with data gaps\n",
    "* Averaging or summing data to appropriate timesteps used within the MODFLOW model\n",
    "\n",
    "This notebook demonstrates some aspects of data munging. The notebook is heavily based on a workbook from the [Python for Hydrology workshop](https://github.com/DOI-USGS/python-for-hydrology/tree/main) offered by Mike Fienen and others at the USGS."
   ]
  },
  {
   "cell_type": "markdown",
   "id": "06cd2c45-8200-41c7-915e-4a2932fb6732",
   "metadata": {
    "editable": true,
    "slideshow": {
     "slide_type": ""
    },
    "tags": []
   },
   "source": [
    "## Learning Objectives"
   ]
  },
  {
   "cell_type": "markdown",
   "id": "45d17d00-af21-4693-89af-12a352834587",
   "metadata": {
    "editable": true,
    "slideshow": {
     "slide_type": ""
    },
    "tags": []
   },
   "source": [
    "After you have read and run this notebook, you should be able to:\n",
    "* Convert between coordinate systems with GeoPandas\n",
    "* Use available Python and Numpy tools to interpolate / extrapolate or replaced data as necessary\n"
   ]
  },
  {
   "cell_type": "markdown",
   "id": "e3d6e43a-b72b-4000-a298-984267639b3a",
   "metadata": {
    "editable": true,
    "slideshow": {
     "slide_type": ""
    },
    "tags": []
   },
   "source": [
    "## Initial Setup"
   ]
  },
  {
   "cell_type": "markdown",
   "id": "e9bb61d9-d393-42a2-a8ff-dec61d4c51a7",
   "metadata": {
    "editable": true,
    "slideshow": {
     "slide_type": ""
    },
    "tags": []
   },
   "source": [
    "As usual, we will import all necessary packages used in this workbook first."
   ]
  },
  {
   "cell_type": "code",
   "execution_count": 1,
   "id": "72833c87",
   "metadata": {},
   "outputs": [],
   "source": [
    "import flopy\n",
    "import flopy.utils as fpu\n",
    "import flopy.discretization as fpd\n",
    "\n",
    "from flopy.utils.triangle import Triangle\n",
    "from flopy.utils.voronoi import VoronoiGrid\n",
    "from flopy.utils.gridgen import Gridgen\n",
    "from flopy.utils import GridIntersect, Raster\n",
    "\n",
    "import numpy as np\n",
    "import matplotlib.pyplot as plt\n",
    "import pandas as pd\n",
    "import geopandas as gpd\n",
    "import os\n",
    "\n",
    "data_path = os.path.join('.','nbinput','sagehen_munging')\n",
    "model_path = os.path.join('.','models','sagehen_munging')\n"
   ]
  },
  {
   "cell_type": "markdown",
   "id": "cb13f43f-240a-483e-84df-31de009bf6d8",
   "metadata": {},
   "source": [
    "# Example of the Sagehen Creek"
   ]
  },
  {
   "cell_type": "markdown",
   "id": "8547a25a-54d0-4d72-b1ab-55968918f2bb",
   "metadata": {},
   "source": [
    "The code below demonstrates several aspects of data munging applied to generate a model for Sagehen Creek near Truckee, CA.\n",
    "The modeler in this case has chosen to use the watershed boundaries for the stream gage found here: [USGS gage 10343500](https://waterdata.usgs.gov/ca/nwis/uv/?site_no=10343500&PARAmeter_cd=00065,00060) "
   ]
  },
  {
   "cell_type": "markdown",
   "id": "5a9587b6-c7f9-4c40-8db7-0fc2e2fb7962",
   "metadata": {},
   "source": [
    "## Munge 1: Importing, viewing, and modifying shapefile CRSs to define an active area"
   ]
  },
  {
   "cell_type": "markdown",
   "id": "a0b278ff-028b-41ed-92f4-02adf83280f2",
   "metadata": {},
   "source": [
    "In this part of the lesson we will intersect geospatial data with a modelgrid and begin building a simple adaptation of the Sagehen Creek model, near Truckee, CA. While building this model, we'll work with shapefile and raster data. As we build the model FloPy's intersection capabilities will be presented.\n",
    "\n",
    "Let's start by getting the basin boundary. For the Sagehen Creek model, we're interested in the contributing area for [USGS gage 10343500](https://waterdata.usgs.gov/ca/nwis/uv/?site_no=10343500&PARAmeter_cd=00065,00060) "
   ]
  },
  {
   "cell_type": "code",
   "execution_count": 2,
   "id": "014f4da6",
   "metadata": {},
   "outputs": [
    {
     "data": {
      "text/plain": [
       "<Geographic 2D CRS: EPSG:4326>\n",
       "Name: WGS 84\n",
       "Axis Info [ellipsoidal]:\n",
       "- Lat[north]: Geodetic latitude (degree)\n",
       "- Lon[east]: Geodetic longitude (degree)\n",
       "Area of Use:\n",
       "- name: World.\n",
       "- bounds: (-180.0, -90.0, 180.0, 90.0)\n",
       "Datum: World Geodetic System 1984 ensemble\n",
       "- Ellipsoid: WGS 84\n",
       "- Prime Meridian: Greenwich"
      ]
     },
     "execution_count": 2,
     "metadata": {},
     "output_type": "execute_result"
    },
    {
     "data": {
      "image/png": "[encoded data removed]",
      "text/plain": [
       "<Figure size 640x480 with 1 Axes>"
      ]
     },
     "metadata": {},
     "output_type": "display_data"
    }
   ],
   "source": [
    "#Set the number of the station manually (not included in GIS shapefile)\n",
    "station_id = \"10343500\"\n",
    "#Define the Path to the shapefile\n",
    "basinfile = os.path.join(data_path,\"sagehen_basin.shp\")\n",
    "#Read the shapefile using geopandas\n",
    "basin = gpd.read_file(basinfile)\n",
    "#Set the identifier / key used by geopandas so that there's some record of where this data is associated with\n",
    "basin = basin.set_index(\"identifier\")\n",
    "#Display the basin and the coordinate reference system information\n",
    "basin.plot()\n",
    "basin.crs"
   ]
  },
  {
   "cell_type": "markdown",
   "id": "428b1d96",
   "metadata": {},
   "source": [
    "MODFLOW models must always be specified in terms of defined length units and time units. Since this model is represented in degrees (which are not a length unit), we need to perform a coordinate system transformation.\n",
    "\n",
    "This is accomplished for this case using the `.to_crs()` method supplied within GeoPandas. We can double-check that the epsg code we have chosen is a reasonable transformation by looking at the crs information after transforming.\n",
    "\n",
    "**Because we are inherently defining the length units here as meters, this should be documented in our MODFLOW model later**"
   ]
  },
  {
   "cell_type": "code",
   "execution_count": 3,
   "id": "f0c0b47b",
   "metadata": {},
   "outputs": [
    {
     "data": {
      "text/plain": [
       "<Projected CRS: EPSG:26911>\n",
       "Name: NAD83 / UTM zone 11N\n",
       "Axis Info [cartesian]:\n",
       "- E[east]: Easting (metre)\n",
       "- N[north]: Northing (metre)\n",
       "Area of Use:\n",
       "- name: North America - between 120°W and 114°W - onshore and offshore. Canada - Alberta; British Columbia; Northwest Territories; Nunavut. United States (USA) - California; Idaho; Nevada, Oregon; Washington.\n",
       "- bounds: (-120.0, 30.88, -114.0, 83.5)\n",
       "Coordinate Operation:\n",
       "- name: UTM zone 11N\n",
       "- method: Transverse Mercator\n",
       "Datum: North American Datum 1983\n",
       "- Ellipsoid: GRS 1980\n",
       "- Prime Meridian: Greenwich"
      ]
     },
     "execution_count": 3,
     "metadata": {},
     "output_type": "execute_result"
    },
    {
     "data": {
      "image/png": "[encoded data removed]",
      "text/plain": [
       "<Figure size 640x480 with 1 Axes>"
      ]
     },
     "metadata": {},
     "output_type": "display_data"
    }
   ],
   "source": [
    "epsg = 26911  # NAD83 utm zone 11 N, epsg: 26911\n",
    "basin = basin.to_crs(epsg=epsg)\n",
    "basin.plot()\n",
    "basin.crs"
   ]
  },
  {
   "cell_type": "markdown",
   "id": "30620402",
   "metadata": {},
   "source": [
    "GeoPandas' `.bounds`, property allows one to find the extent of the region covered by each shape in the shapefile, which provides useful information for defining the model grid"
   ]
  },
  {
   "cell_type": "code",
   "execution_count": 4,
   "id": "26693e3c",
   "metadata": {},
   "outputs": [
    {
     "name": "stdout",
     "output_type": "stream",
     "text": [
      "                     minx          miny           maxx          maxy\n",
      "identifier                                                          \n",
      "10343500    214358.156816  4.366734e+06  221497.087128  4.373287e+06\n"
     ]
    },
    {
     "ename": "NameError",
     "evalue": "name 'cellsize' is not defined",
     "output_type": "error",
     "traceback": [
      "\u001b[0;31m---------------------------------------------------------------------------\u001b[0m",
      "\u001b[0;31mNameError\u001b[0m                                 Traceback (most recent call last)",
      "Cell \u001b[0;32mIn[4], line 3\u001b[0m\n\u001b[1;32m      1\u001b[0m bounds \u001b[38;5;241m=\u001b[39m basin\u001b[38;5;241m.\u001b[39mbounds\n\u001b[1;32m      2\u001b[0m \u001b[38;5;28mprint\u001b[39m(bounds)\n\u001b[0;32m----> 3\u001b[0m xmin \u001b[38;5;241m=\u001b[39m bounds\u001b[38;5;241m.\u001b[39mloc[station_id, \u001b[38;5;124m\"\u001b[39m\u001b[38;5;124mminx\u001b[39m\u001b[38;5;124m\"\u001b[39m] \u001b[38;5;241m-\u001b[39m (\u001b[43mcellsize\u001b[49m \u001b[38;5;241m*\u001b[39m \u001b[38;5;241m1\u001b[39m)\n\u001b[1;32m      4\u001b[0m ymin \u001b[38;5;241m=\u001b[39m bounds\u001b[38;5;241m.\u001b[39mloc[station_id, \u001b[38;5;124m\"\u001b[39m\u001b[38;5;124mminy\u001b[39m\u001b[38;5;124m\"\u001b[39m] \u001b[38;5;241m-\u001b[39m (cellsize \u001b[38;5;241m*\u001b[39m \u001b[38;5;241m1\u001b[39m)\n\u001b[1;32m      5\u001b[0m xmax \u001b[38;5;241m=\u001b[39m bounds\u001b[38;5;241m.\u001b[39mloc[station_id, \u001b[38;5;124m\"\u001b[39m\u001b[38;5;124mmaxx\u001b[39m\u001b[38;5;124m\"\u001b[39m] \u001b[38;5;241m+\u001b[39m (cellsize \u001b[38;5;241m*\u001b[39m \u001b[38;5;241m1\u001b[39m)\n",
      "\u001b[0;31mNameError\u001b[0m: name 'cellsize' is not defined"
     ]
    }
   ],
   "source": [
    "bounds = basin.bounds\n",
    "print(bounds)\n",
    "xmin = bounds.loc[station_id, \"minx\"] - (cellsize * 1)\n",
    "ymin = bounds.loc[station_id, \"miny\"] - (cellsize * 1)\n",
    "xmax = bounds.loc[station_id, \"maxx\"] + (cellsize * 1)\n",
    "ymax = bounds.loc[station_id, \"maxy\"] + (cellsize * 1)"
   ]
  },
  {
   "cell_type": "markdown",
   "id": "88e9ff72",
   "metadata": {},
   "source": [
    "We now have the information necessary to munge the data into the format that FloPy / MODFLOW want for at least a 1-layer structured grid.\n",
    "\n",
    "Recall, MODFLOW defines the grid in terms of:\n",
    "* The lower-left corner, which represents the minimum values for both x and y dimensions.\n",
    "* The number of cells in each direction\n",
    "* The size of the cells in each direction\n",
    "\n",
    "So, we munge the information from the shapefile bounds in order to supply the inputs in the format that MODFLOW wants, assuming a cell size of 90 meters.\n",
    "**At this point, it is a best practice to document the length units that are used in the CRS**\n",
    "\n",
    "Lastly, to use the shapefile for its original purpose, we want to deactivate cells that do not fall within the basin.\n",
    "Recall that, in MODFLOW the `ibound` or `idomain` property (in the case of MODFLOW 6) is what's used to determine active cells. From the MODFLOW 6 documentation:\n",
    "\n",
    "![MODFLOW6_doc_idomain](./doc_materials/MODFLOW6_doc_idomain.png 'MODFLOW 6 documentation of the idomain variable')\n",
    "\n",
    "\n",
    "We use the utility `GridIntersect`, as demonstrated earlier, to intersect points, polygons, and polylines with modelgrid objects.The basin boundary will be intersected with the modelgrid to create the active and inactive extents of the model. The `.intersect()` method returns a numpy recarry with cellids, vertices, cell areas, and shapely polygon objects."
   ]
  },
  {
   "cell_type": "code",
   "execution_count": null,
   "id": "e7de4cad",
   "metadata": {},
   "outputs": [],
   "source": [
    "cellsize = 90  # 90 m grid\n",
    "nlay = 1\n",
    "lenuni = 2\n",
    "\n",
    "east_length = xmax - xmin\n",
    "north_length = ymax - ymin\n",
    "\n",
    "nrow = np.ceil(north_length / cellsize).astype(int)\n",
    "ncol = np.ceil(east_length / cellsize).astype(int)\n",
    "delr = np.full((ncol,), cellsize)\n",
    "delc = np.full((nrow,), cellsize)\n",
    "\n",
    "# Set the top and bottom of the model as constant for now.\n",
    "top = np.full((nrow, ncol), 100)\n",
    "botm = np.full((nlay, nrow, ncol), 0)\n",
    "\n",
    "modelgrid = flopy.discretization.StructuredGrid(\n",
    "    delc,\n",
    "    delr,\n",
    "    nrow=nrow,\n",
    "    ncol=ncol,\n",
    "    nlay=nlay,\n",
    "    top=top,\n",
    "    botm=botm,\n",
    "    xoff=xmin,\n",
    "    yoff=ymin,\n",
    "    crs=epsg,\n",
    "    lenuni=lenuni,\n",
    "    idomain=ibound\n",
    ")\n",
    "\n",
    "print(modelgrid)\n",
    "print('Is Complete?: ', modelgrid.is_complete)\n",
    "fig, ax = plt.subplots(figsize=(8, 8))\n",
    "#Use FloPy to plot everything about the modelgrid\n",
    "pmv = flopy.plot.PlotMapView(modelgrid=modelgrid, ax=ax)\n",
    "pmv.plot_ibound()\n",
    "pmv.plot_grid()\n",
    "#Use in-built plot feature of GeoPandas to plot the shapefile\n",
    "basin.plot(ax=ax)\n",
    "\n",
    "#Use the GridIntersect tool to find which cells overlap with the basin shapefile\n",
    "gx = GridIntersect(modelgrid)\n",
    "#TODO: Investigate this function and its options.\n",
    "result = gx.intersect(basin.loc[station_id, \"geometry\"])\n",
    "result.cellids\n",
    "#We start with all cells inactive, and activate only those cells that fall within the intersection\n",
    "ibound = np.zeros((nlay, nrow, ncol))\n",
    "i, j = zip(*result.cellids)\n",
    "ibound[:, i, j] = 1"
   ]
  },
  {
   "cell_type": "markdown",
   "id": "26aa446c-5ee4-4513-9b6d-8da7c9e24c9d",
   "metadata": {},
   "source": [
    "## Munge 2: Interpolating single-band raster (DEM) onto the modelgrid"
   ]
  },
  {
   "cell_type": "markdown",
   "id": "dc64cc3f-f488-48b2-ac79-3c6f1a63ce63",
   "metadata": {},
   "source": [
    "Raster datasets are also associated with a specific coordinate reference system, and may also need to be rotated / translated into different CRSs. The simplest type of raster is a single-band raster that only contains one datapoint per pixel (e.g., DEMs)\n",
    "\n",
    "In this second step, we use the `.to_crs()` method of the raster class to re-map the raster data into the coordinate system we're using. This is then mapped onto the modelgrid using the `.resample_to_grid()` method."
   ]
  },
  {
   "cell_type": "code",
   "execution_count": null,
   "id": "9be5182b",
   "metadata": {},
   "outputs": [],
   "source": [
    "dem_file = os.path.join(data_path,\"dem_deg.tif\")\n",
    "raster = Raster.load(dem_file)\n",
    "print(raster.crs)\n",
    "raster.plot()\n",
    "\n",
    "raster_trans = raster.to_crs(epsg=epsg)\n",
    "print(raster_trans.crs)\n",
    "raster_trans.plot()\n",
    "\n",
    "#TODO: Investigate different options that can be used with this function\n",
    "dem_data = raster_trans.resample_to_grid(\n",
    "    modelgrid,\n",
    "    band=raster_trans.bands[0],\n",
    "    method=\"nearest\"\n",
    ")\n",
    "\n",
    "fig, ax = plt.subplots(figsize=(10, 8)) \n",
    "pmv = flopy.plot.PlotMapView(ax=ax, modelgrid=modelgrid)\n",
    "\n",
    "pmv.plot_grid(lw=0.5, zorder=3)\n",
    "pc = pmv.plot_array(dem_data, alpha=0.75, zorder=1, cmap=\"viridis\")\n",
    "pmv.plot_array(ibound, masked_values=[1], cmap=\"magma\", zorder=2)\n",
    "plt.colorbar(pc, shrink=0.7);\n"
   ]
  },
  {
   "cell_type": "markdown",
   "id": "3656ed01-5ffe-4f4d-9c4f-aab62e3f83ea",
   "metadata": {},
   "source": [
    "## Munge 3: Importing and translating multi-band raster datasets\n",
    "\n",
    "Stresses that apply over the grid and vary with time can be stored in multi-band rasters. The code below shows an example where monthly potential evapotranspiration (PET) and precipitation are loaded from a multi-band raster.\n",
    "\n",
    "Most time-series FloPy inputs are represented through dictionary (dict) datatypes, where the key represents the stress period and the value represents the data defining the stress. This code below introduces another complication in that the rasters contain \"no data\" values that would be misinterpreted if pulled directly into MODFLOW.\n",
    "\n",
    "You must know what units your raster is in (this information is not stored in the raster data structure). For the data used here, we know that the units are mm/day. We plan to create a model in m/day, so now is a good time to perform the units conversion"
   ]
  },
  {
   "cell_type": "code",
   "execution_count": null,
   "id": "a5c95097-3786-4720-8537-a8498335b017",
   "metadata": {},
   "outputs": [],
   "source": [
    "prcp = os.path.join(data_path,\"prcp.tif\")\n",
    "\n",
    "#Double-check the CRS for the data\n",
    "prcp_rstr = flopy.utils.Raster.load(prcp)\n",
    "print(prcp_rstr.crs)\n",
    "\n",
    "#Check to see if there are any nodata values in the raster\n",
    "print('No data value:', prcp_rstr.nodatavals)\n",
    "print('Bands: ', prcp_rstr.bands)\n",
    "\n",
    "#Most time-series data that goes into flopy should be supplied as a dict where the\n",
    "#key is the stress period and the value is the data for that stress period\n",
    "#The prcp_monthly dict created below \n",
    "prcp_monthly = {}\n",
    "for band in prcp_rstr.bands:\n",
    "    pr_month = prcp_rstr.resample_to_grid(\n",
    "        modelgrid,\n",
    "        band,\n",
    "        method=\"nearest\"\n",
    "    )\n",
    "    #In this case, we are assuming that if there is no data for a given pixel, we should assume there was\n",
    "    #no precipitation. This is a user choice!\n",
    "    pr_month[pr_month == prcp_rstr.nodatavals[0]] = 0\n",
    "    #And now, we are ensuring that we have converted the units to m/day\n",
    "    prcp_monthly[band - 1] = t*0.001\n"
   ]
  },
  {
   "cell_type": "code",
   "execution_count": null,
   "id": "75f736fe-865d-45be-9cf6-15ae1f132e9c",
   "metadata": {},
   "outputs": [],
   "source": [
    "pet = os.path.join(data_path,\"pet.tif\")\n",
    "\n",
    "#Double-check the CRS for the data\n",
    "pet_rstr = flopy.utils.Raster.load(prcp)\n",
    "print(pet_rstr.crs)\n",
    "\n",
    "#Check to see if there are any nodata values in the raster\n",
    "print('No data value:', pet_rstr.nodatavals)\n",
    "print('Bands: ', pet_rstr.bands)\n",
    "\n",
    "#Most time-series data that goes into flopy should be supplied as a dict where the\n",
    "#key is the stress period and the value is the data for that stress period\n",
    "#The prcp_monthly dict created below \n",
    "pet_monthly = {}\n",
    "for band in pet_rstr.bands:\n",
    "    pet_month = pet_rstr.resample_to_grid(\n",
    "        modelgrid,\n",
    "        band,\n",
    "        method=\"nearest\"\n",
    "    )\n",
    "    #In this case, we are assuming that if there is no data for a given pixel, we should assume there was\n",
    "    #no precipitation. This is a user choice!\n",
    "    pet_month[pet_month == pet_rstr.nodatavals[0]] = 0\n",
    "    #And now, we are ensuring that we have converted the units to m/day\n",
    "    pet_monthly[band - 1] = t*0.001"
   ]
  },
  {
   "cell_type": "code",
   "execution_count": null,
   "id": "8b27f5b6-104d-485d-be9c-acc7ad00818c",
   "metadata": {},
   "outputs": [],
   "source": [
    "#Also we will import a raster of saturated hydraulic conductivity\n",
    "ksat_raster = os.path.join(data_path,\"ksat.img\")\n",
    "rstr = flopy.utils.Raster.load(ksat_raster)\n",
    "vks = rstr.resample_to_grid(\n",
    "    modelgrid,\n",
    "    rstr.bands[0],\n",
    "    method=\"nearest\"\n",
    ")\n",
    "vks[vks == rstr.nodatavals[0]] = np.nan\n",
    "vks[np.isnan(vks)] = np.nanmean(vks)\n",
    "vks *= 0.0864  # um per sec to m per day\n",
    "ims = plt.imshow(vks)\n",
    "plt.colorbar(shrink=0.6); "
   ]
  },
  {
   "cell_type": "code",
   "execution_count": null,
   "id": "d4b2588f-598b-4ff9-959e-712b7326fd0f",
   "metadata": {},
   "outputs": [],
   "source": [
    "#Create all of the standard packages needed for every MODFLOW model\n",
    "sim = flopy.mf6.MFSimulation(\"sagehen\", sim_ws=model_path)\n",
    "ims = flopy.mf6.ModflowIms(sim, complexity=\"COMPLEX\")\n",
    "nper = 12\n",
    "perlen = (31, 28, 31, 30, 31, 30, 31, 31, 30, 31, 30, 31)\n",
    "period_data = [(i, i, 1.0) for i in perlen]\n",
    "tdis = flopy.mf6.ModflowTdis(\n",
    "    sim,\n",
    "    nper=12,\n",
    "    perioddata=period_data,\n",
    "    time_units=\"days\"\n",
    ")\n",
    "\n",
    "gwf = flopy.mf6.ModflowGwf(\n",
    "    sim,\n",
    "    modelname='sagehen',\n",
    "    save_flows=True,\n",
    ")\n",
    "\n",
    "modelgrid = gwf.modelgrid\n",
    "modelgrid.set_coord_info(xoff=xmin, yoff=ymin)\n",
    "\n",
    "# add the dis package\n",
    "botm = np.expand_dims(dem_data, axis=0) - 200\n",
    "dis = flopy.mf6.ModflowGwfdis(\n",
    "    gwf,\n",
    "    nrow=nrow,\n",
    "    ncol=ncol,\n",
    "    delr=modelgrid.delr,\n",
    "    delc=modelgrid.delc,\n",
    "    top=dem_data,\n",
    "    botm=botm,\n",
    "    idomain=ibound\n",
    ")\n",
    "\n",
    "ic = flopy.mf6.ModflowGwfic(gwf, strt=dem_data - 5)\n",
    "gwf\n",
    "\n",
    "npf = flopy.mf6.ModflowGwfnpf(\n",
    "    gwf,\n",
    "    save_flows=True,\n",
    "    save_specific_discharge=True,\n",
    "    k=0.022  # value from Larsen et al, 2022\n",
    ")\n",
    "\n",
    "sto = flopy.mf6.ModflowGwfsto(\n",
    "    gwf,\n",
    "    save_flows=True,\n",
    "    iconvert=1,\n",
    "    ss=1e-07,  # values from Larsen et al, 2022\n",
    "    sy=0.2\n",
    ")\n",
    "\n",
    "budget_file = \"sagehen.cbc\"\n",
    "head_file = \"sagehen.hds\"\n",
    "saverecord = {i: [(\"HEAD\", \"ALL\"), (\"BUDGET\", \"ALL\")] for i in range(gwf.nper)}\n",
    "oc = flopy.mf6.ModflowGwfoc(\n",
    "    gwf,\n",
    "    budget_filerecord=budget_file,\n",
    "    head_filerecord=head_file,\n",
    "    saverecord=saverecord,\n",
    ")"
   ]
  },
  {
   "cell_type": "code",
   "execution_count": null,
   "id": "cb2afbb2-e1fa-441b-8aca-937019a85507",
   "metadata": {},
   "outputs": [],
   "source": [
    "package_data = []\n",
    "cnt = 0\n",
    "for i in range(modelgrid.nrow):\n",
    "    for j in range(modelgrid.ncol):\n",
    "        if modelgrid.idomain[0, i, j] == 0:\n",
    "            continue\n",
    "        \n",
    "        rec = (cnt, (0, i, j), 1, 0, 1.0, vks[i, j], 0.1, 0.38, 0.1, 3.5)\n",
    "        package_data.append(rec)\n",
    "        cnt += 1\n",
    "\n",
    "period_data = {}\n",
    "for per in range(gwf.nper):\n",
    "    spd = []\n",
    "    cnt = 0\n",
    "    for i in range(modelgrid.nrow * modelgrid.ncol):\n",
    "        if modelgrid.idomain.ravel()[i] == 0:\n",
    "            continue\n",
    "        rec = (cnt, prcp_monthly[per].ravel()[i], pet_monthly[per].ravel()[i], 0.5, 0.2, -1.1, -75, 1.0)\n",
    "        spd.append(rec)\n",
    "        cnt += 1\n",
    "        \n",
    "    period_data[per] = spd"
   ]
  },
  {
   "cell_type": "markdown",
   "id": "af094113",
   "metadata": {},
   "source": [
    "#### Creating a UZF package \n",
    "\n",
    "Now that we have some climate and soils data we can create a UZF package from it and add it to the model!\n",
    "\n",
    "Create the package data and the stress period data info for flopy\n",
    "\n",
    "For the package data we are making some basic assumptions. `landflag=1` and `ivertcon=0` meaning that the cell is at the surface and is not connected to an underlying uzf cell. The `surfdep=1.0` which means that we have a surface depression (variable land surface) of 1 meter for all cells. `thtr=0.1`, `thts=0.38` meaning the soil is fairly porous and transmits water readily. `thti=0.1` which means initial conditions are residual water content. And finally a brooks-corey epsilon `eps=3.5`. \n",
    "\n",
    "For the stress period data, some additional assumptions are made. `extdp=0.5` which means that the evapotranspiration extinction depth is 0.5 m below the surface. `extwc=0.2` which means that the extinction water content (low end of field capacity) is 0.2 (unitless or m^3/m^3). All other values are placeholders and are not used with the current simulation options.  \n",
    "\n",
    "For more information about the UZF input options please see [UZF: online guide to MF6](https://modflow6.readthedocs.io/en/latest/_mf6io/gwf-uzf.html)"
   ]
  },
  {
   "cell_type": "code",
   "execution_count": null,
   "id": "6283510f",
   "metadata": {},
   "outputs": [],
   "source": [
    "#Now is where we have to start looking into what the UZF package wants for inputs, and how to provide it through FloPy\n",
    "\n",
    "modelgrid = gwf.modelgrid\n",
    "modelgrid.set_coord_info(xoff=xmin, yoff=ymin)\n",
    "package_data = []\n",
    "cnt = 0\n",
    "for i in range(modelgrid.nrow):\n",
    "    for j in range(modelgrid.ncol):\n",
    "        if modelgrid.idomain[0, i, j] == 0:\n",
    "            continue\n",
    "        # ifno, cellid, landflag, ivertcon, surfdep, vks, thtr, thts, thti, eps\n",
    "        rec = (cnt, (0, i, j), 1, 0, 1.0, vks[i, j], 0.1, 0.38, 0.1, 3.5)\n",
    "        package_data.append(rec)\n",
    "        cnt += 1\n",
    "\n",
    "period_data = {}\n",
    "for per in range(gwf.nper):\n",
    "    spd = []\n",
    "    cnt = 0\n",
    "    for i in range(modelgrid.nrow * modelgrid.ncol):\n",
    "        if modelgrid.idomain.ravel()[i] == 0:\n",
    "            continue\n",
    "        # ifno, finf, pet, extdp, extwc, [ha, hroot, rootact] in record, but not simulated\n",
    "        rec = (cnt, prcp_monthly[per].ravel()[i], pet_monthly[per].ravel()[i], 0.5, 0.2, -1.1, -75, 1.0)\n",
    "        spd.append(rec)\n",
    "        cnt += 1\n",
    "        \n",
    "    period_data[per] = spd\n"
   ]
  },
  {
   "cell_type": "code",
   "execution_count": null,
   "id": "d14f6df9",
   "metadata": {},
   "outputs": [],
   "source": [
    "uzf = flopy.mf6.ModflowGwfuzf(\n",
    "    gwf,\n",
    "    simulate_et=True,\n",
    "    ntrailwaves=15,\n",
    "    nwavesets=100,\n",
    "    packagedata=package_data,\n",
    "    perioddata=period_data,\n",
    "    unsat_etwc=True,\n",
    "    linear_gwet=True,\n",
    "    simulate_gwseep=True\n",
    ")"
   ]
  },
  {
   "cell_type": "markdown",
   "id": "6bc25d48",
   "metadata": {},
   "source": [
    "### Now to create a simple river package from NHD flowlines \n",
    "\n",
    "We can use the intersection routines that have been presented thus far to create a river package for the sagehen model. "
   ]
  },
  {
   "cell_type": "markdown",
   "id": "44e4060c",
   "metadata": {},
   "source": [
    "The first step is load the NHD flowlines for the basin"
   ]
  },
  {
   "cell_type": "code",
   "execution_count": null,
   "id": "513512bb",
   "metadata": {},
   "outputs": [],
   "source": [
    "flow_lines = os.path.join(data_path,\"sagehen_nhd.shp\")\n",
    "flw_all = gpd.read_file(flow_lines)\n",
    "flw_all.plot();"
   ]
  },
  {
   "cell_type": "markdown",
   "id": "30e6d2f5",
   "metadata": {},
   "source": [
    "Excellent! Now we have all of the flow lines for the Sagehen watershed. But what if we want to identify the main stem? "
   ]
  },
  {
   "cell_type": "code",
   "execution_count": null,
   "id": "87b4a83b",
   "metadata": {},
   "outputs": [],
   "source": [
    "flow_lines = os.path.join(data_path,\"sagehen_main_nhd.shp\")\n",
    "flw_main = gpd.read_file(flow_lines)\n",
    "flw_main.plot()\n",
    "flw_main"
   ]
  },
  {
   "cell_type": "markdown",
   "id": "fdf6a82e",
   "metadata": {},
   "source": [
    "Great! Now we can start processing data to create a river package. We can first identify our main stem cells."
   ]
  },
  {
   "cell_type": "code",
   "execution_count": null,
   "id": "bc236aeb",
   "metadata": {},
   "outputs": [],
   "source": [
    "main_stem = []\n",
    "gx = GridIntersect(modelgrid)\n",
    "for iloc, row in flw_main.iterrows():\n",
    "    results = gx.intersect(row.geometry)\n",
    "    main_stem += list(results.cellids)\n",
    "main_stem[0:5]"
   ]
  },
  {
   "cell_type": "markdown",
   "id": "747a7c97",
   "metadata": {},
   "source": [
    "## Class Exercise:\n",
    "\n",
    "Use GridIntersect to create a list of tributary cells from the `flw_all` geodataframe. \n",
    "\n",
    "**Hint**\n",
    "Use the `main_stem` list to filter out cells that are associated with the main stem of the river and only store the cells that are associated with tributaries to the main stem."
   ]
  },
  {
   "cell_type": "code",
   "execution_count": null,
   "id": "4972e581",
   "metadata": {},
   "outputs": [],
   "source": []
  },
  {
   "cell_type": "markdown",
   "id": "5709f808",
   "metadata": {},
   "source": [
    "The cellids for tributaries have been stored previously, so we'll load those up and continue on.\n"
   ]
  },
  {
   "cell_type": "code",
   "execution_count": null,
   "id": "d85d59db",
   "metadata": {},
   "outputs": [],
   "source": [
    "tributaries = []\n",
    "with open(os.path.join(data_path,\"trib_cells.txt\")) as foo:\n",
    "    for line in foo:\n",
    "        t = line.strip().split(\",\")\n",
    "        tributaries.append((int(t[0]), int(t[1])))"
   ]
  },
  {
   "cell_type": "markdown",
   "id": "346df19a",
   "metadata": {},
   "source": [
    "#### We can also get daily discharge data to help calculate average monthly stages for the RIV package\n",
    "\n",
    "We'll use the `dataretrieval` package to get stage information for our model"
   ]
  },
  {
   "cell_type": "code",
   "execution_count": null,
   "id": "da9ce21b-dc4a-40be-b5c0-406ab4db8a42",
   "metadata": {},
   "outputs": [],
   "source": [
    "import dataretrieval.nwis as nwis\n",
    "\n",
    "gage = nwis.get_record(sites=station_id, service='iv', start=\"2023-01-01\", end=\"2023-12-31\", parameterCd=\"00065\")\n",
    "gage.to_csv(os.path.join(data_path,\"sagehen_gage_data.csv\"))"
   ]
  },
  {
   "cell_type": "code",
   "execution_count": null,
   "id": "c9f6646d-71ba-40b7-ab37-b3cf4ecf3647",
   "metadata": {},
   "outputs": [],
   "source": [
    "gage = pd.read_csv(os.path.join(data_path,\"sagehen_gage_data.csv\"))\n",
    "gage[\"datetime\"] = pd.to_datetime(gage[\"datetime\"])\n",
    "gage = gage.set_index(\"datetime\")\n",
    "\n",
    "gage.rename(columns={\"00065\": \"stage\"}, inplace=True)\n",
    "gage.stage *= 0.3284\n",
    "ax = gage.stage.plot()\n",
    "ax.set_ylabel(\"stage, in feet\")\n",
    "gage.head()"
   ]
  },
  {
   "cell_type": "markdown",
   "id": "11a7824d",
   "metadata": {},
   "source": [
    "Now we can aggregate to a mean monthly stage from 15 minute instantaneous values"
   ]
  },
  {
   "cell_type": "code",
   "execution_count": null,
   "id": "4ed1d203",
   "metadata": {},
   "outputs": [],
   "source": [
    "gage[\"month\"] = gage.index.month\n",
    "gage_mmo = gage.groupby(by=[\"month\"], as_index=False)[\"stage\"].mean()\n",
    "ax = gage_mmo.stage.plot()\n",
    "ax.set_ylabel(\"mean stage, in feet\");"
   ]
  },
  {
   "cell_type": "markdown",
   "id": "994b0757",
   "metadata": {},
   "source": [
    "### Now to create the RIV package\n"
   ]
  },
  {
   "cell_type": "code",
   "execution_count": null,
   "id": "d0d82e1f",
   "metadata": {},
   "outputs": [],
   "source": [
    "cond = 10\n",
    "rbadj = 1\n",
    "stage_adj = 0.33\n",
    "\n",
    "perioddata = {}\n",
    "for kper, row in gage_mmo.iterrows():\n",
    "    spd = []\n",
    "    for (i, j) in main_stem:\n",
    "        ctop = modelgrid.top[i, j]\n",
    "        rbed = ctop - rbadj\n",
    "        rec = ((0, i, j), row.stage + rbed, cond, rbed)\n",
    "        spd.append(rec)\n",
    "        \n",
    "    for (i, j) in tributaries:\n",
    "        ctop = modelgrid.top[i, j]\n",
    "        rbed = ctop - (rbadj / 2)\n",
    "        rec = ((0, i, j), row.stage + rbed, cond, rbed)\n",
    "        spd.append(rec)\n",
    "    \n",
    "    perioddata[kper] = spd\n",
    "\n",
    "perioddata[0][0:5]"
   ]
  },
  {
   "cell_type": "code",
   "execution_count": null,
   "id": "cadccc45",
   "metadata": {},
   "outputs": [],
   "source": [
    "riv = flopy.mf6.ModflowGwfriv(\n",
    "    gwf,\n",
    "    save_flows=True,\n",
    "    maxbound=len(perioddata[0]),\n",
    "    stress_period_data=perioddata\n",
    ")\n"
   ]
  },
  {
   "cell_type": "markdown",
   "id": "ca7a957f",
   "metadata": {},
   "source": [
    "# Testing the model"
   ]
  },
  {
   "cell_type": "code",
   "execution_count": null,
   "id": "fb26d180",
   "metadata": {},
   "outputs": [],
   "source": [
    "sim.write_simulation()\n",
    "sim.run_simulation();"
   ]
  },
  {
   "cell_type": "code",
   "execution_count": null,
   "id": "81fd5949",
   "metadata": {},
   "outputs": [],
   "source": [
    "hds = gwf.output.head()\n",
    "heads = hds.get_alldata()[-1]\n",
    "\n",
    "fig, ax = plt.subplots(figsize=(10, 8))\n",
    "pmv = flopy.plot.PlotMapView(modelgrid=modelgrid, ax=ax)\n",
    "pc = pmv.plot_array(heads, cmap='viridis', masked_values=[1e30, -1e30])\n",
    "pmv.plot_grid(lw=0.5)\n",
    "pmv.plot_inactive()\n",
    "plt.colorbar(pc, shrink=0.7)\n",
    "plt.show();"
   ]
  },
  {
   "cell_type": "code",
   "execution_count": null,
   "id": "20c39c28",
   "metadata": {},
   "outputs": [],
   "source": [
    "fig, ax = plt.subplots(figsize=(12, 8))\n",
    "ax.set_aspect(\"equal\")\n",
    "xc = flopy.plot.PlotCrossSection(modelgrid=modelgrid, ax=ax, line={\"row\": 36}, geographic_coords=True)\n",
    "pc = xc.plot_array(heads, cmap='plasma', head=heads, masked_values=[1e+30])\n",
    "xc.plot_grid(lw=0.5)\n",
    "xc.plot_inactive()\n",
    "plt.colorbar(pc, shrink=0.50)\n",
    "plt.tight_layout();"
   ]
  },
  {
   "cell_type": "code",
   "execution_count": null,
   "id": "f2b7cc47",
   "metadata": {},
   "outputs": [],
   "source": []
  }
 ],
 "metadata": {
  "kernelspec": {
   "display_name": "Python 3 (ipykernel)",
   "language": "python",
   "name": "python3"
  },
  "language_info": {
   "codemirror_mode": {
    "name": "ipython",
    "version": 3
   },
   "file_extension": ".py",
   "mimetype": "text/x-python",
   "name": "python",
   "nbconvert_exporter": "python",
   "pygments_lexer": "ipython3",
   "version": "3.9.20"
  }
 },
 "nbformat": 4,
 "nbformat_minor": 5
}
